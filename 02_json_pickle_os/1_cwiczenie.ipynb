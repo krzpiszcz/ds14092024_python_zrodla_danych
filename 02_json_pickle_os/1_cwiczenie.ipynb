{
 "cells": [
  {
   "cell_type": "markdown",
   "id": "1866258f-7776-45bc-9eb2-fb808c5b9445",
   "metadata": {},
   "source": [
    "### Wczytywanie danych w formacie json\n",
    "\n",
    "Plik `employees.json` zawiera dane o pracownikach firmy zapisane w formacie `json`. Wczytaj dane z tego pliku, a następnie wyciągnij i wyświetl informacje o pracowniku o najdłuższym stażu pracy. Dodatkowo, wyświetl listę wszystkich pracowników, którzy pracują w dziale \"IT\"."
   ]
  },
  {
   "cell_type": "code",
   "execution_count": 1,
   "id": "c11bb73e-f0cd-4aa1-af5b-e1cee066bc7a",
   "metadata": {},
   "outputs": [
    {
     "name": "stdout",
     "output_type": "stream",
     "text": [
      "{\n",
      "  \"employees\": [\n",
      "    {\n",
      "      \"name\": \"Jan Kowalski\",\n",
      "      \"department\": \"HR\",\n",
      "      \"years_of_service\": 5\n",
      "    },\n",
      "    {\n",
      "      \"name\": \"Anna Nowak\",\n",
      "      \"department\": \"IT\",\n",
      "      \"years_of_service\": 3\n",
      "    },\n",
      "    {\n",
      "      \"name\": \"Piotr WiĹ›niewski\",\n",
      "      \"department\": \"Finance\",\n",
      "      \"years_of_service\": 7\n",
      "    },\n",
      "    {\n",
      "      \"name\": \"Katarzyna WĂłjcik\",\n",
      "      \"department\": \"IT\",\n",
      "      \"years_of_service\": 6\n",
      "    },\n",
      "    {\n",
      "      \"name\": \"Tomasz Lewandowski\",\n",
      "      \"department\": \"Marketing\",\n",
      "      \"years_of_service\": 2\n",
      "    }\n",
      "  ]\n",
      "}\n",
      "\n"
     ]
    }
   ],
   "source": [
    "# Próba wczytania pliku JSON (deserializacja nie jest trywialną operacją)\n",
    "with open('employees.json') as file_obj:\n",
    "    content = file_obj.read()\n",
    "\n",
    "print(content)"
   ]
  },
  {
   "cell_type": "code",
   "execution_count": 13,
   "id": "9f58feb4-9011-48f8-9401-1c368945ef4f",
   "metadata": {},
   "outputs": [
    {
     "ename": "TypeError",
     "evalue": "string indices must be integers, not 'str'",
     "output_type": "error",
     "traceback": [
      "\u001b[1;31m---------------------------------------------------------------------------\u001b[0m",
      "\u001b[1;31mTypeError\u001b[0m                                 Traceback (most recent call last)",
      "Cell \u001b[1;32mIn[13], line 2\u001b[0m\n\u001b[0;32m      1\u001b[0m \u001b[38;5;66;03m# Próba traktowania tego napisu jakby był słownikiem mija się z celem.\u001b[39;00m\n\u001b[1;32m----> 2\u001b[0m \u001b[43mcontent\u001b[49m\u001b[43m[\u001b[49m\u001b[38;5;124;43m'\u001b[39;49m\u001b[38;5;124;43memployees\u001b[39;49m\u001b[38;5;124;43m'\u001b[39;49m\u001b[43m]\u001b[49m\n",
      "\u001b[1;31mTypeError\u001b[0m: string indices must be integers, not 'str'"
     ]
    }
   ],
   "source": [
    "# Próba traktowania tego napisu jakby był słownikiem mija się z celem.\n",
    "content['employees']"
   ]
  },
  {
   "cell_type": "code",
   "execution_count": 14,
   "id": "0ab4a8b7-c3b8-418e-900a-9b7e2dbb1210",
   "metadata": {},
   "outputs": [
    {
     "data": {
      "text/plain": [
       "str"
      ]
     },
     "execution_count": 14,
     "metadata": {},
     "output_type": "execute_result"
    }
   ],
   "source": [
    "type(content)"
   ]
  },
  {
   "cell_type": "markdown",
   "id": "7aad179b-a618-40ba-9256-04f509314391",
   "metadata": {},
   "source": [
    "### Deserializacja (dekodowanie)\n",
    "\n",
    "Zmienna `content` jest napisem. My z tego napisu chcemy otrzymać jakąś struktrę danych, która pozowli nam pracować na tych danych, a nie na napisie. Pomoże nam w tym funkcja json.loads (loads od **load s**tring)"
   ]
  },
  {
   "cell_type": "code",
   "execution_count": 9,
   "id": "dcc61548-3dd3-499c-89c0-4af2aaae22bc",
   "metadata": {},
   "outputs": [
    {
     "name": "stdout",
     "output_type": "stream",
     "text": [
      "['JSONDecodeError', 'JSONDecoder', 'JSONEncoder', '__all__', '__author__', '__builtins__', '__cached__', '__doc__', '__file__', '__loader__', '__name__', '__package__', '__path__', '__spec__', '__version__', '_default_decoder', '_default_encoder', 'codecs', 'decoder', 'detect_encoding', 'dump', 'dumps', 'encoder', 'load', 'loads', 'scanner']\n"
     ]
    }
   ],
   "source": [
    "import json\n",
    "\n",
    "print(dir(json))"
   ]
  },
  {
   "cell_type": "code",
   "execution_count": 11,
   "id": "0c2c6cd6-9869-40e8-b9fc-d927b8a1b3d9",
   "metadata": {},
   "outputs": [
    {
     "data": {
      "text/plain": [
       "dict"
      ]
     },
     "execution_count": 11,
     "metadata": {},
     "output_type": "execute_result"
    }
   ],
   "source": [
    "# Wczytanie pliku JSON (za pomocą biblioteki JSON) - funkcja loads\n",
    "data = json.loads(content)\n",
    "type(data)"
   ]
  },
  {
   "cell_type": "code",
   "execution_count": 12,
   "id": "b698824e-d4c4-48ea-bafd-73b7b5120baa",
   "metadata": {},
   "outputs": [
    {
     "data": {
      "text/plain": [
       "[{'name': 'Jan Kowalski', 'department': 'HR', 'years_of_service': 5},\n",
       " {'name': 'Anna Nowak', 'department': 'IT', 'years_of_service': 3},\n",
       " {'name': 'Piotr WiĹ›niewski', 'department': 'Finance', 'years_of_service': 7},\n",
       " {'name': 'Katarzyna WĂłjcik', 'department': 'IT', 'years_of_service': 6},\n",
       " {'name': 'Tomasz Lewandowski',\n",
       "  'department': 'Marketing',\n",
       "  'years_of_service': 2}]"
      ]
     },
     "execution_count": 12,
     "metadata": {},
     "output_type": "execute_result"
    }
   ],
   "source": [
    "data['employees']"
   ]
  },
  {
   "cell_type": "markdown",
   "id": "0c015d56-e971-4f37-a8e1-9eb7f0a3790e",
   "metadata": {},
   "source": [
    "Możemy też użyć funkcji `load`, która bezpośrednio deserializuje jsona z obiektu otwartego pliku (bez pośredniego etapu wczytywania zawartości pliku do napisu pythonowego)."
   ]
  },
  {
   "cell_type": "code",
   "execution_count": 18,
   "id": "e94b475d-48aa-47ea-8c9c-7b36d36ddc7d",
   "metadata": {},
   "outputs": [
    {
     "data": {
      "text/plain": [
       "{'employees': [{'name': 'Jan Kowalski',\n",
       "   'department': 'HR',\n",
       "   'years_of_service': 5},\n",
       "  {'name': 'Anna Nowak', 'department': 'IT', 'years_of_service': 3},\n",
       "  {'name': 'Piotr Wiśniewski', 'department': 'Finance', 'years_of_service': 7},\n",
       "  {'name': 'Katarzyna Wójcik', 'department': 'IT', 'years_of_service': 6},\n",
       "  {'name': 'Tomasz Lewandowski',\n",
       "   'department': 'Marketing',\n",
       "   'years_of_service': 2}]}"
      ]
     },
     "execution_count": 18,
     "metadata": {},
     "output_type": "execute_result"
    }
   ],
   "source": [
    "# Wczytanie pliku JSON (za pomocą biblioteki JSON) - funkcja load\n",
    "with open('employees.json', encoding='utf-8') as file_obj:\n",
    "    data = json.load(file_obj)\n",
    "\n",
    "data"
   ]
  },
  {
   "cell_type": "code",
   "execution_count": 19,
   "id": "7247e61c-060c-422a-90a2-c719f89804c9",
   "metadata": {},
   "outputs": [
    {
     "name": "stdout",
     "output_type": "stream",
     "text": [
      "{'name': 'Piotr Wiśniewski', 'department': 'Finance', 'years_of_service': 7}\n"
     ]
    }
   ],
   "source": [
    "# Znalezienie pracownika o najdłuższym stażu pracy\n",
    "res = max(data['employees'], key=lambda item: item['years_of_service'])\n",
    "print(res)"
   ]
  },
  {
   "cell_type": "code",
   "execution_count": 22,
   "id": "593b4c5a-9e31-4420-b89f-8c087c491eeb",
   "metadata": {},
   "outputs": [
    {
     "data": {
      "text/plain": [
       "[{'name': 'Anna Nowak', 'department': 'IT', 'years_of_service': 3},\n",
       " {'name': 'Katarzyna Wójcik', 'department': 'IT', 'years_of_service': 6}]"
      ]
     },
     "execution_count": 22,
     "metadata": {},
     "output_type": "execute_result"
    }
   ],
   "source": [
    "# Wyświetlenie pracowników z działu IT\n",
    "res = [\n",
    "    employee for employee in data['employees'] if employee['department']=='IT'\n",
    "]"
   ]
  }
 ],
 "metadata": {
  "kernelspec": {
   "display_name": "Python 3 (ipykernel)",
   "language": "python",
   "name": "python3"
  },
  "language_info": {
   "codemirror_mode": {
    "name": "ipython",
    "version": 3
   },
   "file_extension": ".py",
   "mimetype": "text/x-python",
   "name": "python",
   "nbconvert_exporter": "python",
   "pygments_lexer": "ipython3",
   "version": "3.12.4"
  }
 },
 "nbformat": 4,
 "nbformat_minor": 5
}
