{
 "cells": [
  {
   "cell_type": "markdown",
   "id": "df2f1d94-ac77-4868-b107-62ebde3eb4c9",
   "metadata": {},
   "source": [
    "### Wczytywanie danych w formacie json\n",
    "\n",
    "Plik `products.json` zawiera dane o produktach w sklepie zapisane w formacie `json`. Twoim zadaniem jest wczytanie danych z tego pliku, a następnie wyciągnięcie i wyświetlenie informacji o produkcie o najwyższej cenie. Dodatkowo, wyświetl listę wszystkich produktów, które są dostępne w magazynie."
   ]
  },
  {
   "cell_type": "code",
   "execution_count": null,
   "id": "4243ead1-ac23-4fd6-9b34-9015799aa852",
   "metadata": {},
   "outputs": [],
   "source": [
    "# Wczytywanie pliku JSON\n"
   ]
  },
  {
   "cell_type": "code",
   "execution_count": null,
   "id": "cfa5e8b7-5875-42b5-ab1c-ee5b5a7b6511",
   "metadata": {},
   "outputs": [],
   "source": [
    "# Znalezienie produktu o najwyższej cenie (beginner version)\n"
   ]
  },
  {
   "cell_type": "code",
   "execution_count": null,
   "id": "7a2896cf-d13a-4f9b-9a18-9f00e5ca3f61",
   "metadata": {},
   "outputs": [],
   "source": [
    "# Znalezienie produktu o najwyższej cenie (pro version)\n"
   ]
  },
  {
   "cell_type": "code",
   "execution_count": null,
   "id": "dab07655-4d1c-42ee-b0e1-78eb9b312e18",
   "metadata": {},
   "outputs": [],
   "source": [
    "# Wyświetlenie produktów dostępnych w magazynie (beginner version)\n"
   ]
  },
  {
   "cell_type": "code",
   "execution_count": null,
   "id": "9d44ea45-64eb-4911-933b-bef6ac0c4bb3",
   "metadata": {},
   "outputs": [],
   "source": [
    "# Wyświetlenie produktów dostępnych w magazynie (pro version)\n"
   ]
  },
  {
   "cell_type": "code",
   "execution_count": 1,
   "id": "83f42190-b3b2-46b2-beb4-ec1cdb515bfc",
   "metadata": {},
   "outputs": [],
   "source": [
    "arr = [1, 2, 3, 4, 5]"
   ]
  },
  {
   "cell_type": "code",
   "execution_count": 4,
   "id": "9b93a5ee-021a-44dd-9d4a-6d83577c50af",
   "metadata": {},
   "outputs": [
    {
     "name": "stdout",
     "output_type": "stream",
     "text": [
      "1\n",
      "2\n",
      "3\n",
      "4\n",
      "5\n"
     ]
    }
   ],
   "source": [
    "# iterowanie - sposób I\n",
    "idx = 0\n",
    "while idx < len(arr):\n",
    "    print(arr[idx])\n",
    "    idx += 1"
   ]
  },
  {
   "cell_type": "code",
   "execution_count": 9,
   "id": "9645398e-05cc-415a-997f-c7155a1931eb",
   "metadata": {},
   "outputs": [
    {
     "name": "stdout",
     "output_type": "stream",
     "text": [
      "5\n"
     ]
    }
   ],
   "source": [
    "# iterowanie - sposób II\n",
    "counter = 0\n",
    "for item in arr:\n",
    "    counter += 1 # side effect\n",
    "\n",
    "print(counter)"
   ]
  },
  {
   "cell_type": "code",
   "execution_count": 7,
   "id": "c0de8fa9-c6fe-4d3f-9f82-d61280798d1e",
   "metadata": {},
   "outputs": [
    {
     "name": "stdin",
     "output_type": "stream",
     "text": [
      "Podaj coś: abc\n",
      "Podaj coś: asd\n",
      "Podaj coś: qwiubqfa\n",
      "Podaj coś: isjbcw\n",
      "Podaj coś: iuqbwc\n",
      "Podaj coś: iubwfe\n",
      "Podaj coś: exit\n"
     ]
    }
   ],
   "source": [
    "# właściwe zastosowanie pętli `while` (bo nie mamy po czym iterować)\n",
    "result = input(\"Podaj coś:\")\n",
    "while result != \"exit\":\n",
    "    result = input(\"Podaj coś:\")"
   ]
  },
  {
   "cell_type": "code",
   "execution_count": 13,
   "id": "c84ceef1-32ca-4fe5-b4f3-ee63fcd3d78c",
   "metadata": {},
   "outputs": [
    {
     "name": "stdout",
     "output_type": "stream",
     "text": [
      "[1, 4, 9, 16, 25]\n"
     ]
    }
   ],
   "source": [
    "# iterowanie - sposób III (list comprehension) \n",
    "# (robimy kiedy wynikiem iteracji ma być jakaś inna lista)\n",
    "arr2 = [item**2 for item in arr]\n",
    "print(arr2)"
   ]
  }
 ],
 "metadata": {
  "kernelspec": {
   "display_name": "Python 3 (ipykernel)",
   "language": "python",
   "name": "python3"
  },
  "language_info": {
   "codemirror_mode": {
    "name": "ipython",
    "version": 3
   },
   "file_extension": ".py",
   "mimetype": "text/x-python",
   "name": "python",
   "nbconvert_exporter": "python",
   "pygments_lexer": "ipython3",
   "version": "3.12.4"
  }
 },
 "nbformat": 4,
 "nbformat_minor": 5
}
