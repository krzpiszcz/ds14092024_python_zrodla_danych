{
 "cells": [
  {
   "cell_type": "markdown",
   "id": "08800f03-2b0e-4f2a-b63f-d91c42bbce68",
   "metadata": {},
   "source": [
    "#### Analiza i Modyfikacja Danych z Pliku JSON\n",
    "\n",
    "Plik `sales_data.json` zawiera zapisane w formacie `json` dane o sprzedaży produktów w sklepie internetowym. Twoim zadaniem jest wczytanie danych z tego pliku, przeprowadzenie analizy, a następnie zapisanie wyników do nowego pliku JSON. Zadanie obejmuje:\n",
    "\n",
    "1. Wczytanie danych z pliku JSON.\n",
    "2. Znalezienie produktu, który osiągnął najwyższe przychody (ilość sprzedanych sztuk pomnożona przez cenę).\n",
    "3. Obliczenie łącznych przychodów ze sprzedaży wszystkich produktów.\n",
    "4. Wyświetlenie średniej ceny produktów.\n",
    "5. Znalezienie produktów, które wygenerowały przychód powyżej określonej wartości (np. $500).\n",
    "6. Zapisanie wyników analizy (produkt o najwyższych przychodach, łączne przychody, ...) do pliku `analysis_results.json`."
   ]
  },
  {
   "cell_type": "markdown",
   "id": "b35c8864-d62f-4e30-b6ca-e6924aa0e1ce",
   "metadata": {},
   "source": [
    "1. Wczytanie danych z pliku."
   ]
  },
  {
   "cell_type": "code",
   "execution_count": 1,
   "id": "885b6291-f3c9-4560-8913-2b61982b1c35",
   "metadata": {},
   "outputs": [
    {
     "data": {
      "text/plain": [
       "{'sales': [{'product_id': 1,\n",
       "   'name': 'Laptop',\n",
       "   'category': 'Electronics',\n",
       "   'price': 1200,\n",
       "   'units_sold': 30},\n",
       "  {'product_id': 2,\n",
       "   'name': 'Headphones',\n",
       "   'category': 'Electronics',\n",
       "   'price': 150,\n",
       "   'units_sold': 200},\n",
       "  {'product_id': 3,\n",
       "   'name': 'Coffee Maker',\n",
       "   'category': 'Home Appliances',\n",
       "   'price': 100,\n",
       "   'units_sold': 80},\n",
       "  {'product_id': 4,\n",
       "   'name': 'Book',\n",
       "   'category': 'Books',\n",
       "   'price': 20,\n",
       "   'units_sold': 500},\n",
       "  {'product_id': 5,\n",
       "   'name': 'Desk Lamp',\n",
       "   'category': 'Furniture',\n",
       "   'price': 35,\n",
       "   'units_sold': 150}]}"
      ]
     },
     "execution_count": 1,
     "metadata": {},
     "output_type": "execute_result"
    }
   ],
   "source": [
    "# Wczytywanie pliku JSON\n",
    "import json\n",
    "\n",
    "with open('sales_data.json', 'r') as file:\n",
    "    data = json.load(file)\n",
    "\n",
    "data"
   ]
  },
  {
   "cell_type": "markdown",
   "id": "af1cb1f2-36a1-445d-8064-d45bc1143b29",
   "metadata": {},
   "source": [
    "2. Znalezienie produktu o najwyższych przychodach"
   ]
  },
  {
   "cell_type": "code",
   "execution_count": 2,
   "id": "97fc8796-4045-4c8e-b3a3-bbc0c2fd4097",
   "metadata": {},
   "outputs": [
    {
     "name": "stdout",
     "output_type": "stream",
     "text": [
      "Produkt o najwyższych przychodach: Laptop, przychód: $36000\n"
     ]
    }
   ],
   "source": [
    "# Znalezienie produktu o najwyższych przychodach\n",
    "for product in data['sales']:\n",
    "    product['revenue'] = product['price'] * product['units_sold']\n",
    "\n",
    "most_revenue_product = max(data['sales'], key=lambda x: x['revenue'])\n",
    "print(f\"Produkt o najwyższych przychodach: {most_revenue_product['name']}, przychód: ${most_revenue_product['revenue']}\")"
   ]
  },
  {
   "cell_type": "markdown",
   "id": "58cd2dac-c96a-4fcf-983d-f10cd52625d2",
   "metadata": {},
   "source": [
    "3. Obliczenie łącznych przychodów ze sprzedaży wszystkich produktów"
   ]
  },
  {
   "cell_type": "code",
   "execution_count": 3,
   "id": "34fc3f88-06f2-46c6-92f7-61e777350354",
   "metadata": {},
   "outputs": [
    {
     "name": "stdout",
     "output_type": "stream",
     "text": [
      "Łączne przychody ze sprzedaży: $89250\n"
     ]
    }
   ],
   "source": [
    "# Obliczenie łącznych przychodów ze sprzedaży wszystkich produktów\n",
    "total_revenue = sum(product['revenue'] for product in data['sales'])\n",
    "print(f\"Łączne przychody ze sprzedaży: ${total_revenue}\")"
   ]
  },
  {
   "cell_type": "markdown",
   "id": "e82b37fc-dcfc-46bc-88e2-a68e7e7e4e33",
   "metadata": {},
   "source": [
    "4. Obliczenie średniej ceny produktów"
   ]
  },
  {
   "cell_type": "code",
   "execution_count": 4,
   "id": "12fd93e4-39b9-4558-9233-42db5b11bbf2",
   "metadata": {},
   "outputs": [
    {
     "name": "stdout",
     "output_type": "stream",
     "text": [
      "Średnia cena produktów: $301.00\n"
     ]
    }
   ],
   "source": [
    "# Obliczenie średniej ceny produktów\n",
    "average_price = sum(product['price'] for product in data['sales']) / len(data['sales'])\n",
    "print(f\"Średnia cena produktów: ${average_price:.2f}\")"
   ]
  },
  {
   "cell_type": "markdown",
   "id": "2eb0b955-5df6-4eab-bef5-c0b2708b2e7f",
   "metadata": {},
   "source": [
    "5. Znalezienie produktów, które wygenerowały przychód powyżej określonej wartości (np. $10.000)"
   ]
  },
  {
   "cell_type": "code",
   "execution_count": 5,
   "id": "995ca280-b9a0-4fe3-b96f-c24b5e97f94c",
   "metadata": {},
   "outputs": [
    {
     "name": "stdout",
     "output_type": "stream",
     "text": [
      "Produkty, które wygenerowały przychód powyżej $10.000:\n",
      "{'product_id': 1, 'name': 'Laptop', 'category': 'Electronics', 'price': 1200, 'units_sold': 30, 'revenue': 36000}\n",
      "{'product_id': 2, 'name': 'Headphones', 'category': 'Electronics', 'price': 150, 'units_sold': 200, 'revenue': 30000}\n"
     ]
    }
   ],
   "source": [
    "# Znalezienie produktów, które wygenerowały przychód powyżej $10.000\n",
    "revenue_limit = 10_000\n",
    "high_revenue_products = [product for product in data['sales'] if product['revenue'] > revenue_limit]\n",
    "print(f\"Produkty, które wygenerowały przychód powyżej $10.000:\")\n",
    "for product in high_revenue_products:\n",
    "    print(product)"
   ]
  },
  {
   "cell_type": "markdown",
   "id": "88ffe254-0e73-4cd7-9a4a-5dabd6347777",
   "metadata": {},
   "source": [
    "6. Zapisanie wyników analizy do pliku \"analysis_results.json\""
   ]
  },
  {
   "cell_type": "code",
   "execution_count": 6,
   "id": "7588dd8d-b86f-440c-912c-f2070caa28f5",
   "metadata": {},
   "outputs": [
    {
     "name": "stdout",
     "output_type": "stream",
     "text": [
      "Wyniki analizy zostały zapisane do pliku 'analysis_results.json'\n"
     ]
    }
   ],
   "source": [
    "# Zapisanie wyników analizy do pliku \"analysis_results.json\"\n",
    "analysis_results = {\n",
    "    \"highest_revenue_product\": most_revenue_product,\n",
    "    \"total_revenue\": total_revenue,\n",
    "    \"average_price\": average_price,\n",
    "    \"high_revenue_products\": high_revenue_products\n",
    "}\n",
    "\n",
    "with open('analysis_results.json', 'w') as file:\n",
    "    json.dump(analysis_results, file, indent=4)\n",
    "\n",
    "print(\"Wyniki analizy zostały zapisane do pliku 'analysis_results.json'\")"
   ]
  }
 ],
 "metadata": {
  "kernelspec": {
   "display_name": "Python 3 (ipykernel)",
   "language": "python",
   "name": "python3"
  },
  "language_info": {
   "codemirror_mode": {
    "name": "ipython",
    "version": 3
   },
   "file_extension": ".py",
   "mimetype": "text/x-python",
   "name": "python",
   "nbconvert_exporter": "python",
   "pygments_lexer": "ipython3",
   "version": "3.12.4"
  }
 },
 "nbformat": 4,
 "nbformat_minor": 5
}
