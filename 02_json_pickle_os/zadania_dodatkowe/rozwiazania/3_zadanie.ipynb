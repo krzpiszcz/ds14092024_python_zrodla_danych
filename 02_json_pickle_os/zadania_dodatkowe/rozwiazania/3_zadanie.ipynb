{
 "cells": [
  {
   "cell_type": "markdown",
   "id": "a7ac3674-b77a-4889-a8a6-64abdb4a9c29",
   "metadata": {},
   "source": [
    "### Aktualizacja Danych Sprzedaży z Użyciem Inputu\n",
    "\n",
    "Plik `data.json` zawiera zapisane w formacie `json` dane o sprzedaży produktów w sklepie internetowym. Twoim zadaniem jest wczytanie danych z tego pliku, umożliwienie użytkownikowi dodania nowych danych o sprzedaży za pomocą funkcji `input`, a następnie zapisanie zaktualizowanych danych do pliku JSON. Plik, w którym zapiszesz dane powinien mieć w nazwie datę jego wygenerowania (np. data_.json)\n",
    "\n",
    "Hint: Załóż, że użytkownik wprowadza wyłącznie prawidłowe dane."
   ]
  },
  {
   "cell_type": "markdown",
   "id": "9ee13372-5d7f-4c9f-be78-0e789cbd0b12",
   "metadata": {},
   "source": [
    "#### 1. Wczytaj zawartość pliku JSON."
   ]
  },
  {
   "cell_type": "code",
   "execution_count": 1,
   "id": "7d448b95-8171-474a-bdc9-93ead7fbde4c",
   "metadata": {},
   "outputs": [
    {
     "data": {
      "text/plain": [
       "{'sales': [{'product_id': 1,\n",
       "   'name': 'Laptop',\n",
       "   'category': 'Electronics',\n",
       "   'price': 1200,\n",
       "   'units_sold': 30},\n",
       "  {'product_id': 2,\n",
       "   'name': 'Headphones',\n",
       "   'category': 'Electronics',\n",
       "   'price': 150,\n",
       "   'units_sold': 200},\n",
       "  {'product_id': 3,\n",
       "   'name': 'Coffee Maker',\n",
       "   'category': 'Home Appliances',\n",
       "   'price': 100,\n",
       "   'units_sold': 80},\n",
       "  {'product_id': 4,\n",
       "   'name': 'Book',\n",
       "   'category': 'Books',\n",
       "   'price': 20,\n",
       "   'units_sold': 500},\n",
       "  {'product_id': 5,\n",
       "   'name': 'Desk Lamp',\n",
       "   'category': 'Furniture',\n",
       "   'price': 35,\n",
       "   'units_sold': 150}]}"
      ]
     },
     "execution_count": 1,
     "metadata": {},
     "output_type": "execute_result"
    }
   ],
   "source": [
    "# Wczytywanie pliku JSON\n",
    "import json\n",
    "\n",
    "with open('sales_data.json', 'r') as file:\n",
    "    data = json.load(file)\n",
    "\n",
    "data"
   ]
  },
  {
   "cell_type": "markdown",
   "id": "a30dac4b-39f7-4b00-92ba-2afd309ce8cd",
   "metadata": {},
   "source": [
    "#### 2. Pobierz od użytkownika dane o nowym produkcie: name, category, price, units_sold."
   ]
  },
  {
   "cell_type": "code",
   "execution_count": 3,
   "id": "ce153ed1-7377-4f8b-9f6b-a9dd871db991",
   "metadata": {},
   "outputs": [
    {
     "name": "stdin",
     "output_type": "stream",
     "text": [
      "Podaj nazwę produktu:  kasa\n",
      "Podaj kategorię produktu:  rzecz\n",
      "Podaj cenę produktu:  1000\n",
      "Podaj liczbę sprzedanych sztuk:  3\n"
     ]
    }
   ],
   "source": [
    "# Pobieranie danych od użytkownika\n",
    "new_product = {}\n",
    "\n",
    "new_product['product_id'] = max(product['product_id'] for product in data['sales']) + 1\n",
    "new_product['name'] = input(\"Podaj nazwę produktu: \")\n",
    "new_product['category'] = input(\"Podaj kategorię produktu: \")\n",
    "new_product['price'] = float(input(\"Podaj cenę produktu: \"))\n",
    "new_product['units_sold'] = int(input(\"Podaj liczbę sprzedanych sztuk: \"))"
   ]
  },
  {
   "cell_type": "markdown",
   "id": "25ef4cbe-4ab4-4aba-b263-c5d5ee5e41eb",
   "metadata": {},
   "source": [
    "#### 3. Dodaj nowy produkt do listy produktów w JSON."
   ]
  },
  {
   "cell_type": "code",
   "execution_count": 4,
   "id": "cc65fa65-f368-4705-81d9-668266eb67ba",
   "metadata": {},
   "outputs": [],
   "source": [
    "# Dodawanie nowego produktu do listy\n",
    "data['sales'].append(new_product)"
   ]
  },
  {
   "cell_type": "markdown",
   "id": "532be127-e888-4953-83fb-1dec44c42321",
   "metadata": {},
   "source": [
    "#### 4. Zapisz zaktualizowane dane do pliku JSON."
   ]
  },
  {
   "cell_type": "code",
   "execution_count": 5,
   "id": "02ca835d-5bd1-4a1a-a240-a526f13bf2bb",
   "metadata": {},
   "outputs": [],
   "source": [
    "# Zapisanie zaktualizowanych danych do pliku JSON\n",
    "import datetime\n",
    "\n",
    "datetime_created = datetime.datetime.now().strftime(\"%Y%m%d_%H%M%S\")\n",
    "with open(f'data_{datetime_created}.json', 'w') as file:\n",
    "    json.dump(data, file, indent=4)"
   ]
  },
  {
   "cell_type": "markdown",
   "id": "b19ffc24-f142-4dcc-bef2-7c7312ab5494",
   "metadata": {},
   "source": [
    "#### 5. Wyświetl wszystkie produkty po aktualizacji."
   ]
  },
  {
   "cell_type": "code",
   "execution_count": 6,
   "id": "82f29210-a8e7-4ab1-b5de-cc38d9ee83ac",
   "metadata": {},
   "outputs": [
    {
     "name": "stdout",
     "output_type": "stream",
     "text": [
      "Zaktualizowane dane o sprzedaży:\n",
      "1: Laptop - Electronics - $1200 - 30 units sold\n",
      "2: Headphones - Electronics - $150 - 200 units sold\n",
      "3: Coffee Maker - Home Appliances - $100 - 80 units sold\n",
      "4: Book - Books - $20 - 500 units sold\n",
      "5: Desk Lamp - Furniture - $35 - 150 units sold\n",
      "6: kasa - rzecz - $1000.0 - 3 units sold\n"
     ]
    }
   ],
   "source": [
    "# Wyświetlanie wszystkich produktów po aktualizacji\n",
    "print(\"Zaktualizowane dane o sprzedaży:\")\n",
    "for product in data['sales']:\n",
    "    print(f\"{product['product_id']}: {product['name']} - {product['category']} - ${product['price']} - {product['units_sold']} units sold\")"
   ]
  }
 ],
 "metadata": {
  "kernelspec": {
   "display_name": "Python 3 (ipykernel)",
   "language": "python",
   "name": "python3"
  },
  "language_info": {
   "codemirror_mode": {
    "name": "ipython",
    "version": 3
   },
   "file_extension": ".py",
   "mimetype": "text/x-python",
   "name": "python",
   "nbconvert_exporter": "python",
   "pygments_lexer": "ipython3",
   "version": "3.12.4"
  }
 },
 "nbformat": 4,
 "nbformat_minor": 5
}
