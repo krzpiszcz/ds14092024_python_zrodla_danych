{
 "cells": [
  {
   "cell_type": "markdown",
   "id": "c3427d92-cd9c-461e-bc48-1d8acd10516a",
   "metadata": {},
   "source": [
    "### Analiza danych z pliku JSON z wykorzystaniem wyrażeń regularnych\n",
    "\n",
    "Plik `users_data.json` zawiera dane o użytkownikach strony internetowej zapisane w formacie `json`. Twoim zadaniem jest wczytanie danych z tego pliku, a następnie przeprowadzenie analizy. Zadanie jest podzielone na trzy podzadania:\n",
    "\n",
    "- Zidentyfikować użytkowników z adresami email z określonej domeny (np. example.com).\n",
    "- Sprawdzić, czy użytkownicy mają prawidłowy format numeru telefonu (w formacie XXX-XXX-XXXX).\n",
    "- Wyodrębnić użytkowników, których hasła mają co najmniej 8 znaków i zawierają co najmniej jedną literę oraz jedną cyfrę (przykład z gwiazdką)\n",
    "- \n",
    "Na końcu zapisz wyniki analizy do nowego pliku JSON, zawierającego tylko użytkowników spełniających te kryteria."
   ]
  },
  {
   "cell_type": "markdown",
   "id": "1a4ff37c-5cff-4894-b996-d432a2e89afb",
   "metadata": {},
   "source": [
    "1. Wczytaj dane z pliku JSON."
   ]
  },
  {
   "cell_type": "code",
   "execution_count": 2,
   "id": "75b0b781-8e45-476c-ac0b-8fbcd3c4432c",
   "metadata": {},
   "outputs": [
    {
     "data": {
      "text/plain": [
       "{'users': [{'user_id': 1,\n",
       "   'name': 'Alice Johnson',\n",
       "   'email': 'alice@example.com',\n",
       "   'phone': '123-456-7890',\n",
       "   'password': 'Password123'},\n",
       "  {'user_id': 2,\n",
       "   'name': 'Bob Smith',\n",
       "   'email': 'bob@gmail.com',\n",
       "   'phone': '987-654-3210',\n",
       "   'password': 'bobSecure'},\n",
       "  {'user_id': 3,\n",
       "   'name': 'Charlie Brown',\n",
       "   'email': 'charlie@example.com',\n",
       "   'phone': '555-555-5555',\n",
       "   'password': 'Char1234'},\n",
       "  {'user_id': 4,\n",
       "   'name': 'David Wilson',\n",
       "   'email': 'david@otherdomain.com',\n",
       "   'phone': '1234567890',\n",
       "   'password': 'simplepass'}]}"
      ]
     },
     "execution_count": 2,
     "metadata": {},
     "output_type": "execute_result"
    }
   ],
   "source": [
    "# Wczytywanie pliku JSON\n",
    "import json\n",
    "\n",
    "with open('users_data.json', 'r') as file:\n",
    "    data = json.load(file)\n",
    "\n",
    "data"
   ]
  },
  {
   "cell_type": "markdown",
   "id": "329e0587-1911-4553-b1d6-de9fe61c26e4",
   "metadata": {},
   "source": [
    "2. Zidentyfikuj użytkowników z adresami email z domeny `example.com`"
   ]
  },
  {
   "cell_type": "code",
   "execution_count": 3,
   "id": "d2848555-f893-4fdd-bbf0-4ea89db40d42",
   "metadata": {},
   "outputs": [
    {
     "name": "stdout",
     "output_type": "stream",
     "text": [
      "Użytkownicy z adresami email z domeny 'example.com':\n",
      "ID: 1, Email: alice@example.com\n",
      "ID: 3, Email: charlie@example.com\n"
     ]
    }
   ],
   "source": [
    "import re\n",
    "\n",
    "# Wyrażenie regularne dla adresu email\n",
    "email_pattern = re.compile(r'^[\\w\\.-]+@example\\.com$')\n",
    "\n",
    "# Filtrowanie użytkowników według domeny email\n",
    "email_filtered_users = [user for user in data['users'] if email_pattern.match(user['email'])]\n",
    "\n",
    "# Wyświetlanie wyników filtracji\n",
    "print(\"Użytkownicy z adresami email z domeny 'example.com':\")\n",
    "for user in email_filtered_users:\n",
    "    print(f\"ID: {user['user_id']}, Email: {user['email']}\")"
   ]
  },
  {
   "cell_type": "markdown",
   "id": "684272e0-19e8-4968-a4cb-714dea1ce825",
   "metadata": {},
   "source": [
    "3. Sprawdź, czy użytkownicy mają prawidłowy format numeru telefonu (w formacie XXX-XXX-XXXX)."
   ]
  },
  {
   "cell_type": "code",
   "execution_count": 4,
   "id": "a38f05c1-e39b-49ce-9582-f594c2dd7dc5",
   "metadata": {},
   "outputs": [
    {
     "name": "stdout",
     "output_type": "stream",
     "text": [
      "Użytkownicy z poprawnym formatem numeru telefonu:\n",
      "ID: 1, Phone: 123-456-7890\n",
      "ID: 2, Phone: 987-654-3210\n",
      "ID: 3, Phone: 555-555-5555\n"
     ]
    }
   ],
   "source": [
    "# Wyrażenie regularne dla numeru telefonu\n",
    "phone_pattern = re.compile(r'^\\d{3}-\\d{3}-\\d{4}$')\n",
    "\n",
    "# Filtrowanie użytkowników według poprawnego formatu numeru telefonu\n",
    "phone_filtered_users = [user for user in data['users'] if phone_pattern.match(user['phone'])]\n",
    "\n",
    "# Wyświetlanie wyników filtracji\n",
    "print(\"Użytkownicy z poprawnym formatem numeru telefonu:\")\n",
    "for user in phone_filtered_users:\n",
    "    print(f\"ID: {user['user_id']}, Phone: {user['phone']}\")"
   ]
  },
  {
   "cell_type": "markdown",
   "id": "f372f144-c7b5-4a19-b122-ecdec9e5e458",
   "metadata": {},
   "source": [
    "4. Wskaż użytkowników, których hasła spełniają określone kryterium bezpieczeństwa (co najmniej 8 znaków, co najmniej jedna litera oraz jedna cyfra)."
   ]
  },
  {
   "cell_type": "code",
   "execution_count": 5,
   "id": "da2132ee-9fb7-4282-bdb5-35930ca215db",
   "metadata": {},
   "outputs": [
    {
     "name": "stdout",
     "output_type": "stream",
     "text": [
      "Użytkownicy z bezpiecznymi hasłami:\n",
      "ID: 1, Password: Password123\n",
      "ID: 3, Password: Char1234\n"
     ]
    }
   ],
   "source": [
    "# Wyrażenie regularne dla hasła (użycie positive lookahead) - przykład zaawansowany\n",
    "password_pattern = re.compile(r'^(?=.*[A-Za-z])(?=.*\\d)[A-Za-z\\d]{8,}$')\n",
    "\n",
    "# Filtrowanie użytkowników według kryteriów bezpieczeństwa hasła\n",
    "password_filtered_users = [user for user in data['users'] if password_pattern.match(user['password'])]\n",
    "\n",
    "# Wyświetlanie wyników filtracji\n",
    "print(\"Użytkownicy z bezpiecznymi hasłami:\")\n",
    "for user in password_filtered_users:\n",
    "    print(f\"ID: {user['user_id']}, Password: {user['password']}\")"
   ]
  },
  {
   "cell_type": "markdown",
   "id": "ed7dedbd-3d0d-4669-9381-e09f541864ea",
   "metadata": {},
   "source": [
    "5. Zapisz wyniki analizy do nowego pliku JSON, zawierającego tylko użytkowników spełniających te kryteria."
   ]
  },
  {
   "cell_type": "code",
   "execution_count": 6,
   "id": "a5b76939-2709-437f-b944-8bf6dfa33899",
   "metadata": {},
   "outputs": [
    {
     "name": "stdout",
     "output_type": "stream",
     "text": [
      "Użytkownicy spełniający wszystkie kryteria:\n",
      "ID: 1, Email: alice@example.com, Phone: 123-456-7890, Password: Password123\n",
      "ID: 3, Email: charlie@example.com, Phone: 555-555-5555, Password: Char1234\n"
     ]
    }
   ],
   "source": [
    "# Filtrowanie użytkowników według wszystkich kryteriów\n",
    "filtered_users = [user for user in data['users']\n",
    "                  if email_pattern.match(user['email']) and\n",
    "                  phone_pattern.match(user['phone']) and\n",
    "                  password_pattern.match(user['password'])]\n",
    "\n",
    "# Zapisanie wyników analizy do pliku JSON\n",
    "with open('filtered_users.json', 'w') as file:\n",
    "    json.dump({'users': filtered_users}, file, indent=4)\n",
    "\n",
    "# Wyświetlanie wyników analizy\n",
    "print(\"Użytkownicy spełniający wszystkie kryteria:\")\n",
    "for user in filtered_users:\n",
    "    print(f\"ID: {user['user_id']}, Email: {user['email']}, Phone: {user['phone']}, Password: {user['password']}\")"
   ]
  }
 ],
 "metadata": {
  "kernelspec": {
   "display_name": "Python 3 (ipykernel)",
   "language": "python",
   "name": "python3"
  },
  "language_info": {
   "codemirror_mode": {
    "name": "ipython",
    "version": 3
   },
   "file_extension": ".py",
   "mimetype": "text/x-python",
   "name": "python",
   "nbconvert_exporter": "python",
   "pygments_lexer": "ipython3",
   "version": "3.12.4"
  }
 },
 "nbformat": 4,
 "nbformat_minor": 5
}
