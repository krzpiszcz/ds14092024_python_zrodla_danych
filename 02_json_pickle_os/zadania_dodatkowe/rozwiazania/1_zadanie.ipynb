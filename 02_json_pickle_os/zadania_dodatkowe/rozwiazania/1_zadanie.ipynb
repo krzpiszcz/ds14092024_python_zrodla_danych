{
 "cells": [
  {
   "cell_type": "markdown",
   "id": "df2f1d94-ac77-4868-b107-62ebde3eb4c9",
   "metadata": {},
   "source": [
    "### Wczytywanie danych w formacie json\n",
    "\n",
    "Plik `products.json` zawiera dane o produktach w sklepie zapisane w formacie `json`. Twoim zadaniem jest wczytanie danych z tego pliku, a następnie wyciągnięcie i wyświetlenie informacji o produkcie o najwyższej cenie. Dodatkowo, wyświetl listę wszystkich produktów, które są dostępne w magazynie."
   ]
  },
  {
   "cell_type": "code",
   "execution_count": 6,
   "id": "4243ead1-ac23-4fd6-9b34-9015799aa852",
   "metadata": {},
   "outputs": [
    {
     "data": {
      "text/plain": [
       "{'products': [{'name': 'Laptop',\n",
       "   'category': 'Electronics',\n",
       "   'price': 1200,\n",
       "   'in_stock': True},\n",
       "  {'name': 'Headphones',\n",
       "   'category': 'Electronics',\n",
       "   'price': 150,\n",
       "   'in_stock': False},\n",
       "  {'name': 'Coffee Maker',\n",
       "   'category': 'Home Appliances',\n",
       "   'price': 100,\n",
       "   'in_stock': True},\n",
       "  {'name': 'Book', 'category': 'Books', 'price': 20, 'in_stock': True},\n",
       "  {'name': 'Desk Lamp',\n",
       "   'category': 'Furniture',\n",
       "   'price': 35,\n",
       "   'in_stock': False}]}"
      ]
     },
     "execution_count": 6,
     "metadata": {},
     "output_type": "execute_result"
    }
   ],
   "source": [
    "import json\n",
    "\n",
    "# Wczytywanie pliku JSON\n",
    "with open('products.json', 'r') as file:\n",
    "    data = json.load(file)\n",
    "\n",
    "data"
   ]
  },
  {
   "cell_type": "code",
   "execution_count": 7,
   "id": "cfa5e8b7-5875-42b5-ab1c-ee5b5a7b6511",
   "metadata": {},
   "outputs": [
    {
     "name": "stdout",
     "output_type": "stream",
     "text": [
      "Produkt o najwyższej cenie: Laptop, cena: $1200\n"
     ]
    }
   ],
   "source": [
    "# Znalezienie produktu o najwyższej cenie (beginner version)\n",
    "products = data['products']\n",
    "most_expensive_product = products[0]\n",
    "for product in products:\n",
    "    if product['price'] > most_expensive_product['price']:\n",
    "        most_expensive_product = product\n",
    "        \n",
    "most_expensive_product = max(data['products'], key=lambda x: x['price'])\n",
    "print(f\"Produkt o najwyższej cenie: {most_expensive_product['name']}, cena: ${most_expensive_product['price']}\")"
   ]
  },
  {
   "cell_type": "code",
   "execution_count": 8,
   "id": "7a2896cf-d13a-4f9b-9a18-9f00e5ca3f61",
   "metadata": {},
   "outputs": [
    {
     "name": "stdout",
     "output_type": "stream",
     "text": [
      "Produkt o najwyższej cenie: Laptop, cena: $1200\n"
     ]
    }
   ],
   "source": [
    "# Znalezienie produktu o najwyższej cenie (pro version)\n",
    "most_expensive_product = max(data['products'], key=lambda x: x['price'])\n",
    "print(f\"Produkt o najwyższej cenie: {most_expensive_product['name']}, cena: ${most_expensive_product['price']}\")"
   ]
  },
  {
   "cell_type": "code",
   "execution_count": 9,
   "id": "dab07655-4d1c-42ee-b0e1-78eb9b312e18",
   "metadata": {},
   "outputs": [
    {
     "name": "stdout",
     "output_type": "stream",
     "text": [
      "Produkty dostępne w magazynie:\n",
      "Laptop, cena: $1200\n",
      "Coffee Maker, cena: $100\n",
      "Book, cena: $20\n"
     ]
    }
   ],
   "source": [
    "# Wyświetlenie produktów dostępnych w magazynie (beginner version)\n",
    "products = data['products']\n",
    "in_stock_products = []\n",
    "for product in products:\n",
    "    if product['in_stock']:\n",
    "        in_stock_products.append(product)\n",
    "\n",
    "print(\"Produkty dostępne w magazynie:\")\n",
    "for product in in_stock_products:\n",
    "    print(f\"{product['name']}, cena: ${product['price']}\")"
   ]
  },
  {
   "cell_type": "code",
   "execution_count": 10,
   "id": "9d44ea45-64eb-4911-933b-bef6ac0c4bb3",
   "metadata": {},
   "outputs": [
    {
     "name": "stdout",
     "output_type": "stream",
     "text": [
      "Produkty dostępne w magazynie:\n",
      "Laptop, cena: $1200\n",
      "Coffee Maker, cena: $100\n",
      "Book, cena: $20\n"
     ]
    }
   ],
   "source": [
    "# Wyświetlenie produktów dostępnych w magazynie (pro version)\n",
    "in_stock_products = [product for product in data['products'] if product['in_stock']]\n",
    "print(\"Produkty dostępne w magazynie:\")\n",
    "for product in in_stock_products:\n",
    "    print(f\"{product['name']}, cena: ${product['price']}\")"
   ]
  }
 ],
 "metadata": {
  "kernelspec": {
   "display_name": "Python 3 (ipykernel)",
   "language": "python",
   "name": "python3"
  },
  "language_info": {
   "codemirror_mode": {
    "name": "ipython",
    "version": 3
   },
   "file_extension": ".py",
   "mimetype": "text/x-python",
   "name": "python",
   "nbconvert_exporter": "python",
   "pygments_lexer": "ipython3",
   "version": "3.12.4"
  }
 },
 "nbformat": 4,
 "nbformat_minor": 5
}
