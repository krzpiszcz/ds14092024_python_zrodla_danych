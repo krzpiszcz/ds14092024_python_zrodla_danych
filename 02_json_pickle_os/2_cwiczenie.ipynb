{
 "cells": [
  {
   "cell_type": "markdown",
   "id": "a8076d1c-13eb-40b2-8761-971d8fe62957",
   "metadata": {},
   "source": [
    "#### Zapisywanie zawartości do pliku JSON\n",
    "\n",
    "W zmiennej new_employees znajduje się lista danych o nowych pracownikach, którą należy zapisać do pliku JSON. Napisz skrypt, który zapisze te dane do pliku `new_employees.json` w formacie `json`."
   ]
  },
  {
   "cell_type": "code",
   "execution_count": 7,
   "id": "dbef7288-e969-4895-8ddc-1346d12013fe",
   "metadata": {},
   "outputs": [
    {
     "ename": "SyntaxError",
     "evalue": "unterminated string literal (detected at line 4) (2014735767.py, line 4)",
     "output_type": "error",
     "traceback": [
      "\u001b[1;36m  Cell \u001b[1;32mIn[7], line 4\u001b[1;36m\u001b[0m\n\u001b[1;33m    'department': \"Logistics',\u001b[0m\n\u001b[1;37m                  ^\u001b[0m\n\u001b[1;31mSyntaxError\u001b[0m\u001b[1;31m:\u001b[0m unterminated string literal (detected at line 4)\n"
     ]
    }
   ],
   "source": [
    "new_employees = [\n",
    "    {\n",
    "        'name': 'Marcin Kwiatkowski',\n",
    "        'department': \"Logistics',\n",
    "        'years_of_service': 1\n",
    "    },\n",
    "    {\n",
    "        \"name\": \"Joanna Zawadzka\",\n",
    "        \"department\": \"IT\",\n",
    "        \"years_of_service\": 4\n",
    "    },\n",
    "    {\n",
    "        \"name\": \"Robert Majewski\",\n",
    "        \"department\": \"HR\",\n",
    "        \"years_of_service\": 2\n",
    "    }\n",
    "]\n"
   ]
  },
  {
   "cell_type": "markdown",
   "id": "a5bd2510-7790-43f3-a677-f135e55c853a",
   "metadata": {},
   "source": [
    "Tym razem mamy do czynienia z serializacją danych (słownika python) do formatu JSON."
   ]
  },
  {
   "cell_type": "code",
   "execution_count": 2,
   "id": "68612ad3-2235-45c7-acc9-04051a253802",
   "metadata": {},
   "outputs": [
    {
     "name": "stdout",
     "output_type": "stream",
     "text": [
      "['JSONDecodeError', 'JSONDecoder', 'JSONEncoder', '__all__', '__author__', '__builtins__', '__cached__', '__doc__', '__file__', '__loader__', '__name__', '__package__', '__path__', '__spec__', '__version__', '_default_decoder', '_default_encoder', 'codecs', 'decoder', 'detect_encoding', 'dump', 'dumps', 'encoder', 'load', 'loads', 'scanner']\n"
     ]
    }
   ],
   "source": [
    "import json\n",
    "\n",
    "print(dir(json))"
   ]
  },
  {
   "cell_type": "markdown",
   "id": "d85547bb-dd66-439f-a424-2a67ccd36abb",
   "metadata": {},
   "source": [
    "Do serializacji do formatu json służą funkce dump i dumps (od (**dump** to **s**tring)"
   ]
  },
  {
   "cell_type": "code",
   "execution_count": 8,
   "id": "a1a259c7-a317-4315-b064-71dd4f343f68",
   "metadata": {},
   "outputs": [
    {
     "data": {
      "text/plain": [
       "'[{\"name\": \"Marcin Kwiatkowski\", \"department\": \"Logistics\", \"years_of_service\": 1}, {\"name\": \"Joanna Zawadzka\", \"department\": \"IT\", \"years_of_service\": 4}, {\"name\": \"Robert Majewski\", \"department\": \"HR\", \"years_of_service\": 2}]'"
      ]
     },
     "execution_count": 8,
     "metadata": {},
     "output_type": "execute_result"
    }
   ],
   "source": [
    "# Najpierw zserializujmy słownik do napisu (jsonify)\n",
    "content = json.dumps(new_employees)\n",
    "content"
   ]
  },
  {
   "cell_type": "code",
   "execution_count": 9,
   "id": "2780f8cc-270a-40c9-836d-8f8cb9336423",
   "metadata": {},
   "outputs": [],
   "source": [
    "# i teraz można taki string zapisać do pliku (funkcja `dumps`)\n",
    "with open('new_employees2.json', 'w') as file_obj:\n",
    "    file_obj.write(content)"
   ]
  },
  {
   "cell_type": "markdown",
   "id": "360b0f59-6c0c-42e3-83b5-e1d458aed13b",
   "metadata": {},
   "source": [
    "taki jsonowy string można renderować za pomocą opcjonalnego parametru `indent`"
   ]
  },
  {
   "cell_type": "code",
   "execution_count": 10,
   "id": "c03d4167-ebae-4fe5-9a0f-899ec9736860",
   "metadata": {},
   "outputs": [
    {
     "name": "stdout",
     "output_type": "stream",
     "text": [
      "[\n",
      "    {\n",
      "        \"name\": \"Marcin Kwiatkowski\",\n",
      "        \"department\": \"Logistics\",\n",
      "        \"years_of_service\": 1\n",
      "    },\n",
      "    {\n",
      "        \"name\": \"Joanna Zawadzka\",\n",
      "        \"department\": \"IT\",\n",
      "        \"years_of_service\": 4\n",
      "    },\n",
      "    {\n",
      "        \"name\": \"Robert Majewski\",\n",
      "        \"department\": \"HR\",\n",
      "        \"years_of_service\": 2\n",
      "    }\n",
      "]\n"
     ]
    }
   ],
   "source": [
    "# parametr `indent`\n",
    "content2 = json.dumps(new_employees, indent=4)\n",
    "print(content2)"
   ]
  },
  {
   "cell_type": "markdown",
   "id": "aeb37d90-54c4-4021-832e-2c69b6417ca0",
   "metadata": {},
   "source": [
    "No i można też oczywiście serializować dane bezpośrednio do pliku, z pominięciem kroku pośredniego, czyli wczytwania danych do napisu (funkcja `dump`)"
   ]
  },
  {
   "cell_type": "code",
   "execution_count": 11,
   "id": "8cb2819e-734f-4756-bfbc-f59872dc5f7b",
   "metadata": {},
   "outputs": [
    {
     "name": "stdout",
     "output_type": "stream",
     "text": [
      "Obiekt został poprawnie zapisany do pliku new_employees3.json\n"
     ]
    }
   ],
   "source": [
    "# funkcja `dump`\n",
    "filename = 'new_employees3.json'\n",
    "with open(filename, 'w') as file_obj:\n",
    "    json.dump(new_employees, file_obj)\n",
    "\n",
    "print(f\"Obiekt został poprawnie zapisany do pliku {filename}\")"
   ]
  },
  {
   "cell_type": "markdown",
   "id": "9d3c4c23-d46f-4146-b026-4152c9a7d601",
   "metadata": {},
   "source": [
    "**Zapamiętaj**"
   ]
  },
  {
   "cell_type": "raw",
   "id": "29f5e043-5259-46b8-9a5c-8f8e3aded1ea",
   "metadata": {},
   "source": [
    "                          --> serializacja -->\n",
    "dane w programie                                           dane gdzieś zapisane (np. w pamięci Twojego komputera)\n",
    "                          <-- deserializacja <--"
   ]
  },
  {
   "cell_type": "markdown",
   "id": "61384f29-ea8f-442b-b89e-45b4b33c3294",
   "metadata": {},
   "source": [
    "Terminy serialiacja i deserializacja mają znacznie szersze zastosowanie niż format json. Dotyczą konwertowania danych pomiędzy dowolnymi formatami.\n",
    "\n",
    "**Serializacja** to proces przenoszenia danych (np. dowolonego obiektu pythonowego takiego jak słownik lub jakaś klasa) do formatu wygodnego do przesyłania, zapisywania i przechowywania (np. json, xml, csv, format binarny).\\\n",
    "**Deserializacją** nazywamy proces odwrotny, czyli konwertowanie otrzymanych/wczytanych danych do obiektu pythonowego, wygodnego do wykonywania operacji na tych danych. "
   ]
  },
  {
   "cell_type": "code",
   "execution_count": 14,
   "id": "c3a2a4b2-95d3-43bc-8f13-f34fc0443c8e",
   "metadata": {},
   "outputs": [
    {
     "data": {
      "text/plain": [
       "<__main__.Cow at 0x1ec3a8ca600>"
      ]
     },
     "execution_count": 14,
     "metadata": {},
     "output_type": "execute_result"
    }
   ],
   "source": [
    "class Cow:\n",
    "    def __init__(self, name, age):\n",
    "        self.name = name\n",
    "        self.age = age\n",
    "\n",
    "    def speak(self):\n",
    "        print(\"Muuuuu\")\n",
    "        \n",
    "\n",
    "cow1 = Cow(\"Mućka\", 5)\n",
    "cow1"
   ]
  },
  {
   "cell_type": "code",
   "execution_count": 15,
   "id": "6f901355-acc0-43f8-88a6-d62f080111cd",
   "metadata": {},
   "outputs": [
    {
     "ename": "TypeError",
     "evalue": "Object of type Cow is not JSON serializable",
     "output_type": "error",
     "traceback": [
      "\u001b[1;31m-------------------------------------------------------------------------\u001b[0m",
      "\u001b[1;31mTypeError\u001b[0m                               Traceback (most recent call last)",
      "Cell \u001b[1;32mIn[15], line 1\u001b[0m\n\u001b[1;32m----> 1\u001b[0m \u001b[43mjson\u001b[49m\u001b[38;5;241;43m.\u001b[39;49m\u001b[43mdumps\u001b[49m\u001b[43m(\u001b[49m\u001b[43mcow1\u001b[49m\u001b[43m)\u001b[49m\n",
      "File \u001b[1;32m~\\AppData\\Local\\Programs\\Python\\Python312\\Lib\\json\\__init__.py:231\u001b[0m, in \u001b[0;36mdumps\u001b[1;34m(obj, skipkeys, ensure_ascii, check_circular, allow_nan, cls, indent, separators, default, sort_keys, **kw)\u001b[0m\n\u001b[0;32m    226\u001b[0m \u001b[38;5;66;03m# cached encoder\u001b[39;00m\n\u001b[0;32m    227\u001b[0m \u001b[38;5;28;01mif\u001b[39;00m (\u001b[38;5;129;01mnot\u001b[39;00m skipkeys \u001b[38;5;129;01mand\u001b[39;00m ensure_ascii \u001b[38;5;129;01mand\u001b[39;00m\n\u001b[0;32m    228\u001b[0m     check_circular \u001b[38;5;129;01mand\u001b[39;00m allow_nan \u001b[38;5;129;01mand\u001b[39;00m\n\u001b[0;32m    229\u001b[0m     \u001b[38;5;28mcls\u001b[39m \u001b[38;5;129;01mis\u001b[39;00m \u001b[38;5;28;01mNone\u001b[39;00m \u001b[38;5;129;01mand\u001b[39;00m indent \u001b[38;5;129;01mis\u001b[39;00m \u001b[38;5;28;01mNone\u001b[39;00m \u001b[38;5;129;01mand\u001b[39;00m separators \u001b[38;5;129;01mis\u001b[39;00m \u001b[38;5;28;01mNone\u001b[39;00m \u001b[38;5;129;01mand\u001b[39;00m\n\u001b[0;32m    230\u001b[0m     default \u001b[38;5;129;01mis\u001b[39;00m \u001b[38;5;28;01mNone\u001b[39;00m \u001b[38;5;129;01mand\u001b[39;00m \u001b[38;5;129;01mnot\u001b[39;00m sort_keys \u001b[38;5;129;01mand\u001b[39;00m \u001b[38;5;129;01mnot\u001b[39;00m kw):\n\u001b[1;32m--> 231\u001b[0m     \u001b[38;5;28;01mreturn\u001b[39;00m \u001b[43m_default_encoder\u001b[49m\u001b[38;5;241;43m.\u001b[39;49m\u001b[43mencode\u001b[49m\u001b[43m(\u001b[49m\u001b[43mobj\u001b[49m\u001b[43m)\u001b[49m\n\u001b[0;32m    232\u001b[0m \u001b[38;5;28;01mif\u001b[39;00m \u001b[38;5;28mcls\u001b[39m \u001b[38;5;129;01mis\u001b[39;00m \u001b[38;5;28;01mNone\u001b[39;00m:\n\u001b[0;32m    233\u001b[0m     \u001b[38;5;28mcls\u001b[39m \u001b[38;5;241m=\u001b[39m JSONEncoder\n",
      "File \u001b[1;32m~\\AppData\\Local\\Programs\\Python\\Python312\\Lib\\json\\encoder.py:200\u001b[0m, in \u001b[0;36mJSONEncoder.encode\u001b[1;34m(self, o)\u001b[0m\n\u001b[0;32m    196\u001b[0m         \u001b[38;5;28;01mreturn\u001b[39;00m encode_basestring(o)\n\u001b[0;32m    197\u001b[0m \u001b[38;5;66;03m# This doesn't pass the iterator directly to ''.join() because the\u001b[39;00m\n\u001b[0;32m    198\u001b[0m \u001b[38;5;66;03m# exceptions aren't as detailed.  The list call should be roughly\u001b[39;00m\n\u001b[0;32m    199\u001b[0m \u001b[38;5;66;03m# equivalent to the PySequence_Fast that ''.join() would do.\u001b[39;00m\n\u001b[1;32m--> 200\u001b[0m chunks \u001b[38;5;241m=\u001b[39m \u001b[38;5;28;43mself\u001b[39;49m\u001b[38;5;241;43m.\u001b[39;49m\u001b[43miterencode\u001b[49m\u001b[43m(\u001b[49m\u001b[43mo\u001b[49m\u001b[43m,\u001b[49m\u001b[43m \u001b[49m\u001b[43m_one_shot\u001b[49m\u001b[38;5;241;43m=\u001b[39;49m\u001b[38;5;28;43;01mTrue\u001b[39;49;00m\u001b[43m)\u001b[49m\n\u001b[0;32m    201\u001b[0m \u001b[38;5;28;01mif\u001b[39;00m \u001b[38;5;129;01mnot\u001b[39;00m \u001b[38;5;28misinstance\u001b[39m(chunks, (\u001b[38;5;28mlist\u001b[39m, \u001b[38;5;28mtuple\u001b[39m)):\n\u001b[0;32m    202\u001b[0m     chunks \u001b[38;5;241m=\u001b[39m \u001b[38;5;28mlist\u001b[39m(chunks)\n",
      "File \u001b[1;32m~\\AppData\\Local\\Programs\\Python\\Python312\\Lib\\json\\encoder.py:258\u001b[0m, in \u001b[0;36mJSONEncoder.iterencode\u001b[1;34m(self, o, _one_shot)\u001b[0m\n\u001b[0;32m    253\u001b[0m \u001b[38;5;28;01melse\u001b[39;00m:\n\u001b[0;32m    254\u001b[0m     _iterencode \u001b[38;5;241m=\u001b[39m _make_iterencode(\n\u001b[0;32m    255\u001b[0m         markers, \u001b[38;5;28mself\u001b[39m\u001b[38;5;241m.\u001b[39mdefault, _encoder, \u001b[38;5;28mself\u001b[39m\u001b[38;5;241m.\u001b[39mindent, floatstr,\n\u001b[0;32m    256\u001b[0m         \u001b[38;5;28mself\u001b[39m\u001b[38;5;241m.\u001b[39mkey_separator, \u001b[38;5;28mself\u001b[39m\u001b[38;5;241m.\u001b[39mitem_separator, \u001b[38;5;28mself\u001b[39m\u001b[38;5;241m.\u001b[39msort_keys,\n\u001b[0;32m    257\u001b[0m         \u001b[38;5;28mself\u001b[39m\u001b[38;5;241m.\u001b[39mskipkeys, _one_shot)\n\u001b[1;32m--> 258\u001b[0m \u001b[38;5;28;01mreturn\u001b[39;00m \u001b[43m_iterencode\u001b[49m\u001b[43m(\u001b[49m\u001b[43mo\u001b[49m\u001b[43m,\u001b[49m\u001b[43m \u001b[49m\u001b[38;5;241;43m0\u001b[39;49m\u001b[43m)\u001b[49m\n",
      "File \u001b[1;32m~\\AppData\\Local\\Programs\\Python\\Python312\\Lib\\json\\encoder.py:180\u001b[0m, in \u001b[0;36mJSONEncoder.default\u001b[1;34m(self, o)\u001b[0m\n\u001b[0;32m    161\u001b[0m \u001b[38;5;28;01mdef\u001b[39;00m \u001b[38;5;21mdefault\u001b[39m(\u001b[38;5;28mself\u001b[39m, o):\n\u001b[0;32m    162\u001b[0m \u001b[38;5;250m    \u001b[39m\u001b[38;5;124;03m\"\"\"Implement this method in a subclass such that it returns\u001b[39;00m\n\u001b[0;32m    163\u001b[0m \u001b[38;5;124;03m    a serializable object for ``o``, or calls the base implementation\u001b[39;00m\n\u001b[0;32m    164\u001b[0m \u001b[38;5;124;03m    (to raise a ``TypeError``).\u001b[39;00m\n\u001b[1;32m   (...)\u001b[0m\n\u001b[0;32m    178\u001b[0m \n\u001b[0;32m    179\u001b[0m \u001b[38;5;124;03m    \"\"\"\u001b[39;00m\n\u001b[1;32m--> 180\u001b[0m     \u001b[38;5;28;01mraise\u001b[39;00m \u001b[38;5;167;01mTypeError\u001b[39;00m(\u001b[38;5;124mf\u001b[39m\u001b[38;5;124m'\u001b[39m\u001b[38;5;124mObject of type \u001b[39m\u001b[38;5;132;01m{\u001b[39;00mo\u001b[38;5;241m.\u001b[39m\u001b[38;5;18m__class__\u001b[39m\u001b[38;5;241m.\u001b[39m\u001b[38;5;18m__name__\u001b[39m\u001b[38;5;132;01m}\u001b[39;00m\u001b[38;5;124m \u001b[39m\u001b[38;5;124m'\u001b[39m\n\u001b[0;32m    181\u001b[0m                     \u001b[38;5;124mf\u001b[39m\u001b[38;5;124m'\u001b[39m\u001b[38;5;124mis not JSON serializable\u001b[39m\u001b[38;5;124m'\u001b[39m)\n",
      "\u001b[1;31mTypeError\u001b[0m: Object of type Cow is not JSON serializable"
     ]
    }
   ],
   "source": [
    "json.dumps(cow1)"
   ]
  }
 ],
 "metadata": {
  "kernelspec": {
   "display_name": "Python 3 (ipykernel)",
   "language": "python",
   "name": "python3"
  },
  "language_info": {
   "codemirror_mode": {
    "name": "ipython",
    "version": 3
   },
   "file_extension": ".py",
   "mimetype": "text/x-python",
   "name": "python",
   "nbconvert_exporter": "python",
   "pygments_lexer": "ipython3",
   "version": "3.12.4"
  }
 },
 "nbformat": 4,
 "nbformat_minor": 5
}
