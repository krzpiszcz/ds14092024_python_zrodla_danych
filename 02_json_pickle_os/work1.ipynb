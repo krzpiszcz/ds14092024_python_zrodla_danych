{
 "cells": [
  {
   "cell_type": "code",
   "execution_count": 18,
   "id": "85a7eb86-1780-466b-ace0-1cb742d7a6c5",
   "metadata": {},
   "outputs": [
    {
     "name": "stdout",
     "output_type": "stream",
     "text": [
      "{\n",
      "  \"employees\": [\n",
      "    {\n",
      "      \"name\": \"Jan Kowalski\",\n",
      "      \"department\": \"HR\",\n",
      "      \"years_of_service\": 5\n",
      "    },\n",
      "    {\n",
      "      \"name\": \"Anna Nowak\",\n",
      "      \"department\": \"IT\",\n",
      "      \"years_of_service\": 3\n",
      "    },\n",
      "    {\n",
      "      \"name\": \"Piotr WiÅ›niewski\",\n",
      "      \"department\": \"Finance\",\n",
      "      \"years_of_service\": 7\n",
      "    },\n",
      "    {\n",
      "      \"name\": \"Katarzyna WÃ³jcik\",\n",
      "      \"department\": \"IT\",\n",
      "      \"years_of_service\": 6\n",
      "    },\n",
      "    {\n",
      "      \"name\": \"Tomasz Lewandowski\",\n",
      "      \"department\": \"Marketing\",\n",
      "      \"years_of_service\": 2\n",
      "    }\n",
      "  ]\n",
      "}\n",
      "\n"
     ]
    }
   ],
   "source": [
    "with open(\"employees.json\") as file:\n",
    "    content = file.read()\n",
    "print(content)"
   ]
  },
  {
   "cell_type": "code",
   "execution_count": 19,
   "id": "55209370-50a0-496e-aaaa-133784b1f98f",
   "metadata": {},
   "outputs": [
    {
     "data": {
      "text/plain": [
       "str"
      ]
     },
     "execution_count": 19,
     "metadata": {},
     "output_type": "execute_result"
    }
   ],
   "source": [
    "import json\n",
    "jcontent = json.loads(content)\n",
    "type(content)"
   ]
  },
  {
   "cell_type": "code",
   "execution_count": 20,
   "id": "58b61a15-54af-4bdf-a815-02c77d366e51",
   "metadata": {},
   "outputs": [
    {
     "data": {
      "text/plain": [
       "[{'name': 'Jan Kowalski', 'department': 'HR', 'years_of_service': 5},\n",
       " {'name': 'Anna Nowak', 'department': 'IT', 'years_of_service': 3},\n",
       " {'name': 'Piotr WiÅ›niewski', 'department': 'Finance', 'years_of_service': 7},\n",
       " {'name': 'Katarzyna WÃ³jcik', 'department': 'IT', 'years_of_service': 6},\n",
       " {'name': 'Tomasz Lewandowski',\n",
       "  'department': 'Marketing',\n",
       "  'years_of_service': 2}]"
      ]
     },
     "execution_count": 20,
     "metadata": {},
     "output_type": "execute_result"
    }
   ],
   "source": [
    "jcontent['employees']"
   ]
  },
  {
   "cell_type": "code",
   "execution_count": 21,
   "id": "308d811d-b491-48dc-acca-63b8afed91aa",
   "metadata": {},
   "outputs": [
    {
     "data": {
      "text/plain": [
       "dict"
      ]
     },
     "execution_count": 21,
     "metadata": {},
     "output_type": "execute_result"
    }
   ],
   "source": [
    "type(jcontent)"
   ]
  },
  {
   "cell_type": "code",
   "execution_count": 22,
   "id": "86bc4007-21b5-452d-a91a-469bdcab7109",
   "metadata": {},
   "outputs": [],
   "source": [
    "max_years = max(jcontent['employees'], key=lambda item: item['years_of_service'])"
   ]
  },
  {
   "cell_type": "code",
   "execution_count": 23,
   "id": "5cedc8e8-40f5-42e7-8122-d6f36333f52f",
   "metadata": {},
   "outputs": [
    {
     "data": {
      "text/plain": [
       "{'name': 'Piotr WiÅ›niewski', 'department': 'Finance', 'years_of_service': 7}"
      ]
     },
     "execution_count": 23,
     "metadata": {},
     "output_type": "execute_result"
    }
   ],
   "source": [
    "max_years"
   ]
  },
  {
   "cell_type": "code",
   "execution_count": 30,
   "id": "3daa8beb-dadd-4ff5-98ca-b28c4df67d75",
   "metadata": {},
   "outputs": [],
   "source": [
    "dzial_it = [employee for employee in jcontent['employees'] if employee['department']=='IT' ]"
   ]
  },
  {
   "cell_type": "code",
   "execution_count": 31,
   "id": "505668af-0d28-43cb-a0e2-7c227594c094",
   "metadata": {},
   "outputs": [
    {
     "data": {
      "text/plain": [
       "[{'name': 'Anna Nowak', 'department': 'IT', 'years_of_service': 3},\n",
       " {'name': 'Katarzyna WÃ³jcik', 'department': 'IT', 'years_of_service': 6}]"
      ]
     },
     "execution_count": 31,
     "metadata": {},
     "output_type": "execute_result"
    }
   ],
   "source": [
    "dzial_it"
   ]
  },
  {
   "cell_type": "code",
   "execution_count": null,
   "id": "1b6bdc7d-f96e-41ec-b186-8b8f87abdea3",
   "metadata": {},
   "outputs": [],
   "source": []
  }
 ],
 "metadata": {
  "kernelspec": {
   "display_name": "Python 3 (ipykernel)",
   "language": "python",
   "name": "python3"
  },
  "language_info": {
   "codemirror_mode": {
    "name": "ipython",
    "version": 3
   },
   "file_extension": ".py",
   "mimetype": "text/x-python",
   "name": "python",
   "nbconvert_exporter": "python",
   "pygments_lexer": "ipython3",
   "version": "3.11.10"
  }
 },
 "nbformat": 4,
 "nbformat_minor": 5
}
