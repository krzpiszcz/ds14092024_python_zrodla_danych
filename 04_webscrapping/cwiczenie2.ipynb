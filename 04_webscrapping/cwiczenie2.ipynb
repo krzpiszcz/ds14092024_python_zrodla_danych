{
 "cells": [
  {
   "cell_type": "markdown",
   "id": "2973828b-c422-446c-95e9-cad96d3e7043",
   "metadata": {},
   "source": [
    "### [IMDb](https://www.imdb.com)"
   ]
  },
  {
   "cell_type": "markdown",
   "id": "6ae08d9d-b4c0-4d0f-87b8-8728870287fe",
   "metadata": {},
   "source": [
    "Napisz program, który pobiera informacje o najpopularniejszych filmach z platformy IMDb i wyświetla je w formie DataFrame, zawierającej kolumny takie jak tytuł filmu, rok produkcji, ocena IMDb oraz główne gatunki."
   ]
  },
  {
   "cell_type": "code",
   "execution_count": 5,
   "id": "2a04e9ec-50d5-43a5-aa7f-2f99339f7cf7",
   "metadata": {},
   "outputs": [],
   "source": [
    "import requests\n",
    "\n",
    "headers = {\n",
    "    \"User-Agent\": \"Mozilla/5.0 (Windows NT 10.0; Win64; x64) AppleWebKit/537.36 (KHTML, like Gecko) Chrome/130.0.0.0 Safari/537.36 Edg/130.0.0.0\"\n",
    "}\n",
    "url = \"https://www.imdb.com/chart/top/\"\n",
    "\n",
    "res = requests.get(url, headers=headers)\n",
    "content = res.text"
   ]
  },
  {
   "cell_type": "code",
   "execution_count": 6,
   "id": "1aeed3dd-0d60-489c-bad0-6fea7b4f2da5",
   "metadata": {},
   "outputs": [],
   "source": [
    "from bs4 import BeautifulSoup\n",
    "\n",
    "soup = BeautifulSoup(content, 'html.parser')"
   ]
  },
  {
   "cell_type": "code",
   "execution_count": 8,
   "id": "3b77a69d-c376-49be-941c-f92abb85f4b4",
   "metadata": {},
   "outputs": [
    {
     "name": "stdout",
     "output_type": "stream",
     "text": [
      "IMDb Charts\n",
      "IMDb Top 250 Movies\n",
      "1. Skazani na Shawshank\n",
      "2. Ojciec chrzestny\n",
      "3. Mroczny Rycerz\n",
      "4. Ojciec chrzestny II\n",
      "5. Dwunastu gniewnych ludzi\n",
      "6. Władca Pierścieni: Powrót króla\n",
      "7. Lista Schindlera\n",
      "8. Pulp Fiction\n",
      "9. Władca Pierścieni: Drużyna Pierścienia\n",
      "10. Dobry, zły i brzydki\n",
      "11. Forrest Gump\n",
      "12. Władca Pierścieni: Dwie wieże\n",
      "13. Podziemny krąg\n",
      "14. Incepcja\n",
      "15. Gwiezdne wojny: Część V - Imperium kontratakuje\n",
      "16. Matrix\n",
      "17. Chłopcy z ferajny\n",
      "18. Lot nad kukułczym gniazdem\n",
      "19. Interstellar\n",
      "20. Siedem\n",
      "21. To wspaniałe życie\n",
      "22. Siedmiu samurajów\n",
      "23. Milczenie owiec\n",
      "24. Szeregowiec Ryan\n",
      "25. Miasto Boga\n",
      "Recently viewed\n"
     ]
    }
   ],
   "source": [
    "movies = soup.select(\".ipc-title__text\")\n",
    "for movie in movies:\n",
    "    print(movie.text)"
   ]
  },
  {
   "cell_type": "markdown",
   "id": "cf40f215-f9cb-421c-af98-f5c2dcb3243c",
   "metadata": {},
   "source": [
    "Propozycja innego rozwiązania (z wykorzystaniem pandas dla różnorodności technik):"
   ]
  },
  {
   "cell_type": "code",
   "execution_count": 10,
   "id": "d85133f7-aebc-44a0-a7ce-9e92bb12bfb9",
   "metadata": {},
   "outputs": [
    {
     "name": "stdout",
     "output_type": "stream",
     "text": [
      "Collecting pandas\n",
      "  Obtaining dependency information for pandas from https://files.pythonhosted.org/packages/29/d4/1244ab8edf173a10fd601f7e13b9566c1b525c4f365d6bee918e68381889/pandas-2.2.3-cp312-cp312-win_amd64.whl.metadata\n",
      "  Using cached pandas-2.2.3-cp312-cp312-win_amd64.whl.metadata (19 kB)\n",
      "Requirement already satisfied: numpy>=1.26.0 in c:\\users\\j.grynczewski\\pycharmprojects\\ds14092024_python_zrodla_danych\\.venv\\lib\\site-packages (from pandas) (2.1.2)\n",
      "Requirement already satisfied: python-dateutil>=2.8.2 in c:\\users\\j.grynczewski\\pycharmprojects\\ds14092024_python_zrodla_danych\\.venv\\lib\\site-packages (from pandas) (2.9.0.post0)\n",
      "Collecting pytz>=2020.1 (from pandas)\n",
      "  Obtaining dependency information for pytz>=2020.1 from https://files.pythonhosted.org/packages/11/c3/005fcca25ce078d2cc29fd559379817424e94885510568bc1bc53d7d5846/pytz-2024.2-py2.py3-none-any.whl.metadata\n",
      "  Using cached pytz-2024.2-py2.py3-none-any.whl.metadata (22 kB)\n",
      "Collecting tzdata>=2022.7 (from pandas)\n",
      "  Obtaining dependency information for tzdata>=2022.7 from https://files.pythonhosted.org/packages/a6/ab/7e5f53c3b9d14972843a647d8d7a853969a58aecc7559cb3267302c94774/tzdata-2024.2-py2.py3-none-any.whl.metadata\n",
      "  Using cached tzdata-2024.2-py2.py3-none-any.whl.metadata (1.4 kB)\n",
      "Requirement already satisfied: six>=1.5 in c:\\users\\j.grynczewski\\pycharmprojects\\ds14092024_python_zrodla_danych\\.venv\\lib\\site-packages (from python-dateutil>=2.8.2->pandas) (1.16.0)\n",
      "Using cached pandas-2.2.3-cp312-cp312-win_amd64.whl (11.5 MB)\n",
      "Using cached pytz-2024.2-py2.py3-none-any.whl (508 kB)\n",
      "Using cached tzdata-2024.2-py2.py3-none-any.whl (346 kB)\n",
      "Installing collected packages: pytz, tzdata, pandas\n",
      "Successfully installed pandas-2.2.3 pytz-2024.2 tzdata-2024.2\n"
     ]
    },
    {
     "name": "stderr",
     "output_type": "stream",
     "text": [
      "\n",
      "[notice] A new release of pip is available: 23.2.1 -> 24.2\n",
      "[notice] To update, run: python.exe -m pip install --upgrade pip\n"
     ]
    }
   ],
   "source": [
    "!pip install pandas"
   ]
  },
  {
   "cell_type": "code",
   "execution_count": 16,
   "id": "01de93a9-b080-4ba8-9fba-0b455c5756c5",
   "metadata": {},
   "outputs": [
    {
     "name": "stdout",
     "output_type": "stream",
     "text": [
      "\n",
      "Informacje o najpopularniejszych filmach z IMDb:\n",
      "                                                Title      Rating\n",
      "0                                         IMDb Charts    9.3 (3M)\n",
      "1                                 IMDb Top 250 Movies        Rate\n",
      "2                             1. Skazani na Shawshank  9.2 (2.1M)\n",
      "3                                 2. Ojciec chrzestny        Rate\n",
      "4                                   3. Mroczny Rycerz  9.0 (2.9M)\n",
      "5                              4. Ojciec chrzestny II        Rate\n",
      "6                         5. Dwunastu gniewnych ludzi  9.0 (1.4M)\n",
      "7                  6. Władca Pierścieni: Powrót króla        Rate\n",
      "8                                 7. Lista Schindlera  9.0 (890K)\n",
      "9                                     8. Pulp Fiction        Rate\n",
      "10          9. Władca Pierścieni: Drużyna Pierścienia    9.0 (2M)\n",
      "11                           10. Dobry, zły i brzydki        Rate\n",
      "12                                   11. Forrest Gump  9.0 (1.5M)\n",
      "13                  12. Władca Pierścieni: Dwie wieże        Rate\n",
      "14                                 13. Podziemny krąg  8.9 (2.3M)\n",
      "15                                       14. Incepcja        Rate\n",
      "16  15. Gwiezdne wojny: Część V - Imperium kontrat...  8.9 (2.1M)\n",
      "17                                         16. Matrix        Rate\n",
      "18                              17. Chłopcy z ferajny  8.8 (828K)\n",
      "19                     18. Lot nad kukułczym gniazdem        Rate\n",
      "20                                   19. Interstellar  8.8 (2.3M)\n",
      "21                                         20. Siedem        Rate\n",
      "22                             21. To wspaniałe życie  8.8 (1.8M)\n",
      "23                              22. Siedmiu samurajów        Rate\n",
      "24                                23. Milczenie owiec  8.8 (2.4M)\n",
      "25                               24. Szeregowiec Ryan        Rate\n",
      "26                                    25. Miasto Boga  8.8 (2.6M)\n",
      "27                                    Recently viewed        Rate\n"
     ]
    }
   ],
   "source": [
    "import requests\n",
    "from bs4 import BeautifulSoup\n",
    "import pandas as pd\n",
    "\n",
    "url = \"https://www.imdb.com/chart/top/\"\n",
    "headers = {\n",
    "    \"User-Agent\": \"Mozilla/5.0 (Windows NT 10.0; Win64; x64) AppleWebKit/537.36 (KHTML, like Gecko) Chrome/91.0.4472.124 Safari/537.36\"\n",
    "}\n",
    "response = requests.get(url, headers=headers)\n",
    "soup = BeautifulSoup(response.content, 'html.parser')\n",
    "movies = soup.select(\".ipc-title__text\")\n",
    "ratings = soup.select(\".ipc-rating-star\")\n",
    "data = []\n",
    "\n",
    "for idx in range(len(movies)):\n",
    "    title = movies[idx].text\n",
    "    rating = ratings[idx].text\n",
    "    data.append({\"Title\": title, \"Rating\": rating})\n",
    "\n",
    "df = pd.DataFrame(data)\n",
    "print(\"\\nInformacje o najpopularniejszych filmach z IMDb:\")\n",
    "print(df)"
   ]
  },
  {
   "cell_type": "code",
   "execution_count": null,
   "id": "00056a19-fe26-4eb9-adfe-a94d948c1108",
   "metadata": {},
   "outputs": [],
   "source": []
  }
 ],
 "metadata": {
  "kernelspec": {
   "display_name": "Python 3 (ipykernel)",
   "language": "python",
   "name": "python3"
  },
  "language_info": {
   "codemirror_mode": {
    "name": "ipython",
    "version": 3
   },
   "file_extension": ".py",
   "mimetype": "text/x-python",
   "name": "python",
   "nbconvert_exporter": "python",
   "pygments_lexer": "ipython3",
   "version": "3.12.4"
  }
 },
 "nbformat": 4,
 "nbformat_minor": 5
}
