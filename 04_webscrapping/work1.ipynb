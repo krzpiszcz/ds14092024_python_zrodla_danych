{
 "cells": [
  {
   "cell_type": "code",
   "execution_count": 2,
   "id": "fe681017-1828-4015-9525-eca28b0a2831",
   "metadata": {},
   "outputs": [],
   "source": [
    "import requests as req\n",
    "from bs4 import BeautifulSoup"
   ]
  },
  {
   "cell_type": "code",
   "execution_count": 12,
   "id": "8ee1b697-ea04-4d18-8b8a-a8ed98d7bb6d",
   "metadata": {},
   "outputs": [
    {
     "data": {
      "text/plain": [
       "200"
      ]
     },
     "execution_count": 12,
     "metadata": {},
     "output_type": "execute_result"
    }
   ],
   "source": [
    "url = \"https://www.bbc.com/news\"  \n",
    "response = req.get(url)\n",
    "response.status_code"
   ]
  },
  {
   "cell_type": "code",
   "execution_count": 25,
   "id": "2b0d23cf-625e-4fe6-a45a-cb2652533145",
   "metadata": {},
   "outputs": [
    {
     "data": {
      "text/plain": [
       "['__call__',\n",
       " '__class__',\n",
       " '__delattr__',\n",
       " '__dir__',\n",
       " '__doc__',\n",
       " '__eq__',\n",
       " '__format__',\n",
       " '__func__',\n",
       " '__ge__',\n",
       " '__getattribute__',\n",
       " '__getstate__',\n",
       " '__gt__',\n",
       " '__hash__',\n",
       " '__init__',\n",
       " '__init_subclass__',\n",
       " '__le__',\n",
       " '__lt__',\n",
       " '__ne__',\n",
       " '__new__',\n",
       " '__reduce__',\n",
       " '__reduce_ex__',\n",
       " '__repr__',\n",
       " '__self__',\n",
       " '__setattr__',\n",
       " '__sizeof__',\n",
       " '__str__',\n",
       " '__subclasshook__']"
      ]
     },
     "execution_count": 25,
     "metadata": {},
     "output_type": "execute_result"
    }
   ],
   "source": [
    "response.content\n",
    "soup = BeautifulSoup(response.content, 'html.parser')\n",
    "dir(soup.find_all)\n",
    "\n",
    "# articles = soup.find_all('h2',class_='sc-8ea7699c-3 dhclWg')\n",
    "# bbc_headers = [article.text.strip() for article in articles]\n",
    "# bbc_headers\n",
    "# print(\"\\nNajnowsze tytuly:\")\n",
    "# for title in bbc_headers:\n",
    "#     print(\"-\", title)\n",
    "# # if response.status_code == 200:\n",
    "# #     soup = BeautifulSoup(response.content, 'html.parser')\n",
    "# #     articles = soup.find_all('h2', class_='sc-8ea7699c-3 dhclWg')\n",
    "# #     articles.text"
   ]
  },
  {
   "cell_type": "code",
   "execution_count": null,
   "id": "ab95a7b3-8f61-48f8-8714-60857be4f856",
   "metadata": {},
   "outputs": [],
   "source": []
  }
 ],
 "metadata": {
  "kernelspec": {
   "display_name": "Python 3 (ipykernel)",
   "language": "python",
   "name": "python3"
  },
  "language_info": {
   "codemirror_mode": {
    "name": "ipython",
    "version": 3
   },
   "file_extension": ".py",
   "mimetype": "text/x-python",
   "name": "python",
   "nbconvert_exporter": "python",
   "pygments_lexer": "ipython3",
   "version": "3.11.10"
  }
 },
 "nbformat": 4,
 "nbformat_minor": 5
}
