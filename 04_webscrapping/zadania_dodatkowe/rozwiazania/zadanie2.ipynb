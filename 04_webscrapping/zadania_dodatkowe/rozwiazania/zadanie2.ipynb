{
 "cells": [
  {
   "cell_type": "markdown",
   "id": "8fd0ed33-bdf6-4fe5-b0dc-9650feb3d6bf",
   "metadata": {},
   "source": [
    "### Webscraping i JSON\n",
    "\n",
    "Twoim zadaniem jest napisanie skryptu w Pythonie, który pobierze dane z wybranej strony internetowej, zapisze je w formacie JSON, a następnie odczyta i wyświetli te dane. Wykorzystaj stronę internetową z aktualnymi kursami walut, np. https://www.x-rates.com/table/?from=USD&amount=1.\n",
    "\n",
    "* Krok 1: Webscraping \\\n",
    "Pobierz stronę z kursami walut (https://www.x-rates.com/table/?from=USD&amount=1).\n",
    "Wyodrębnij z niej kursy walut względem dolara amerykańskiego (USD).\n",
    "\n",
    "* Krok 2: Zapis do JSON \\\n",
    "Zapisz wyodrębnione dane do pliku JSON, np. currencies.json.\n",
    "\n",
    "* Krok 3: Odczyt i wyświetlenie danych \\\n",
    "Odczytaj dane z pliku JSON i wyświetl je na ekranie."
   ]
  },
  {
   "cell_type": "code",
   "execution_count": 1,
   "id": "fc815d2a-b098-4d23-b970-4d306e01be39",
   "metadata": {},
   "outputs": [
    {
     "name": "stdout",
     "output_type": "stream",
     "text": [
      "{\n",
      "    \"Euro\": \"0.925989\",\n",
      "    \"British Pound\": \"0.771573\",\n",
      "    \"Indian Rupee\": \"84.098156\",\n",
      "    \"Australian Dollar\": \"1.513857\",\n",
      "    \"Canadian Dollar\": \"1.388957\",\n",
      "    \"Singapore Dollar\": \"1.321260\",\n",
      "    \"Swiss Franc\": \"0.866914\",\n",
      "    \"Malaysian Ringgit\": \"4.340229\",\n",
      "    \"Japanese Yen\": \"152.288588\",\n",
      "    \"Chinese Yuan Renminbi\": \"7.120863\"\n",
      "}\n"
     ]
    }
   ],
   "source": [
    "import requests\n",
    "from bs4 import BeautifulSoup\n",
    "import json\n",
    "\n",
    "# Krok 1: Webscraping\n",
    "url = 'https://www.x-rates.com/table/?from=USD&amount=1'\n",
    "response = requests.get(url)\n",
    "soup = BeautifulSoup(response.content, 'html.parser')\n",
    "\n",
    "# Znalezienie tabeli z kursami walut\n",
    "table = soup.find('table', {'class': 'ratesTable'})\n",
    "\n",
    "# Wyodrębnienie danych z tabeli\n",
    "currencies = {}\n",
    "for row in table.find_all('tr')[1:]:  # pomijamy nagłówek tabeli\n",
    "    cells = row.find_all('td')\n",
    "    currency_name = cells[0].get_text()\n",
    "    exchange_rate = cells[1].get_text()\n",
    "    currencies[currency_name] = exchange_rate\n",
    "\n",
    "# Krok 2: Zapis do JSON\n",
    "with open('currencies.json', 'w') as json_file:\n",
    "    json.dump(currencies, json_file, indent=4)\n",
    "\n",
    "# Krok 3: Odczyt i wyświetlenie danych\n",
    "with open('currencies.json', 'r') as json_file:\n",
    "    data = json.load(json_file)\n",
    "\n",
    "print(json.dumps(data, indent=4))"
   ]
  },
  {
   "cell_type": "code",
   "execution_count": null,
   "id": "9e782185-7ab4-482e-aa31-9278192f4476",
   "metadata": {},
   "outputs": [],
   "source": []
  }
 ],
 "metadata": {
  "kernelspec": {
   "display_name": "Python 3 (ipykernel)",
   "language": "python",
   "name": "python3"
  },
  "language_info": {
   "codemirror_mode": {
    "name": "ipython",
    "version": 3
   },
   "file_extension": ".py",
   "mimetype": "text/x-python",
   "name": "python",
   "nbconvert_exporter": "python",
   "pygments_lexer": "ipython3",
   "version": "3.12.4"
  }
 },
 "nbformat": 4,
 "nbformat_minor": 5
}
