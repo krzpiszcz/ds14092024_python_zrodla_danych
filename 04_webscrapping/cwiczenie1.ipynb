{
 "cells": [
  {
   "cell_type": "markdown",
   "id": "7726bafe-8c3a-40ac-90fb-aa34f7ac0787",
   "metadata": {},
   "source": [
    "### [NBP](https://www.nbp.pl/)"
   ]
  },
  {
   "cell_type": "markdown",
   "id": "c92475e3-9b58-422b-9ca5-e83da2c6f873",
   "metadata": {},
   "source": [
    "#### To zadanie nie zadziała, bo strona ma zabezpieczenie. Żeby je obejść patrz cwiczenie3.ipynb.\n",
    "\n",
    "To zadanie ma na celu przetestowanie, czy wszystkie potrzebne biblioteki i sterowniki są zainstalowane poprawnie. \n",
    "Jeśli wszystko działa zgodnie z planem, na końcu zobaczysz kursy pięciu walut odczytane ze strony Narodowego Banku Polskiego."
   ]
  },
  {
   "cell_type": "code",
   "execution_count": 12,
   "id": "872f959a-6b55-4da2-8fb8-299e9318dc29",
   "metadata": {},
   "outputs": [
    {
     "name": "stdout",
     "output_type": "stream",
     "text": [
      "1 USD jest w tej chwili warty 4,0219 złotych\n",
      "1 EUR jest w tej chwili warty 4,3533 złotych\n",
      "1 CHF jest w tej chwili warty 4,6403 złotych\n",
      "1 GBP jest w tej chwili warty 5,2188 złotych\n",
      "100 JPY jest w tej chwili warty 2,6468 złotych\n",
      "Odczytano kursy 5 pięciu walut\n"
     ]
    }
   ],
   "source": [
    "from bs4 import BeautifulSoup\n",
    "import requests\n",
    "\n",
    "url = \"https://nbp.pl/\"\n",
    "headers = {\n",
    "    \"User-Agent\": \"Mozilla/5.0 (Windows NT 10.0; Win64; x64) AppleWebKit/537.36 (KHTML, like Gecko) Chrome/130.0.0.0 Safari/537.36 Edg/130.0.0.0\"\n",
    "}  # obejście zabezpieczenia\n",
    "website = requests.get('https://www.nbp.pl/', headers=headers)\n",
    "content = BeautifulSoup(website.text, 'html.parser')\n",
    "\n",
    "currencies = content.find_all('div', class_='exchange__table-col-1')\n",
    "rates = content.find_all('div', class_='exchange__table-col-2')\n",
    "\n",
    "for currency, rate in zip(currencies, rates):\n",
    "    print(f'{currency.text.strip()} jest w tej chwili warty {rate.text.strip()} złotych')\n",
    "\n",
    "print(f'Odczytano kursy {len(currencies)} pięciu walut')"
   ]
  }
 ],
 "metadata": {
  "kernelspec": {
   "display_name": "Python 3 (ipykernel)",
   "language": "python",
   "name": "python3"
  },
  "language_info": {
   "codemirror_mode": {
    "name": "ipython",
    "version": 3
   },
   "file_extension": ".py",
   "mimetype": "text/x-python",
   "name": "python",
   "nbconvert_exporter": "python",
   "pygments_lexer": "ipython3",
   "version": "3.12.4"
  }
 },
 "nbformat": 4,
 "nbformat_minor": 5
}
