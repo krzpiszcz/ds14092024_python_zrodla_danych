{
 "cells": [
  {
   "cell_type": "markdown",
   "id": "07b82675-832d-4eb4-a785-6130b02e2393",
   "metadata": {},
   "source": [
    "### [BBC News](https://www.bbc.com/news)"
   ]
  },
  {
   "cell_type": "markdown",
   "id": "070dc18d-2cea-4b7d-b089-523e731536d1",
   "metadata": {},
   "source": [
    "Napisz program, który pobiera tytuły najnowszych artykułów z pierwszej strony BBC News i wyświetla je na ekranie."
   ]
  },
  {
   "cell_type": "code",
   "execution_count": 2,
   "id": "89ff39b6-d70e-42b1-ba40-ee10d266afa1",
   "metadata": {},
   "outputs": [
    {
     "name": "stdout",
     "output_type": "stream",
     "text": [
      "\n",
      "Najnowsze tytuły artykułów z BBC News:\n",
      "- Harris repeats abortion rights pledge as Vance calls Trump 'candidate of peace'\n",
      "- Tearful Adele hugs Celine Dion at Las Vegas show\n",
      "- Georgia's pro-EU opposition says vote stolen as ruling party claims victory\n",
      "- One dead, dozens injured after truck hits Israel bus stop\n",
      "- Harris repeats abortion rights pledge as Vance calls Trump 'candidate of peace'\n",
      "- Exit polls suggest Japan ruling party set to fall short of majority\n",
      "- How my investigation led to sex trafficking charges against ex-Abercrombie boss\n",
      "- A puff on a joint - then six months of forced rehab in a concrete cell\n",
      "- Tearful Adele hugs Celine Dion at Las Vegas show\n",
      "- New wave of mass killings in Sudan alarms UN\n",
      "- What’s really behind America’s men v women election\n",
      "- The couple who took on Google and cost the tech giant £2bn\n",
      "- La Liga and Real condemn Yamal racist abuse\n",
      "- Singer apologises after swearing on live TV during US anthem\n",
      "- Jeremy Bowen: Iran faces hard choices between risks of escalation or looking weak\n",
      "- BBC correspondent: I fled Gaza but I'm overwhelmed by guilt about family still there\n",
      "- What we know about Israel’s attack on Iran\n",
      "- Gaza’s only concert grand piano becomes image of hope\n",
      "- Why has Israel attacked Iran?\n",
      "- Pixies: 'The more you try to recapture youth, the sillier it sounds'\n",
      "- The hybrid workers seeking fulfilment in the fields\n",
      "- A party in power for 58 years pledges change for Botswana\n",
      "- 'We are in danger' - Spanish anti-tourism spills into winter season\n",
      "- Pixies: 'The more you try to recapture youth, the sillier it sounds'\n",
      "- 'I married the train driver who saved my life'\n",
      "- How Diana's trips to homeless shelter changed Prince William\n",
      "- The hybrid workers seeking fulfilment in the fields\n",
      "- Your rage does not exist in a vacuum - Michelle Obama\n",
      "- What are Harris and Trump's policies?\n",
      "- Ros Atkins on… Would Donald Trump accept defeat?\n",
      "- A simple guide to the US 2024 presidential election\n",
      "- Who is ahead in the polls - Harris or Trump?\n",
      "- FBI identifies 400 people affected by Lockerbie bombing ahead of suspect's US trial\n",
      "- Indian man dies as UK-bound migrant boat sinks in English Channel\n",
      "- Papal summit ends with call for leadership roles for women\n",
      "- In three-hour Rogan interview, Trump reveals 'biggest mistake'\n",
      "- FBI identifies 400 people affected by Lockerbie bombing ahead of suspect's US trial\n",
      "- How an online predator thousands of miles away destroyed a US family\n",
      "- Kenyan activist detained after raid by 'masked' group\n",
      "- Indian man dies as UK-bound migrant boat sinks in English Channel\n",
      "- Two tries for Ashton as England head for victory against Samoa\n",
      "- Late Bowen penalty gives West Ham win against Man Utd\n",
      "- Palmer hits seventh of season as Chelsea beat Newcastle\n",
      "- La Liga and Real condemn Yamal racist abuse\n",
      "- Two tries for Ashton as England head for victory against Samoa\n",
      "- Premier League: West Ham stun Man Utd, Palace beat Spurs & Chelsea win\n",
      "- Celtic double lead as St Mirren hold Rangers\n",
      "- Late Bowen penalty gives West Ham win against Man Utd\n"
     ]
    }
   ],
   "source": [
    "import requests\n",
    "from bs4 import BeautifulSoup\n",
    "\n",
    "url = \"https://www.bbc.com/news\"  \n",
    "response = requests.get(url)\n",
    "soup = BeautifulSoup(response.content, 'html.parser')\n",
    "articles = soup.find_all('h2', class_='sc-8ea7699c-3 dhclWg')  # to pewnie za chwilę nie zadziała, bo\n",
    "# zmienią nazwę klasy wszystkim artykułom (przynajmniej tak to wygląda jakby nazwa klasy była generowana\n",
    "# losowo (i pewnie często zmieniana))\n",
    "titles = [article.text.strip() for article in articles]\n",
    "\n",
    "print(\"\\nNajnowsze tytuły artykułów z BBC News:\")\n",
    "for title in titles:\n",
    "    print(\"-\", title)"
   ]
  }
 ],
 "metadata": {
  "kernelspec": {
   "display_name": "Python 3 (ipykernel)",
   "language": "python",
   "name": "python3"
  },
  "language_info": {
   "codemirror_mode": {
    "name": "ipython",
    "version": 3
   },
   "file_extension": ".py",
   "mimetype": "text/x-python",
   "name": "python",
   "nbconvert_exporter": "python",
   "pygments_lexer": "ipython3",
   "version": "3.12.4"
  }
 },
 "nbformat": 4,
 "nbformat_minor": 5
}
