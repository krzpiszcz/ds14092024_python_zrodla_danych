{
 "cells": [
  {
   "cell_type": "markdown",
   "id": "39539e64-5ddc-4831-ac7e-b0efc0e1127b",
   "metadata": {},
   "source": [
    "### Zadanie 5\n",
    "\n",
    "Wykonaj z pomocą pythona kilka pierwszych zapytań z zadania 1."
   ]
  },
  {
   "cell_type": "markdown",
   "id": "1de22a64-bb98-4c91-972a-65b43c203676",
   "metadata": {},
   "source": [
    "Jeżeli do tego miejsca wciąż nie masz utworzonej bazy `company.db` to, aby ją utworzyć wykonaj w terminalu, w katalogu w którym znaduje się ten notatnik komendę:\n",
    "<pre><code>python setup_company_db.py</code></pre>"
   ]
  },
  {
   "cell_type": "code",
   "execution_count": 1,
   "id": "f5907294-d581-428c-a86c-296953466f73",
   "metadata": {},
   "outputs": [],
   "source": [
    "from sqlite3 import connect"
   ]
  },
  {
   "cell_type": "code",
   "execution_count": 2,
   "id": "4b27abab-4e63-49ef-be31-fcdb91998f1c",
   "metadata": {},
   "outputs": [
    {
     "name": "stdout",
     "output_type": "stream",
     "text": [
      "[('Alice', 'Smith'), ('Bob', 'Johnson'), ('Charlie', 'Williams'), ('David', 'Brown'), ('Emma', 'Jones'), ('Frank', 'Garcia'), ('Grace', 'Martinez'), ('Hannah', 'Rodriguez'), ('Ivy', 'Lopez'), ('Jack', 'Wilson'), ('Karen', 'Davis'), ('Liam', 'Martinez'), ('Mia', 'Hernandez'), ('Noah', 'Moore'), ('Olivia', 'Taylor'), ('Paul', 'Anderson'), ('Quinn', 'Thomas'), ('Rachel', 'White'), ('Sam', 'Harris'), ('Tina', 'Clark'), ('Uma', 'Lewis'), ('Victor', 'Walker'), ('Wendy', 'Hall'), ('Xander', 'Young'), ('Yara', 'King'), ('Zach', 'Scott')]\n"
     ]
    }
   ],
   "source": [
    "# A. Wyświetl imiona i nazwiska wszystkich pracowników\n",
    "stmt = \"SELECT first_name, last_name FROM employee\"\n",
    "\n",
    "with connect('company.db') as cnx:\n",
    "    cursor = cnx.cursor()\n",
    "    \n",
    "    cursor.execute(stmt)\n",
    "    result = cursor.fetchall()\n",
    "\n",
    "print(result)"
   ]
  },
  {
   "cell_type": "code",
   "execution_count": 3,
   "id": "3310b3cb-7198-45c7-9ba7-a248caaa1441",
   "metadata": {},
   "outputs": [
    {
     "name": "stdout",
     "output_type": "stream",
     "text": [
      "[('Alice', 'Smith'), ('Frank', 'Garcia'), ('Jack', 'Wilson'), ('Olivia', 'Taylor'), ('Rachel', 'White'), ('Victor', 'Walker')]\n"
     ]
    }
   ],
   "source": [
    "# B. Wyświetl imiona i nazwiska pracowników, którzy pracują w dziale 'Engineering'\n",
    "stmt = \"SELECT first_name, last_name FROM employee WHERE department = 'Engineering'\"\n",
    "\n",
    "with connect('company.db') as cnx:\n",
    "    cursor = cnx.cursor()\n",
    "    \n",
    "    cursor.execute(stmt)\n",
    "    result = cursor.fetchall()\n",
    "\n",
    "print(result)"
   ]
  },
  {
   "cell_type": "code",
   "execution_count": 4,
   "id": "516ab67f-1237-47a3-80c3-f060aab2b3b8",
   "metadata": {},
   "outputs": [
    {
     "name": "stdout",
     "output_type": "stream",
     "text": [
      "[('Bob', 'Johnson', 80000.0), ('Emma', 'Jones', 75000.0), ('Frank', 'Garcia', 85000.0), ('Jack', 'Wilson', 90000.0), ('Liam', 'Martinez', 71000.0), ('Noah', 'Moore', 80000.0), ('Paul', 'Anderson', 78000.0), ('Quinn', 'Thomas', 74000.0), ('Sam', 'Harris', 82000.0), ('Victor', 'Walker', 88000.0), ('Zach', 'Scott', 77000.0)]\n"
     ]
    }
   ],
   "source": [
    "# C. Wyświetl imiona i nazwiska oraz wynagrodzenia pracowników, którzy zarabiają więcej niż 70,000\n",
    "stmt = \"SELECT first_name, last_name, salary FROM employee WHERE salary > 70000\"\n",
    "\n",
    "with connect('company.db') as cnx:\n",
    "    cursor = cnx.cursor()\n",
    "    \n",
    "    cursor.execute(stmt)\n",
    "    result = cursor.fetchall()\n",
    "\n",
    "print(result)"
   ]
  },
  {
   "cell_type": "code",
   "execution_count": 5,
   "id": "f395ab7d-003e-492e-8cc4-506746673030",
   "metadata": {},
   "outputs": [
    {
     "name": "stdout",
     "output_type": "stream",
     "text": [
      "[('Charlie', 'Williams', 25), ('David', 'Brown', 28), ('Hannah', 'Rodriguez', 29), ('Karen', 'Davis', 27), ('Mia', 'Hernandez', 26), ('Olivia', 'Taylor', 29), ('Rachel', 'White', 28), ('Wendy', 'Hall', 27), ('Yara', 'King', 25)]\n"
     ]
    }
   ],
   "source": [
    "# D. Wyświetl imiona i nazwiska oraz wiek pracowników, którzy mają mniej niż 30 lat\n",
    "stmt = \"SELECT first_name, last_name, age FROM employee WHERE age < 30\"\n",
    "\n",
    "with connect('company.db') as cnx:\n",
    "    cursor = cnx.cursor()\n",
    "    \n",
    "    cursor.execute(stmt)\n",
    "    result = cursor.fetchall()\n",
    "\n",
    "print(result)"
   ]
  },
  {
   "cell_type": "code",
   "execution_count": 6,
   "id": "d6a80dac-8a73-4b51-b231-b4fd40bbabeb",
   "metadata": {},
   "outputs": [
    {
     "name": "stdout",
     "output_type": "stream",
     "text": [
      "[('Alice', 'Smith'), ('Charlie', 'Williams'), ('David', 'Brown'), ('Grace', 'Martinez'), ('Hannah', 'Rodriguez'), ('Karen', 'Davis'), ('Mia', 'Hernandez'), ('Olivia', 'Taylor'), ('Rachel', 'White'), ('Tina', 'Clark'), ('Wendy', 'Hall'), ('Yara', 'King')]\n"
     ]
    }
   ],
   "source": [
    "# E. Wyświetl imiona i nazwiska pracowników zatrudnionych po 1 stycznia 2019 roku\n",
    "stmt = \"SELECT first_name, last_name FROM employee WHERE hire_date > '2019-01-01'\"\n",
    "\n",
    "with connect('company.db') as cnx:\n",
    "    cursor = cnx.cursor()\n",
    "    \n",
    "    cursor.execute(stmt)\n",
    "    result = cursor.fetchall()\n",
    "\n",
    "print(result)"
   ]
  }
 ],
 "metadata": {
  "kernelspec": {
   "display_name": "Python 3 (ipykernel)",
   "language": "python",
   "name": "python3"
  },
  "language_info": {
   "codemirror_mode": {
    "name": "ipython",
    "version": 3
   },
   "file_extension": ".py",
   "mimetype": "text/x-python",
   "name": "python",
   "nbconvert_exporter": "python",
   "pygments_lexer": "ipython3",
   "version": "3.12.4"
  }
 },
 "nbformat": 4,
 "nbformat_minor": 5
}
