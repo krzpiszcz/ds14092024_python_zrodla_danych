{
 "cells": [
  {
   "cell_type": "markdown",
   "id": "39539e64-5ddc-4831-ac7e-b0efc0e1127b",
   "metadata": {},
   "source": [
    "### Zadanie 5\n",
    "\n",
    "Wykonaj z pomocą pythona kilka pierwszych zapytań z zadania 1."
   ]
  },
  {
   "cell_type": "markdown",
   "id": "3bce8d34-2608-4cb9-8039-be1b4217f2dd",
   "metadata": {},
   "source": [
    "Jeżeli do tego miejsca wciąż nie masz utworzonej bazy `company.db` to, aby ją utworzyć wykonaj w terminalu, w katalogu w którym znaduje się ten notatnik komendę:\n",
    "<pre><code>python setup_company_db.py</code></pre>"
   ]
  },
  {
   "cell_type": "code",
   "execution_count": null,
   "id": "f5907294-d581-428c-a86c-296953466f73",
   "metadata": {},
   "outputs": [],
   "source": [
    "from sqlite3 import connect"
   ]
  },
  {
   "cell_type": "code",
   "execution_count": null,
   "id": "4b27abab-4e63-49ef-be31-fcdb91998f1c",
   "metadata": {},
   "outputs": [],
   "source": [
    "# A. Wyświetl imiona i nazwiska wszystkich pracowników\n"
   ]
  },
  {
   "cell_type": "code",
   "execution_count": null,
   "id": "3310b3cb-7198-45c7-9ba7-a248caaa1441",
   "metadata": {},
   "outputs": [],
   "source": [
    "# B. Wyświetl imiona i nazwiska pracowników, którzy pracują w dziale 'Engineering'\n"
   ]
  },
  {
   "cell_type": "code",
   "execution_count": null,
   "id": "516ab67f-1237-47a3-80c3-f060aab2b3b8",
   "metadata": {},
   "outputs": [],
   "source": [
    "# C. Wyświetl imiona i nazwiska oraz wynagrodzenia pracowników, którzy zarabiają więcej niż 70,000\n"
   ]
  },
  {
   "cell_type": "code",
   "execution_count": null,
   "id": "f395ab7d-003e-492e-8cc4-506746673030",
   "metadata": {},
   "outputs": [],
   "source": [
    "# D. Wyświetl imiona i nazwiska oraz wiek pracowników, którzy mają mniej niż 30 lat\n"
   ]
  },
  {
   "cell_type": "code",
   "execution_count": null,
   "id": "d6a80dac-8a73-4b51-b231-b4fd40bbabeb",
   "metadata": {},
   "outputs": [],
   "source": [
    "# E. Wyświetl imiona i nazwiska pracowników zatrudnionych po 1 stycznia 2019 roku\n"
   ]
  }
 ],
 "metadata": {
  "kernelspec": {
   "display_name": "Python 3 (ipykernel)",
   "language": "python",
   "name": "python3"
  },
  "language_info": {
   "codemirror_mode": {
    "name": "ipython",
    "version": 3
   },
   "file_extension": ".py",
   "mimetype": "text/x-python",
   "name": "python",
   "nbconvert_exporter": "python",
   "pygments_lexer": "ipython3",
   "version": "3.12.4"
  }
 },
 "nbformat": 4,
 "nbformat_minor": 5
}
