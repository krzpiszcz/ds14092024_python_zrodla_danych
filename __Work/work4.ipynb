{
 "cells": [
  {
   "cell_type": "code",
   "execution_count": 7,
   "id": "70ae95f6-dc4e-41f8-a263-583205bd1fbc",
   "metadata": {},
   "outputs": [],
   "source": [
    "from bs4 import BeautifulSoup as bs"
   ]
  },
  {
   "cell_type": "code",
   "execution_count": 8,
   "id": "c7fe8b1d-c835-4d4d-bf8f-ae7939c5d35c",
   "metadata": {},
   "outputs": [],
   "source": [
    "with open(\"../04_webscrapping/main.html\") as file:\n",
    "    html_file = file.read()"
   ]
  },
  {
   "cell_type": "code",
   "execution_count": 9,
   "id": "94cdc904-5fa1-4661-a1a0-030444560efd",
   "metadata": {},
   "outputs": [
    {
     "data": {
      "text/plain": [
       "'<!DOCTYPE html>\\n<html>\\n    <head>\\n        <title>Moja strona</title>\\n    </head>\\n    <body>\\n        <div class=\\'name f5\\'>Ala ma kota</div>\\n        <span>Kot ma Ale</span>\\n        <ul>\\n            <li>Jablko</li>\\n            <li id=\"dwa\">Banan</li>\\n            <li>Manadarynka</li>\\n        </ul>\\n    </body>\\n</html>'"
      ]
     },
     "execution_count": 9,
     "metadata": {},
     "output_type": "execute_result"
    }
   ],
   "source": [
    "html_file"
   ]
  },
  {
   "cell_type": "code",
   "execution_count": 20,
   "id": "e67ed3ef-0719-406b-b428-9ba82895b350",
   "metadata": {},
   "outputs": [
    {
     "data": {
      "text/plain": [
       "<!DOCTYPE html>\n",
       "\n",
       "<html>\n",
       "<head>\n",
       "<title>Moja strona</title>\n",
       "</head>\n",
       "<body>\n",
       "<div class=\"name f5\">Ala ma kota</div>\n",
       "<span>Kot ma Ale</span>\n",
       "<ul>\n",
       "<li>Jablko</li>\n",
       "<li id=\"dwa\">Banan</li>\n",
       "<li>Manadarynka</li>\n",
       "</ul>\n",
       "</body>\n",
       "</html>"
      ]
     },
     "execution_count": 20,
     "metadata": {},
     "output_type": "execute_result"
    }
   ],
   "source": [
    "soup = bs(html_file, \"html.parser\")\n",
    "soup"
   ]
  },
  {
   "cell_type": "code",
   "execution_count": 26,
   "id": "fcd9bd05-1399-49a2-a08c-e87e9e1bf904",
   "metadata": {},
   "outputs": [
    {
     "data": {
      "text/plain": [
       "<title>Moja strona</title>"
      ]
     },
     "execution_count": 26,
     "metadata": {},
     "output_type": "execute_result"
    }
   ],
   "source": [
    "res = soup.find(\"title\")\n",
    "res"
   ]
  },
  {
   "cell_type": "code",
   "execution_count": 28,
   "id": "aae5b03b-f467-492b-9723-f1179d793cb0",
   "metadata": {},
   "outputs": [
    {
     "name": "stdout",
     "output_type": "stream",
     "text": [
      "['DEFAULT_INTERESTING_STRING_TYPES', 'EMPTY_ELEMENT_EVENT', 'END_ELEMENT_EVENT', 'START_ELEMENT_EVENT', 'STRING_ELEMENT_EVENT', '__bool__', '__call__', '__class__', '__contains__', '__copy__', '__deepcopy__', '__delattr__', '__delitem__', '__dict__', '__dir__', '__doc__', '__eq__', '__format__', '__ge__', '__getattr__', '__getattribute__', '__getitem__', '__getstate__', '__gt__', '__hash__', '__init__', '__init_subclass__', '__iter__', '__le__', '__len__', '__lt__', '__module__', '__ne__', '__new__', '__reduce__', '__reduce_ex__', '__repr__', '__setattr__', '__setitem__', '__sizeof__', '__str__', '__subclasshook__', '__unicode__', '__weakref__', '_all_strings', '_clone', '_event_stream', '_find_all', '_find_one', '_format_tag', '_indent_string', '_is_xml', '_lastRecursiveChild', '_last_descendant', '_namespaces', '_should_pretty_print', 'append', 'attrs', 'can_be_empty_element', 'cdata_list_attributes', 'childGenerator', 'children', 'clear', 'contents', 'css', 'decode', 'decode_contents', 'decompose', 'decomposed', 'default', 'descendants', 'encode', 'encode_contents', 'extend', 'extract', 'fetchNextSiblings', 'fetchParents', 'fetchPrevious', 'fetchPreviousSiblings', 'find', 'findAll', 'findAllNext', 'findAllPrevious', 'findChild', 'findChildren', 'findNext', 'findNextSibling', 'findNextSiblings', 'findParent', 'findParents', 'findPrevious', 'findPreviousSibling', 'findPreviousSiblings', 'find_all', 'find_all_next', 'find_all_previous', 'find_next', 'find_next_sibling', 'find_next_siblings', 'find_parent', 'find_parents', 'find_previous', 'find_previous_sibling', 'find_previous_siblings', 'format_string', 'formatter_for_name', 'get', 'getText', 'get_attribute_list', 'get_text', 'has_attr', 'has_key', 'hidden', 'index', 'insert', 'insert_after', 'insert_before', 'interesting_string_types', 'isSelfClosing', 'is_empty_element', 'known_xml', 'name', 'namespace', 'next', 'nextGenerator', 'nextSibling', 'nextSiblingGenerator', 'next_element', 'next_elements', 'next_sibling', 'next_siblings', 'parent', 'parentGenerator', 'parents', 'parserClass', 'parser_class', 'prefix', 'preserve_whitespace_tags', 'prettify', 'previous', 'previousGenerator', 'previousSibling', 'previousSiblingGenerator', 'previous_element', 'previous_elements', 'previous_sibling', 'previous_siblings', 'recursiveChildGenerator', 'renderContents', 'replaceWith', 'replaceWithChildren', 'replace_with', 'replace_with_children', 'select', 'select_one', 'self_and_descendants', 'setup', 'smooth', 'sourceline', 'sourcepos', 'string', 'strings', 'stripped_strings', 'text', 'unwrap', 'wrap']\n"
     ]
    }
   ],
   "source": [
    "print(dir(res))"
   ]
  },
  {
   "cell_type": "code",
   "execution_count": 29,
   "id": "e1c5c485-78af-4c0c-975e-6c09fa150ec2",
   "metadata": {},
   "outputs": [
    {
     "data": {
      "text/plain": [
       "'Moja strona'"
      ]
     },
     "execution_count": 29,
     "metadata": {},
     "output_type": "execute_result"
    }
   ],
   "source": [
    "res.text"
   ]
  },
  {
   "cell_type": "code",
   "execution_count": 36,
   "id": "1b3df962-9da0-4e75-8c50-f761abd3ad07",
   "metadata": {},
   "outputs": [],
   "source": [
    "res2 = soup.find_all(\"li\")"
   ]
  },
  {
   "cell_type": "code",
   "execution_count": 37,
   "id": "668fd32c-10f7-49ef-90a9-0d4a41d60aeb",
   "metadata": {},
   "outputs": [
    {
     "data": {
      "text/plain": [
       "[<li>Jablko</li>, <li id=\"dwa\">Banan</li>, <li>Manadarynka</li>]"
      ]
     },
     "execution_count": 37,
     "metadata": {},
     "output_type": "execute_result"
    }
   ],
   "source": [
    "res2"
   ]
  },
  {
   "cell_type": "code",
   "execution_count": 38,
   "id": "3c50184c-211d-4b17-bc2d-e626d7fcf077",
   "metadata": {},
   "outputs": [
    {
     "data": {
      "text/plain": [
       "bs4.element.ResultSet"
      ]
     },
     "execution_count": 38,
     "metadata": {},
     "output_type": "execute_result"
    }
   ],
   "source": [
    "type(res2)"
   ]
  },
  {
   "cell_type": "code",
   "execution_count": 40,
   "id": "b3efd1d7-7731-4ed0-acee-865f5cf95ef0",
   "metadata": {},
   "outputs": [
    {
     "data": {
      "text/plain": [
       "'Banan'"
      ]
     },
     "execution_count": 40,
     "metadata": {},
     "output_type": "execute_result"
    }
   ],
   "source": [
    "res2[1].text"
   ]
  },
  {
   "cell_type": "code",
   "execution_count": 41,
   "id": "e2520828-0560-435b-bb50-b74ca34318df",
   "metadata": {},
   "outputs": [
    {
     "data": {
      "text/plain": [
       "[<div class=\"name f5\">Ala ma kota</div>]"
      ]
     },
     "execution_count": 41,
     "metadata": {},
     "output_type": "execute_result"
    }
   ],
   "source": [
    "soup.findAll(class_='name')"
   ]
  },
  {
   "cell_type": "code",
   "execution_count": null,
   "id": "d019a0ad-b3c3-4e6f-9480-b356317d040d",
   "metadata": {},
   "outputs": [],
   "source": []
  }
 ],
 "metadata": {
  "kernelspec": {
   "display_name": "Python 3 (ipykernel)",
   "language": "python",
   "name": "python3"
  },
  "language_info": {
   "codemirror_mode": {
    "name": "ipython",
    "version": 3
   },
   "file_extension": ".py",
   "mimetype": "text/x-python",
   "name": "python",
   "nbconvert_exporter": "python",
   "pygments_lexer": "ipython3",
   "version": "3.11.10"
  }
 },
 "nbformat": 4,
 "nbformat_minor": 5
}
