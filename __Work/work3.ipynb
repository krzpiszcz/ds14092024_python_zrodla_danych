{
 "cells": [
  {
   "cell_type": "code",
   "execution_count": 1,
   "id": "0d1f222b-f704-4940-95db-9f0c402d490d",
   "metadata": {},
   "outputs": [],
   "source": [
    "import requests\n",
    "url = \"https://api.openaq.org/v1/measurements?city=Warszawa&limit=100&parameter=pm25\"\n"
   ]
  },
  {
   "cell_type": "code",
   "execution_count": 3,
   "id": "dfff5a47-aa46-4bfe-a423-72fc42ecce27",
   "metadata": {},
   "outputs": [],
   "source": [
    "res = requests.get(url)"
   ]
  },
  {
   "cell_type": "code",
   "execution_count": 5,
   "id": "348f8fa2-166d-48ea-b4d1-e3596a16d954",
   "metadata": {},
   "outputs": [
    {
     "data": {
      "text/plain": [
       "'{\"detail\":\"Invalid credentials\"}'"
      ]
     },
     "execution_count": 5,
     "metadata": {},
     "output_type": "execute_result"
    }
   ],
   "source": [
    "res.text"
   ]
  },
  {
   "cell_type": "code",
   "execution_count": 9,
   "id": "778d3cba-a050-48d5-88bc-90913b0e7cab",
   "metadata": {},
   "outputs": [],
   "source": [
    "import requests\n",
    "\n",
    "url = 'https://api.chucknorris.io/jokes/random'"
   ]
  },
  {
   "cell_type": "code",
   "execution_count": 15,
   "id": "6b04cb8c-3f45-4484-b66a-d665bd405e35",
   "metadata": {},
   "outputs": [
    {
     "name": "stdout",
     "output_type": "stream",
     "text": [
      "Witaj w programie Chuck Norris - generator żartów\n"
     ]
    },
    {
     "name": "stdin",
     "output_type": "stream",
     "text": [
      "Naciśnij Enter, aby wylosować dowcip... \n"
     ]
    }
   ],
   "source": [
    "print(\"Witaj w programie Chuck Norris - generator żartów\")\n",
    "input(\"Naciśnij Enter, aby wylosować dowcip...\")\n",
    "\n",
    "response = requests.get(url)\n",
    "data = response.json()\n",
    "data\n",
    "joke = response.json()['value']"
   ]
  },
  {
   "cell_type": "code",
   "execution_count": 16,
   "id": "af7c4ace-5847-419d-9be2-c21ea214c1c7",
   "metadata": {},
   "outputs": [
    {
     "data": {
      "text/plain": [
       "\"If you ever say 'have a nice day' to Chuck Norris, he will of course reply 'don't mind if I do' then immediately stab you in the throat with his car keys and enthusiastically bone your girlfriend as you die.\""
      ]
     },
     "execution_count": 16,
     "metadata": {},
     "output_type": "execute_result"
    }
   ],
   "source": [
    "joke"
   ]
  },
  {
   "cell_type": "code",
   "execution_count": 26,
   "id": "44f4bd34-f94e-4803-9a2a-bb03e0759aa7",
   "metadata": {},
   "outputs": [],
   "source": [
    "# Define the URL of the OpenQA API endpoint\n",
    "url = \"https://api.openaq.org/v1/measurements?city=Warszawa&limit=100&parameter=pm25\"\n",
    "\n",
    "# Define your API key\n",
    "api_key = \"0c58a51a6d005c8df043456fcde365586d47507f5c2fca23043f0dfffaf6fc55\"\n",
    "# Set up headers, typically Authorization headers use \"Bearer <token>\"\n",
    "headers = {\n",
    "    \"X-API-Key\": api_key     # Include if JSON content is expected\n",
    "}\n",
    "\n",
    "# Make the request (GET, POST, etc. depending on the API's requirements)\n",
    "response = requests.get(url, headers=headers)"
   ]
  },
  {
   "cell_type": "code",
   "execution_count": 27,
   "id": "8bc0a96e-764e-4582-9496-246bece6af5e",
   "metadata": {},
   "outputs": [
    {
     "data": {
      "text/plain": [
       "200"
      ]
     },
     "execution_count": 27,
     "metadata": {},
     "output_type": "execute_result"
    }
   ],
   "source": [
    "response.status_code"
   ]
  },
  {
   "cell_type": "code",
   "execution_count": 28,
   "id": "ce12f8d1-ecf1-4b8c-a2c2-8149ca5cb184",
   "metadata": {},
   "outputs": [
    {
     "data": {
      "text/plain": [
       "'{\"meta\":{\"name\":\"openaq-api\",\"license\":\"\",\"website\":\"/\",\"page\":1,\"limit\":100,\"found\":\">100\"},\"results\":[{\"location\":\"Warszawa, ul. Chrościckiego\",\"parameter\":\"pm25\",\"value\":32.9,\"date\":{\"utc\":\"2024-10-27T12:00:00+00:00\",\"local\":\"2024-10-27T13:00:00+01:00\"},\"unit\":\"µg/m³\",\"coordinates\":{\"latitude\":52.20774200000001,\"longitude\":20.906073},\"country\":\"PL\",\"city\":null},{\"location\":\"Warszawa, ul. Kondratowicza\",\"parameter\":\"pm25\",\"value\":21.7,\"date\":{\"utc\":\"2024-10-27T12:00:00+00:00\",\"local\":\"2024-10-27T13:00:00+01:00\"},\"unit\":\"µg/m³\",\"coordinates\":{\"latitude\":52.290864,\"longitude\":21.042458},\"country\":\"PL\",\"city\":null},{\"location\":\"Warszawa, ul. Wokalna\",\"parameter\":\"pm25\",\"value\":25.0,\"date\":{\"utc\":\"2024-10-27T12:00:00+00:00\",\"local\":\"2024-10-27T13:00:00+01:00\"},\"unit\":\"µg/m³\",\"coordinates\":{\"latitude\":52.160772,\"longitude\":21.033819},\"country\":\"PL\",\"city\":null},{\"location\":\"Warszawa, ul. Bajkowa\",\"parameter\":\"pm25\",\"value\":20.4,\"date\":{\"utc\":\"2024-10-27T12:00:00+00:00\",\"local\":\"2024-10-27T13:00:00+01:00\"},\"unit\":\"µg/m³\",\"coordinates\":{\"latitude\":52.188474,\"longitude\":21.176233},\"country\":\"PL\",\"city\":null},{\"location\":\"Warszawa, al. Niepodległości\",\"parameter\":\"pm25\",\"value\":34.9,\"date\":{\"utc\":\"2024-10-27T12:00:00+00:00\",\"local\":\"2024-10-27T13:00:00+01:00\"},\"unit\":\"µg/m³\",\"coordinates\":{\"latitude\":52.219298,\"longitude\":21.004724},\"country\":\"PL\",\"city\":null},{\"location\":\"Warszawa, ul. Tołstoja\",\"parameter\":\"pm25\",\"value\":44.7,\"date\":{\"utc\":\"2024-10-27T12:00:00+00:00\",\"local\":\"2024-10-27T13:00:00+01:00\"},\"unit\":\"µg/m³\",\"coordinates\":{\"latitude\":52.285073,\"longitude\":20.933018},\"country\":\"PL\",\"city\":null},{\"location\":\"Warszawa, al. Niepodległości\",\"parameter\":\"pm25\",\"value\":39.4,\"date\":{\"utc\":\"2024-10-27T11:00:00+00:00\",\"local\":\"2024-10-27T12:00:00+01:00\"},\"unit\":\"µg/m³\",\"coordinates\":{\"latitude\":52.219298,\"longitude\":21.004724},\"country\":\"PL\",\"city\":null},{\"location\":\"Warszawa, ul. Wokalna\",\"parameter\":\"pm25\",\"value\":34.9,\"date\":{\"utc\":\"2024-10-27T11:00:00+00:00\",\"local\":\"2024-10-27T12:00:00+01:00\"},\"unit\":\"µg/m³\",\"coordinates\":{\"latitude\":52.160772,\"longitude\":21.033819},\"country\":\"PL\",\"city\":null},{\"location\":\"Warszawa, ul. Chrościckiego\",\"parameter\":\"pm25\",\"value\":42.8,\"date\":{\"utc\":\"2024-10-27T11:00:00+00:00\",\"local\":\"2024-10-27T12:00:00+01:00\"},\"unit\":\"µg/m³\",\"coordinates\":{\"latitude\":52.20774200000001,\"longitude\":20.906073},\"country\":\"PL\",\"city\":null},{\"location\":\"Warszawa, ul. Tołstoja\",\"parameter\":\"pm25\",\"value\":46.7,\"date\":{\"utc\":\"2024-10-27T11:00:00+00:00\",\"local\":\"2024-10-27T12:00:00+01:00\"},\"unit\":\"µg/m³\",\"coordinates\":{\"latitude\":52.285073,\"longitude\":20.933018},\"country\":\"PL\",\"city\":null},{\"location\":\"Warszawa, ul. Bajkowa\",\"parameter\":\"pm25\",\"value\":25.4,\"date\":{\"utc\":\"2024-10-27T11:00:00+00:00\",\"local\":\"2024-10-27T12:00:00+01:00\"},\"unit\":\"µg/m³\",\"coordinates\":{\"latitude\":52.188474,\"longitude\":21.176233},\"country\":\"PL\",\"city\":null},{\"location\":\"Warszawa, ul. Kondratowicza\",\"parameter\":\"pm25\",\"value\":25.2,\"date\":{\"utc\":\"2024-10-27T11:00:00+00:00\",\"local\":\"2024-10-27T12:00:00+01:00\"},\"unit\":\"µg/m³\",\"coordinates\":{\"latitude\":52.290864,\"longitude\":21.042458},\"country\":\"PL\",\"city\":null},{\"location\":\"Warszawa, ul. Bajkowa\",\"parameter\":\"pm25\",\"value\":28.9,\"date\":{\"utc\":\"2024-10-27T10:00:00+00:00\",\"local\":\"2024-10-27T11:00:00+01:00\"},\"unit\":\"µg/m³\",\"coordinates\":{\"latitude\":52.188474,\"longitude\":21.176233},\"country\":\"PL\",\"city\":null},{\"location\":\"Warszawa, ul. Kondratowicza\",\"parameter\":\"pm25\",\"value\":30.5,\"date\":{\"utc\":\"2024-10-27T10:00:00+00:00\",\"local\":\"2024-10-27T11:00:00+01:00\"},\"unit\":\"µg/m³\",\"coordinates\":{\"latitude\":52.290864,\"longitude\":21.042458},\"country\":\"PL\",\"city\":null},{\"location\":\"Warszawa, al. Niepodległości\",\"parameter\":\"pm25\",\"value\":42.5,\"date\":{\"utc\":\"2024-10-27T10:00:00+00:00\",\"local\":\"2024-10-27T11:00:00+01:00\"},\"unit\":\"µg/m³\",\"coordinates\":{\"latitude\":52.219298,\"longitude\":21.004724},\"country\":\"PL\",\"city\":null},{\"location\":\"Warszawa, ul. Wokalna\",\"parameter\":\"pm25\",\"value\":40.3,\"date\":{\"utc\":\"2024-10-27T10:00:00+00:00\",\"local\":\"2024-10-27T11:00:00+01:00\"},\"unit\":\"µg/m³\",\"coordinates\":{\"latitude\":52.160772,\"longitude\":21.033819},\"country\":\"PL\",\"city\":null},{\"location\":\"Warszawa, ul. Chrościckiego\",\"parameter\":\"pm25\",\"value\":49.2,\"date\":{\"utc\":\"2024-10-27T10:00:00+00:00\",\"local\":\"2024-10-27T11:00:00+01:00\"},\"unit\":\"µg/m³\",\"coordinates\":{\"latitude\":52.20774200000001,\"longitude\":20.906073},\"country\":\"PL\",\"city\":null},{\"location\":\"Warszawa, ul. Tołstoja\",\"parameter\":\"pm25\",\"value\":50.4,\"date\":{\"utc\":\"2024-10-27T10:00:00+00:00\",\"local\":\"2024-10-27T11:00:00+01:00\"},\"unit\":\"µg/m³\",\"coordinates\":{\"latitude\":52.285073,\"longitude\":20.933018},\"country\":\"PL\",\"city\":null},{\"location\":\"Warszawa, ul. Wokalna\",\"parameter\":\"pm25\",\"value\":41.5,\"date\":{\"utc\":\"2024-10-27T09:00:00+00:00\",\"local\":\"2024-10-27T10:00:00+01:00\"},\"unit\":\"µg/m³\",\"coordinates\":{\"latitude\":52.160772,\"longitude\":21.033819},\"country\":\"PL\",\"city\":null},{\"location\":\"Warszawa, ul. Chrościckiego\",\"parameter\":\"pm25\",\"value\":52.6,\"date\":{\"utc\":\"2024-10-27T09:00:00+00:00\",\"local\":\"2024-10-27T10:00:00+01:00\"},\"unit\":\"µg/m³\",\"coordinates\":{\"latitude\":52.20774200000001,\"longitude\":20.906073},\"country\":\"PL\",\"city\":null},{\"location\":\"Warszawa, ul. Bajkowa\",\"parameter\":\"pm25\",\"value\":34.6,\"date\":{\"utc\":\"2024-10-27T09:00:00+00:00\",\"local\":\"2024-10-27T10:00:00+01:00\"},\"unit\":\"µg/m³\",\"coordinates\":{\"latitude\":52.188474,\"longitude\":21.176233},\"country\":\"PL\",\"city\":null},{\"location\":\"Warszawa, al. Niepodległości\",\"parameter\":\"pm25\",\"value\":45.7,\"date\":{\"utc\":\"2024-10-27T09:00:00+00:00\",\"local\":\"2024-10-27T10:00:00+01:00\"},\"unit\":\"µg/m³\",\"coordinates\":{\"latitude\":52.219298,\"longitude\":21.004724},\"country\":\"PL\",\"city\":null},{\"location\":\"Warszawa, ul. Kondratowicza\",\"parameter\":\"pm25\",\"value\":34.5,\"date\":{\"utc\":\"2024-10-27T09:00:00+00:00\",\"local\":\"2024-10-27T10:00:00+01:00\"},\"unit\":\"µg/m³\",\"coordinates\":{\"latitude\":52.290864,\"longitude\":21.042458},\"country\":\"PL\",\"city\":null},{\"location\":\"Warszawa, ul. Tołstoja\",\"parameter\":\"pm25\",\"value\":52.5,\"date\":{\"utc\":\"2024-10-27T09:00:00+00:00\",\"local\":\"2024-10-27T10:00:00+01:00\"},\"unit\":\"µg/m³\",\"coordinates\":{\"latitude\":52.285073,\"longitude\":20.933018},\"country\":\"PL\",\"city\":null},{\"location\":\"Warszawa, ul. Tołstoja\",\"parameter\":\"pm25\",\"value\":61.1,\"date\":{\"utc\":\"2024-10-27T08:00:00+00:00\",\"local\":\"2024-10-27T09:00:00+01:00\"},\"unit\":\"µg/m³\",\"coordinates\":{\"latitude\":52.285073,\"longitude\":20.933018},\"country\":\"PL\",\"city\":null},{\"location\":\"Warszawa, ul. Chrościckiego\",\"parameter\":\"pm25\",\"value\":58.2,\"date\":{\"utc\":\"2024-10-27T08:00:00+00:00\",\"local\":\"2024-10-27T09:00:00+01:00\"},\"unit\":\"µg/m³\",\"coordinates\":{\"latitude\":52.20774200000001,\"longitude\":20.906073},\"country\":\"PL\",\"city\":null},{\"location\":\"Warszawa, ul. Wokalna\",\"parameter\":\"pm25\",\"value\":41.8,\"date\":{\"utc\":\"2024-10-27T08:00:00+00:00\",\"local\":\"2024-10-27T09:00:00+01:00\"},\"unit\":\"µg/m³\",\"coordinates\":{\"latitude\":52.160772,\"longitude\":21.033819},\"country\":\"PL\",\"city\":null},{\"location\":\"Warszawa, al. Niepodległości\",\"parameter\":\"pm25\",\"value\":46.3,\"date\":{\"utc\":\"2024-10-27T08:00:00+00:00\",\"local\":\"2024-10-27T09:00:00+01:00\"},\"unit\":\"µg/m³\",\"coordinates\":{\"latitude\":52.219298,\"longitude\":21.004724},\"country\":\"PL\",\"city\":null},{\"location\":\"Warszawa, ul. Kondratowicza\",\"parameter\":\"pm25\",\"value\":37.2,\"date\":{\"utc\":\"2024-10-27T08:00:00+00:00\",\"local\":\"2024-10-27T09:00:00+01:00\"},\"unit\":\"µg/m³\",\"coordinates\":{\"latitude\":52.290864,\"longitude\":21.042458},\"country\":\"PL\",\"city\":null},{\"location\":\"Warszawa, ul. Bajkowa\",\"parameter\":\"pm25\",\"value\":37.2,\"date\":{\"utc\":\"2024-10-27T08:00:00+00:00\",\"local\":\"2024-10-27T09:00:00+01:00\"},\"unit\":\"µg/m³\",\"coordinates\":{\"latitude\":52.188474,\"longitude\":21.176233},\"country\":\"PL\",\"city\":null},{\"location\":\"Warszawa, ul. Chrościckiego\",\"parameter\":\"pm25\",\"value\":59.4,\"date\":{\"utc\":\"2024-10-27T07:00:00+00:00\",\"local\":\"2024-10-27T08:00:00+01:00\"},\"unit\":\"µg/m³\",\"coordinates\":{\"latitude\":52.20774200000001,\"longitude\":20.906073},\"country\":\"PL\",\"city\":null},{\"location\":\"Warszawa, ul. Wokalna\",\"parameter\":\"pm25\",\"value\":43.8,\"date\":{\"utc\":\"2024-10-27T07:00:00+00:00\",\"local\":\"2024-10-27T08:00:00+01:00\"},\"unit\":\"µg/m³\",\"coordinates\":{\"latitude\":52.160772,\"longitude\":21.033819},\"country\":\"PL\",\"city\":null},{\"location\":\"Warszawa, al. Niepodległości\",\"parameter\":\"pm25\",\"value\":47.7,\"date\":{\"utc\":\"2024-10-27T07:00:00+00:00\",\"local\":\"2024-10-27T08:00:00+01:00\"},\"unit\":\"µg/m³\",\"coordinates\":{\"latitude\":52.219298,\"longitude\":21.004724},\"country\":\"PL\",\"city\":null},{\"location\":\"Warszawa, ul. Bajkowa\",\"parameter\":\"pm25\",\"value\":41.5,\"date\":{\"utc\":\"2024-10-27T07:00:00+00:00\",\"local\":\"2024-10-27T08:00:00+01:00\"},\"unit\":\"µg/m³\",\"coordinates\":{\"latitude\":52.188474,\"longitude\":21.176233},\"country\":\"PL\",\"city\":null},{\"location\":\"Warszawa, ul. Tołstoja\",\"parameter\":\"pm25\",\"value\":63.8,\"date\":{\"utc\":\"2024-10-27T07:00:00+00:00\",\"local\":\"2024-10-27T08:00:00+01:00\"},\"unit\":\"µg/m³\",\"coordinates\":{\"latitude\":52.285073,\"longitude\":20.933018},\"country\":\"PL\",\"city\":null},{\"location\":\"Warszawa, ul. Kondratowicza\",\"parameter\":\"pm25\",\"value\":38.9,\"date\":{\"utc\":\"2024-10-27T07:00:00+00:00\",\"local\":\"2024-10-27T08:00:00+01:00\"},\"unit\":\"µg/m³\",\"coordinates\":{\"latitude\":52.290864,\"longitude\":21.042458},\"country\":\"PL\",\"city\":null},{\"location\":\"Warszawa, ul. Kondratowicza\",\"parameter\":\"pm25\",\"value\":39.7,\"date\":{\"utc\":\"2024-10-27T06:00:00+00:00\",\"local\":\"2024-10-27T07:00:00+01:00\"},\"unit\":\"µg/m³\",\"coordinates\":{\"latitude\":52.290864,\"longitude\":21.042458},\"country\":\"PL\",\"city\":null},{\"location\":\"Warszawa, ul. Chrościckiego\",\"parameter\":\"pm25\",\"value\":63.2,\"date\":{\"utc\":\"2024-10-27T06:00:00+00:00\",\"local\":\"2024-10-27T07:00:00+01:00\"},\"unit\":\"µg/m³\",\"coordinates\":{\"latitude\":52.20774200000001,\"longitude\":20.906073},\"country\":\"PL\",\"city\":null},{\"location\":\"Warszawa, ul. Wokalna\",\"parameter\":\"pm25\",\"value\":45.6,\"date\":{\"utc\":\"2024-10-27T06:00:00+00:00\",\"local\":\"2024-10-27T07:00:00+01:00\"},\"unit\":\"µg/m³\",\"coordinates\":{\"latitude\":52.160772,\"longitude\":21.033819},\"country\":\"PL\",\"city\":null},{\"location\":\"Warszawa, ul. Bajkowa\",\"parameter\":\"pm25\",\"value\":43.4,\"date\":{\"utc\":\"2024-10-27T06:00:00+00:00\",\"local\":\"2024-10-27T07:00:00+01:00\"},\"unit\":\"µg/m³\",\"coordinates\":{\"latitude\":52.188474,\"longitude\":21.176233},\"country\":\"PL\",\"city\":null},{\"location\":\"Warszawa, ul. Tołstoja\",\"parameter\":\"pm25\",\"value\":58.6,\"date\":{\"utc\":\"2024-10-27T06:00:00+00:00\",\"local\":\"2024-10-27T07:00:00+01:00\"},\"unit\":\"µg/m³\",\"coordinates\":{\"latitude\":52.285073,\"longitude\":20.933018},\"country\":\"PL\",\"city\":null},{\"location\":\"Warszawa, al. Niepodległości\",\"parameter\":\"pm25\",\"value\":50.5,\"date\":{\"utc\":\"2024-10-27T06:00:00+00:00\",\"local\":\"2024-10-27T07:00:00+01:00\"},\"unit\":\"µg/m³\",\"coordinates\":{\"latitude\":52.219298,\"longitude\":21.004724},\"country\":\"PL\",\"city\":null},{\"location\":\"Warszawa, ul. Kondratowicza\",\"parameter\":\"pm25\",\"value\":42.0,\"date\":{\"utc\":\"2024-10-27T05:00:00+00:00\",\"local\":\"2024-10-27T06:00:00+01:00\"},\"unit\":\"µg/m³\",\"coordinates\":{\"latitude\":52.290864,\"longitude\":21.042458},\"country\":\"PL\",\"city\":null},{\"location\":\"Warszawa, ul. Tołstoja\",\"parameter\":\"pm25\",\"value\":66.1,\"date\":{\"utc\":\"2024-10-27T05:00:00+00:00\",\"local\":\"2024-10-27T06:00:00+01:00\"},\"unit\":\"µg/m³\",\"coordinates\":{\"latitude\":52.285073,\"longitude\":20.933018},\"country\":\"PL\",\"city\":null},{\"location\":\"Warszawa, al. Niepodległości\",\"parameter\":\"pm25\",\"value\":54.1,\"date\":{\"utc\":\"2024-10-27T05:00:00+00:00\",\"local\":\"2024-10-27T06:00:00+01:00\"},\"unit\":\"µg/m³\",\"coordinates\":{\"latitude\":52.219298,\"longitude\":21.004724},\"country\":\"PL\",\"city\":null},{\"location\":\"Warszawa, ul. Bajkowa\",\"parameter\":\"pm25\",\"value\":43.6,\"date\":{\"utc\":\"2024-10-27T05:00:00+00:00\",\"local\":\"2024-10-27T06:00:00+01:00\"},\"unit\":\"µg/m³\",\"coordinates\":{\"latitude\":52.188474,\"longitude\":21.176233},\"country\":\"PL\",\"city\":null},{\"location\":\"Warszawa, ul. Chrościckiego\",\"parameter\":\"pm25\",\"value\":65.4,\"date\":{\"utc\":\"2024-10-27T05:00:00+00:00\",\"local\":\"2024-10-27T06:00:00+01:00\"},\"unit\":\"µg/m³\",\"coordinates\":{\"latitude\":52.20774200000001,\"longitude\":20.906073},\"country\":\"PL\",\"city\":null},{\"location\":\"Warszawa, ul. Wokalna\",\"parameter\":\"pm25\",\"value\":45.4,\"date\":{\"utc\":\"2024-10-27T05:00:00+00:00\",\"local\":\"2024-10-27T06:00:00+01:00\"},\"unit\":\"µg/m³\",\"coordinates\":{\"latitude\":52.160772,\"longitude\":21.033819},\"country\":\"PL\",\"city\":null},{\"location\":\"Warszawa, ul. Tołstoja\",\"parameter\":\"pm25\",\"value\":67.5,\"date\":{\"utc\":\"2024-10-27T04:00:00+00:00\",\"local\":\"2024-10-27T05:00:00+01:00\"},\"unit\":\"µg/m³\",\"coordinates\":{\"latitude\":52.285073,\"longitude\":20.933018},\"country\":\"PL\",\"city\":null},{\"location\":\"Warszawa, al. Niepodległości\",\"parameter\":\"pm25\",\"value\":56.5,\"date\":{\"utc\":\"2024-10-27T04:00:00+00:00\",\"local\":\"2024-10-27T05:00:00+01:00\"},\"unit\":\"µg/m³\",\"coordinates\":{\"latitude\":52.219298,\"longitude\":21.004724},\"country\":\"PL\",\"city\":null},{\"location\":\"Warszawa, ul. Wokalna\",\"parameter\":\"pm25\",\"value\":46.4,\"date\":{\"utc\":\"2024-10-27T04:00:00+00:00\",\"local\":\"2024-10-27T05:00:00+01:00\"},\"unit\":\"µg/m³\",\"coordinates\":{\"latitude\":52.160772,\"longitude\":21.033819},\"country\":\"PL\",\"city\":null},{\"location\":\"Warszawa, ul. Kondratowicza\",\"parameter\":\"pm25\",\"value\":43.8,\"date\":{\"utc\":\"2024-10-27T04:00:00+00:00\",\"local\":\"2024-10-27T05:00:00+01:00\"},\"unit\":\"µg/m³\",\"coordinates\":{\"latitude\":52.290864,\"longitude\":21.042458},\"country\":\"PL\",\"city\":null},{\"location\":\"Warszawa, ul. Bajkowa\",\"parameter\":\"pm25\",\"value\":42.3,\"date\":{\"utc\":\"2024-10-27T04:00:00+00:00\",\"local\":\"2024-10-27T05:00:00+01:00\"},\"unit\":\"µg/m³\",\"coordinates\":{\"latitude\":52.188474,\"longitude\":21.176233},\"country\":\"PL\",\"city\":null},{\"location\":\"Warszawa, ul. Chrościckiego\",\"parameter\":\"pm25\",\"value\":67.0,\"date\":{\"utc\":\"2024-10-27T04:00:00+00:00\",\"local\":\"2024-10-27T05:00:00+01:00\"},\"unit\":\"µg/m³\",\"coordinates\":{\"latitude\":52.20774200000001,\"longitude\":20.906073},\"country\":\"PL\",\"city\":null},{\"location\":\"Warszawa, al. Niepodległości\",\"parameter\":\"pm25\",\"value\":59.8,\"date\":{\"utc\":\"2024-10-27T03:00:00+00:00\",\"local\":\"2024-10-27T04:00:00+01:00\"},\"unit\":\"µg/m³\",\"coordinates\":{\"latitude\":52.219298,\"longitude\":21.004724},\"country\":\"PL\",\"city\":null},{\"location\":\"Warszawa, ul. Kondratowicza\",\"parameter\":\"pm25\",\"value\":46.0,\"date\":{\"utc\":\"2024-10-27T03:00:00+00:00\",\"local\":\"2024-10-27T04:00:00+01:00\"},\"unit\":\"µg/m³\",\"coordinates\":{\"latitude\":52.290864,\"longitude\":21.042458},\"country\":\"PL\",\"city\":null},{\"location\":\"Warszawa, ul. Tołstoja\",\"parameter\":\"pm25\",\"value\":67.0,\"date\":{\"utc\":\"2024-10-27T03:00:00+00:00\",\"local\":\"2024-10-27T04:00:00+01:00\"},\"unit\":\"µg/m³\",\"coordinates\":{\"latitude\":52.285073,\"longitude\":20.933018},\"country\":\"PL\",\"city\":null},{\"location\":\"Warszawa, ul. Chrościckiego\",\"parameter\":\"pm25\",\"value\":70.0,\"date\":{\"utc\":\"2024-10-27T03:00:00+00:00\",\"local\":\"2024-10-27T04:00:00+01:00\"},\"unit\":\"µg/m³\",\"coordinates\":{\"latitude\":52.20774200000001,\"longitude\":20.906073},\"country\":\"PL\",\"city\":null},{\"location\":\"Warszawa, ul. Wokalna\",\"parameter\":\"pm25\",\"value\":52.0,\"date\":{\"utc\":\"2024-10-27T03:00:00+00:00\",\"local\":\"2024-10-27T04:00:00+01:00\"},\"unit\":\"µg/m³\",\"coordinates\":{\"latitude\":52.160772,\"longitude\":21.033819},\"country\":\"PL\",\"city\":null},{\"location\":\"Warszawa, ul. Bajkowa\",\"parameter\":\"pm25\",\"value\":42.9,\"date\":{\"utc\":\"2024-10-27T03:00:00+00:00\",\"local\":\"2024-10-27T04:00:00+01:00\"},\"unit\":\"µg/m³\",\"coordinates\":{\"latitude\":52.188474,\"longitude\":21.176233},\"country\":\"PL\",\"city\":null},{\"location\":\"Warszawa, ul. Bajkowa\",\"parameter\":\"pm25\",\"value\":42.8,\"date\":{\"utc\":\"2024-10-27T02:00:00+00:00\",\"local\":\"2024-10-27T03:00:00+01:00\"},\"unit\":\"µg/m³\",\"coordinates\":{\"latitude\":52.188474,\"longitude\":21.176233},\"country\":\"PL\",\"city\":null},{\"location\":\"Warszawa, ul. Wokalna\",\"parameter\":\"pm25\",\"value\":52.7,\"date\":{\"utc\":\"2024-10-27T02:00:00+00:00\",\"local\":\"2024-10-27T03:00:00+01:00\"},\"unit\":\"µg/m³\",\"coordinates\":{\"latitude\":52.160772,\"longitude\":21.033819},\"country\":\"PL\",\"city\":null},{\"location\":\"Warszawa, ul. Chrościckiego\",\"parameter\":\"pm25\",\"value\":71.7,\"date\":{\"utc\":\"2024-10-27T02:00:00+00:00\",\"local\":\"2024-10-27T03:00:00+01:00\"},\"unit\":\"µg/m³\",\"coordinates\":{\"latitude\":52.20774200000001,\"longitude\":20.906073},\"country\":\"PL\",\"city\":null},{\"location\":\"Warszawa, ul. Kondratowicza\",\"parameter\":\"pm25\",\"value\":48.8,\"date\":{\"utc\":\"2024-10-27T02:00:00+00:00\",\"local\":\"2024-10-27T03:00:00+01:00\"},\"unit\":\"µg/m³\",\"coordinates\":{\"latitude\":52.290864,\"longitude\":21.042458},\"country\":\"PL\",\"city\":null},{\"location\":\"Warszawa, al. Niepodległości\",\"parameter\":\"pm25\",\"value\":58.0,\"date\":{\"utc\":\"2024-10-27T02:00:00+00:00\",\"local\":\"2024-10-27T03:00:00+01:00\"},\"unit\":\"µg/m³\",\"coordinates\":{\"latitude\":52.219298,\"longitude\":21.004724},\"country\":\"PL\",\"city\":null},{\"location\":\"Warszawa, ul. Tołstoja\",\"parameter\":\"pm25\",\"value\":63.4,\"date\":{\"utc\":\"2024-10-27T02:00:00+00:00\",\"local\":\"2024-10-27T03:00:00+01:00\"},\"unit\":\"µg/m³\",\"coordinates\":{\"latitude\":52.285073,\"longitude\":20.933018},\"country\":\"PL\",\"city\":null},{\"location\":\"Warszawa, ul. Wokalna\",\"parameter\":\"pm25\",\"value\":46.3,\"date\":{\"utc\":\"2024-10-27T01:00:00+00:00\",\"local\":\"2024-10-27T02:00:00+01:00\"},\"unit\":\"µg/m³\",\"coordinates\":{\"latitude\":52.160772,\"longitude\":21.033819},\"country\":\"PL\",\"city\":null},{\"location\":\"Warszawa, ul. Chrościckiego\",\"parameter\":\"pm25\",\"value\":79.1,\"date\":{\"utc\":\"2024-10-27T01:00:00+00:00\",\"local\":\"2024-10-27T02:00:00+01:00\"},\"unit\":\"µg/m³\",\"coordinates\":{\"latitude\":52.20774200000001,\"longitude\":20.906073},\"country\":\"PL\",\"city\":null},{\"location\":\"Warszawa, ul. Kondratowicza\",\"parameter\":\"pm25\",\"value\":47.6,\"date\":{\"utc\":\"2024-10-27T01:00:00+00:00\",\"local\":\"2024-10-27T02:00:00+01:00\"},\"unit\":\"µg/m³\",\"coordinates\":{\"latitude\":52.290864,\"longitude\":21.042458},\"country\":\"PL\",\"city\":null},{\"location\":\"Warszawa, ul. Tołstoja\",\"parameter\":\"pm25\",\"value\":62.4,\"date\":{\"utc\":\"2024-10-27T01:00:00+00:00\",\"local\":\"2024-10-27T02:00:00+01:00\"},\"unit\":\"µg/m³\",\"coordinates\":{\"latitude\":52.285073,\"longitude\":20.933018},\"country\":\"PL\",\"city\":null},{\"location\":\"Warszawa, al. Niepodległości\",\"parameter\":\"pm25\",\"value\":50.7,\"date\":{\"utc\":\"2024-10-27T01:00:00+00:00\",\"local\":\"2024-10-27T02:00:00+01:00\"},\"unit\":\"µg/m³\",\"coordinates\":{\"latitude\":52.219298,\"longitude\":21.004724},\"country\":\"PL\",\"city\":null},{\"location\":\"Warszawa, ul. Bajkowa\",\"parameter\":\"pm25\",\"value\":46.6,\"date\":{\"utc\":\"2024-10-27T01:00:00+00:00\",\"local\":\"2024-10-27T02:00:00+01:00\"},\"unit\":\"µg/m³\",\"coordinates\":{\"latitude\":52.188474,\"longitude\":21.176233},\"country\":\"PL\",\"city\":null},{\"location\":\"Warszawa, ul. Bajkowa\",\"parameter\":\"pm25\",\"value\":46.6,\"date\":{\"utc\":\"2024-10-26T23:00:00+00:00\",\"local\":\"2024-10-27T01:00:00+02:00\"},\"unit\":\"µg/m³\",\"coordinates\":{\"latitude\":52.188474,\"longitude\":21.176233},\"country\":\"PL\",\"city\":null},{\"location\":\"Warszawa, ul. Wokalna\",\"parameter\":\"pm25\",\"value\":46.3,\"date\":{\"utc\":\"2024-10-26T23:00:00+00:00\",\"local\":\"2024-10-27T01:00:00+02:00\"},\"unit\":\"µg/m³\",\"coordinates\":{\"latitude\":52.160772,\"longitude\":21.033819},\"country\":\"PL\",\"city\":null},{\"location\":\"Warszawa, al. Niepodległości\",\"parameter\":\"pm25\",\"value\":50.7,\"date\":{\"utc\":\"2024-10-26T23:00:00+00:00\",\"local\":\"2024-10-27T01:00:00+02:00\"},\"unit\":\"µg/m³\",\"coordinates\":{\"latitude\":52.219298,\"longitude\":21.004724},\"country\":\"PL\",\"city\":null},{\"location\":\"Warszawa, ul. Chrościckiego\",\"parameter\":\"pm25\",\"value\":79.1,\"date\":{\"utc\":\"2024-10-26T23:00:00+00:00\",\"local\":\"2024-10-27T01:00:00+02:00\"},\"unit\":\"µg/m³\",\"coordinates\":{\"latitude\":52.20774200000001,\"longitude\":20.906073},\"country\":\"PL\",\"city\":null},{\"location\":\"Warszawa, ul. Kondratowicza\",\"parameter\":\"pm25\",\"value\":47.6,\"date\":{\"utc\":\"2024-10-26T23:00:00+00:00\",\"local\":\"2024-10-27T01:00:00+02:00\"},\"unit\":\"µg/m³\",\"coordinates\":{\"latitude\":52.290864,\"longitude\":21.042458},\"country\":\"PL\",\"city\":null},{\"location\":\"Warszawa, ul. Kondratowicza\",\"parameter\":\"pm25\",\"value\":45.0,\"date\":{\"utc\":\"2024-10-26T22:00:00+00:00\",\"local\":\"2024-10-27T00:00:00+02:00\"},\"unit\":\"µg/m³\",\"coordinates\":{\"latitude\":52.290864,\"longitude\":21.042458},\"country\":\"PL\",\"city\":null},{\"location\":\"Warszawa, ul. Bajkowa\",\"parameter\":\"pm25\",\"value\":49.9,\"date\":{\"utc\":\"2024-10-26T22:00:00+00:00\",\"local\":\"2024-10-27T00:00:00+02:00\"},\"unit\":\"µg/m³\",\"coordinates\":{\"latitude\":52.188474,\"longitude\":21.176233},\"country\":\"PL\",\"city\":null},{\"location\":\"Warszawa, ul. Chrościckiego\",\"parameter\":\"pm25\",\"value\":73.3,\"date\":{\"utc\":\"2024-10-26T22:00:00+00:00\",\"local\":\"2024-10-27T00:00:00+02:00\"},\"unit\":\"µg/m³\",\"coordinates\":{\"latitude\":52.20774200000001,\"longitude\":20.906073},\"country\":\"PL\",\"city\":null},{\"location\":\"Warszawa, ul. Wokalna\",\"parameter\":\"pm25\",\"value\":43.2,\"date\":{\"utc\":\"2024-10-26T22:00:00+00:00\",\"local\":\"2024-10-27T00:00:00+02:00\"},\"unit\":\"µg/m³\",\"coordinates\":{\"latitude\":52.160772,\"longitude\":21.033819},\"country\":\"PL\",\"city\":null},{\"location\":\"Warszawa, al. Niepodległości\",\"parameter\":\"pm25\",\"value\":53.4,\"date\":{\"utc\":\"2024-10-26T22:00:00+00:00\",\"local\":\"2024-10-27T00:00:00+02:00\"},\"unit\":\"µg/m³\",\"coordinates\":{\"latitude\":52.219298,\"longitude\":21.004724},\"country\":\"PL\",\"city\":null},{\"location\":\"Warszawa, ul. Wokalna\",\"parameter\":\"pm25\",\"value\":41.3,\"date\":{\"utc\":\"2024-10-26T21:00:00+00:00\",\"local\":\"2024-10-26T23:00:00+02:00\"},\"unit\":\"µg/m³\",\"coordinates\":{\"latitude\":52.160772,\"longitude\":21.033819},\"country\":\"PL\",\"city\":null},{\"location\":\"Warszawa, al. Niepodległości\",\"parameter\":\"pm25\",\"value\":49.3,\"date\":{\"utc\":\"2024-10-26T21:00:00+00:00\",\"local\":\"2024-10-26T23:00:00+02:00\"},\"unit\":\"µg/m³\",\"coordinates\":{\"latitude\":52.219298,\"longitude\":21.004724},\"country\":\"PL\",\"city\":null},{\"location\":\"Warszawa, ul. Tołstoja\",\"parameter\":\"pm25\",\"value\":59.5,\"date\":{\"utc\":\"2024-10-26T21:00:00+00:00\",\"local\":\"2024-10-26T23:00:00+02:00\"},\"unit\":\"µg/m³\",\"coordinates\":{\"latitude\":52.285073,\"longitude\":20.933018},\"country\":\"PL\",\"city\":null},{\"location\":\"Warszawa, ul. Bajkowa\",\"parameter\":\"pm25\",\"value\":49.3,\"date\":{\"utc\":\"2024-10-26T21:00:00+00:00\",\"local\":\"2024-10-26T23:00:00+02:00\"},\"unit\":\"µg/m³\",\"coordinates\":{\"latitude\":52.188474,\"longitude\":21.176233},\"country\":\"PL\",\"city\":null},{\"location\":\"Warszawa, ul. Chrościckiego\",\"parameter\":\"pm25\",\"value\":70.8,\"date\":{\"utc\":\"2024-10-26T21:00:00+00:00\",\"local\":\"2024-10-26T23:00:00+02:00\"},\"unit\":\"µg/m³\",\"coordinates\":{\"latitude\":52.20774200000001,\"longitude\":20.906073},\"country\":\"PL\",\"city\":null},{\"location\":\"Warszawa, ul. Kondratowicza\",\"parameter\":\"pm25\",\"value\":42.8,\"date\":{\"utc\":\"2024-10-26T21:00:00+00:00\",\"local\":\"2024-10-26T23:00:00+02:00\"},\"unit\":\"µg/m³\",\"coordinates\":{\"latitude\":52.290864,\"longitude\":21.042458},\"country\":\"PL\",\"city\":null},{\"location\":\"Warszawa, ul. Wokalna\",\"parameter\":\"pm25\",\"value\":41.7,\"date\":{\"utc\":\"2024-10-26T20:00:00+00:00\",\"local\":\"2024-10-26T22:00:00+02:00\"},\"unit\":\"µg/m³\",\"coordinates\":{\"latitude\":52.160772,\"longitude\":21.033819},\"country\":\"PL\",\"city\":null},{\"location\":\"Warszawa, ul. Bajkowa\",\"parameter\":\"pm25\",\"value\":50.3,\"date\":{\"utc\":\"2024-10-26T20:00:00+00:00\",\"local\":\"2024-10-26T22:00:00+02:00\"},\"unit\":\"µg/m³\",\"coordinates\":{\"latitude\":52.188474,\"longitude\":21.176233},\"country\":\"PL\",\"city\":null},{\"location\":\"Warszawa, al. Niepodległości\",\"parameter\":\"pm25\",\"value\":41.3,\"date\":{\"utc\":\"2024-10-26T20:00:00+00:00\",\"local\":\"2024-10-26T22:00:00+02:00\"},\"unit\":\"µg/m³\",\"coordinates\":{\"latitude\":52.219298,\"longitude\":21.004724},\"country\":\"PL\",\"city\":null},{\"location\":\"Warszawa, ul. Kondratowicza\",\"parameter\":\"pm25\",\"value\":40.6,\"date\":{\"utc\":\"2024-10-26T20:00:00+00:00\",\"local\":\"2024-10-26T22:00:00+02:00\"},\"unit\":\"µg/m³\",\"coordinates\":{\"latitude\":52.290864,\"longitude\":21.042458},\"country\":\"PL\",\"city\":null},{\"location\":\"Warszawa, ul. Chrościckiego\",\"parameter\":\"pm25\",\"value\":70.6,\"date\":{\"utc\":\"2024-10-26T20:00:00+00:00\",\"local\":\"2024-10-26T22:00:00+02:00\"},\"unit\":\"µg/m³\",\"coordinates\":{\"latitude\":52.20774200000001,\"longitude\":20.906073},\"country\":\"PL\",\"city\":null},{\"location\":\"Warszawa, ul. Tołstoja\",\"parameter\":\"pm25\",\"value\":57.2,\"date\":{\"utc\":\"2024-10-26T20:00:00+00:00\",\"local\":\"2024-10-26T22:00:00+02:00\"},\"unit\":\"µg/m³\",\"coordinates\":{\"latitude\":52.285073,\"longitude\":20.933018},\"country\":\"PL\",\"city\":null},{\"location\":\"Warszawa, ul. Chrościckiego\",\"parameter\":\"pm25\",\"value\":60.8,\"date\":{\"utc\":\"2024-10-26T19:00:00+00:00\",\"local\":\"2024-10-26T21:00:00+02:00\"},\"unit\":\"µg/m³\",\"coordinates\":{\"latitude\":52.20774200000001,\"longitude\":20.906073},\"country\":\"PL\",\"city\":null},{\"location\":\"Warszawa, ul. Tołstoja\",\"parameter\":\"pm25\",\"value\":51.0,\"date\":{\"utc\":\"2024-10-26T19:00:00+00:00\",\"local\":\"2024-10-26T21:00:00+02:00\"},\"unit\":\"µg/m³\",\"coordinates\":{\"latitude\":52.285073,\"longitude\":20.933018},\"country\":\"PL\",\"city\":null},{\"location\":\"Warszawa, ul. Wokalna\",\"parameter\":\"pm25\",\"value\":39.8,\"date\":{\"utc\":\"2024-10-26T19:00:00+00:00\",\"local\":\"2024-10-26T21:00:00+02:00\"},\"unit\":\"µg/m³\",\"coordinates\":{\"latitude\":52.160772,\"longitude\":21.033819},\"country\":\"PL\",\"city\":null},{\"location\":\"Warszawa, ul. Bajkowa\",\"parameter\":\"pm25\",\"value\":50.6,\"date\":{\"utc\":\"2024-10-26T19:00:00+00:00\",\"local\":\"2024-10-26T21:00:00+02:00\"},\"unit\":\"µg/m³\",\"coordinates\":{\"latitude\":52.188474,\"longitude\":21.176233},\"country\":\"PL\",\"city\":null},{\"location\":\"Warszawa, ul. Kondratowicza\",\"parameter\":\"pm25\",\"value\":41.0,\"date\":{\"utc\":\"2024-10-26T19:00:00+00:00\",\"local\":\"2024-10-26T21:00:00+02:00\"},\"unit\":\"µg/m³\",\"coordinates\":{\"latitude\":52.290864,\"longitude\":21.042458},\"country\":\"PL\",\"city\":null},{\"location\":\"Warszawa, al. Niepodległości\",\"parameter\":\"pm25\",\"value\":37.5,\"date\":{\"utc\":\"2024-10-26T19:00:00+00:00\",\"local\":\"2024-10-26T21:00:00+02:00\"},\"unit\":\"µg/m³\",\"coordinates\":{\"latitude\":52.219298,\"longitude\":21.004724},\"country\":\"PL\",\"city\":null}]}'"
      ]
     },
     "execution_count": 28,
     "metadata": {},
     "output_type": "execute_result"
    }
   ],
   "source": []
  },
  {
   "cell_type": "code",
   "execution_count": null,
   "id": "29d8664f-92ed-4f73-953d-9602b9a387b5",
   "metadata": {},
   "outputs": [],
   "source": []
  }
 ],
 "metadata": {
  "kernelspec": {
   "display_name": "Python 3 (ipykernel)",
   "language": "python",
   "name": "python3"
  },
  "language_info": {
   "codemirror_mode": {
    "name": "ipython",
    "version": 3
   },
   "file_extension": ".py",
   "mimetype": "text/x-python",
   "name": "python",
   "nbconvert_exporter": "python",
   "pygments_lexer": "ipython3",
   "version": "3.11.10"
  }
 },
 "nbformat": 4,
 "nbformat_minor": 5
}
