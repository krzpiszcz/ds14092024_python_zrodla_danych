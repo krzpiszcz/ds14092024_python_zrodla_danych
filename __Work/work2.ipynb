{
 "cells": [
  {
   "cell_type": "code",
   "execution_count": 14,
   "id": "5448dfa1-0fe5-4eb7-926f-37e6f0895699",
   "metadata": {},
   "outputs": [],
   "source": [
    "import requests\n",
    "import json"
   ]
  },
  {
   "cell_type": "code",
   "execution_count": 10,
   "id": "d18390b2-2e51-4c6f-81f2-22ee8e8c50cc",
   "metadata": {},
   "outputs": [],
   "source": [
    "res = requests.get(\" http://api.nbp.pl/api/exchangerates/tables/a/\")"
   ]
  },
  {
   "cell_type": "code",
   "execution_count": 11,
   "id": "5dcdec44-f6f1-43c7-9927-56e38eedb654",
   "metadata": {},
   "outputs": [
    {
     "name": "stdout",
     "output_type": "stream",
     "text": [
      "['__attrs__', '__bool__', '__class__', '__delattr__', '__dict__', '__dir__', '__doc__', '__enter__', '__eq__', '__exit__', '__format__', '__ge__', '__getattribute__', '__getstate__', '__gt__', '__hash__', '__init__', '__init_subclass__', '__iter__', '__le__', '__lt__', '__module__', '__ne__', '__new__', '__nonzero__', '__reduce__', '__reduce_ex__', '__repr__', '__setattr__', '__setstate__', '__sizeof__', '__str__', '__subclasshook__', '__weakref__', '_content', '_content_consumed', '_next', 'apparent_encoding', 'close', 'connection', 'content', 'cookies', 'elapsed', 'encoding', 'headers', 'history', 'is_permanent_redirect', 'is_redirect', 'iter_content', 'iter_lines', 'json', 'links', 'next', 'ok', 'raise_for_status', 'raw', 'reason', 'request', 'status_code', 'text', 'url']\n"
     ]
    }
   ],
   "source": [
    "print(dir(res))\n"
   ]
  },
  {
   "cell_type": "code",
   "execution_count": 29,
   "id": "fe78c512-389e-4310-becb-ebb65f54b09d",
   "metadata": {},
   "outputs": [],
   "source": [
    "res.status_code\n",
    "data = res.json()\n",
    "# or\n",
    "data = json.loads(res.text)"
   ]
  },
  {
   "cell_type": "code",
   "execution_count": 30,
   "id": "c3b0e52b-2fb6-4558-9676-8b3b1c6029bf",
   "metadata": {},
   "outputs": [
    {
     "name": "stdout",
     "output_type": "stream",
     "text": [
      "[{'table': 'A', 'no': '209/A/NBP/2024', 'effectiveDate': '2024-10-25', 'rates': [{'currency': 'bat (Tajlandia)', 'code': 'THB', 'mid': 0.119}, {'currency': 'dolar amerykański', 'code': 'USD', 'mid': 4.0219}, {'currency': 'dolar australijski', 'code': 'AUD', 'mid': 2.6657}, {'currency': 'dolar Hongkongu', 'code': 'HKD', 'mid': 0.5176}, {'currency': 'dolar kanadyjski', 'code': 'CAD', 'mid': 2.9042}, {'currency': 'dolar nowozelandzki', 'code': 'NZD', 'mid': 2.4124}, {'currency': 'dolar singapurski', 'code': 'SGD', 'mid': 3.0474}, {'currency': 'euro', 'code': 'EUR', 'mid': 4.3533}, {'currency': 'forint (Węgry)', 'code': 'HUF', 'mid': 0.010771}, {'currency': 'frank szwajcarski', 'code': 'CHF', 'mid': 4.6403}, {'currency': 'funt szterling', 'code': 'GBP', 'mid': 5.2188}, {'currency': 'hrywna (Ukraina)', 'code': 'UAH', 'mid': 0.0974}, {'currency': 'jen (Japonia)', 'code': 'JPY', 'mid': 0.026468}, {'currency': 'korona czeska', 'code': 'CZK', 'mid': 0.1725}, {'currency': 'korona duńska', 'code': 'DKK', 'mid': 0.5835}, {'currency': 'korona islandzka', 'code': 'ISK', 'mid': 0.029276}, {'currency': 'korona norweska', 'code': 'NOK', 'mid': 0.3679}, {'currency': 'korona szwedzka', 'code': 'SEK', 'mid': 0.3802}, {'currency': 'lej rumuński', 'code': 'RON', 'mid': 0.8753}, {'currency': 'lew (Bułgaria)', 'code': 'BGN', 'mid': 2.2258}, {'currency': 'lira turecka', 'code': 'TRY', 'mid': 0.1178}, {'currency': 'nowy izraelski szekel', 'code': 'ILS', 'mid': 1.0628}, {'currency': 'peso chilijskie', 'code': 'CLP', 'mid': 0.004249}, {'currency': 'peso filipińskie', 'code': 'PHP', 'mid': 0.0689}, {'currency': 'peso meksykańskie', 'code': 'MXN', 'mid': 0.2031}, {'currency': 'rand (Republika Południowej Afryki)', 'code': 'ZAR', 'mid': 0.2276}, {'currency': 'real (Brazylia)', 'code': 'BRL', 'mid': 0.7097}, {'currency': 'ringgit (Malezja)', 'code': 'MYR', 'mid': 0.9267}, {'currency': 'rupia indonezyjska', 'code': 'IDR', 'mid': 0.00025715}, {'currency': 'rupia indyjska', 'code': 'INR', 'mid': 0.047842}, {'currency': 'won południowokoreański', 'code': 'KRW', 'mid': 0.002895}, {'currency': 'yuan renminbi (Chiny)', 'code': 'CNY', 'mid': 0.5645}, {'currency': 'SDR (MFW)', 'code': 'XDR', 'mid': 5.3592}]}]\n"
     ]
    }
   ],
   "source": [
    "print(data)"
   ]
  },
  {
   "cell_type": "code",
   "execution_count": 31,
   "id": "09e2b8e7-ebb1-49cc-819f-46fe912bed3e",
   "metadata": {},
   "outputs": [],
   "source": [
    "url = \"http://api.nbp.pl/api/exchangerates/tables/a\"\n",
    "res = requests.get(url)"
   ]
  },
  {
   "cell_type": "code",
   "execution_count": 33,
   "id": "4573aebd-aad3-46a2-8025-f67685e72b35",
   "metadata": {},
   "outputs": [
    {
     "data": {
      "text/plain": [
       "'[{\"table\":\"A\",\"no\":\"209/A/NBP/2024\",\"effectiveDate\":\"2024-10-25\",\"rates\":[{\"currency\":\"bat (Tajlandia)\",\"code\":\"THB\",\"mid\":0.1190},{\"currency\":\"dolar amerykański\",\"code\":\"USD\",\"mid\":4.0219},{\"currency\":\"dolar australijski\",\"code\":\"AUD\",\"mid\":2.6657},{\"currency\":\"dolar Hongkongu\",\"code\":\"HKD\",\"mid\":0.5176},{\"currency\":\"dolar kanadyjski\",\"code\":\"CAD\",\"mid\":2.9042},{\"currency\":\"dolar nowozelandzki\",\"code\":\"NZD\",\"mid\":2.4124},{\"currency\":\"dolar singapurski\",\"code\":\"SGD\",\"mid\":3.0474},{\"currency\":\"euro\",\"code\":\"EUR\",\"mid\":4.3533},{\"currency\":\"forint (Węgry)\",\"code\":\"HUF\",\"mid\":0.010771},{\"currency\":\"frank szwajcarski\",\"code\":\"CHF\",\"mid\":4.6403},{\"currency\":\"funt szterling\",\"code\":\"GBP\",\"mid\":5.2188},{\"currency\":\"hrywna (Ukraina)\",\"code\":\"UAH\",\"mid\":0.0974},{\"currency\":\"jen (Japonia)\",\"code\":\"JPY\",\"mid\":0.026468},{\"currency\":\"korona czeska\",\"code\":\"CZK\",\"mid\":0.1725},{\"currency\":\"korona duńska\",\"code\":\"DKK\",\"mid\":0.5835},{\"currency\":\"korona islandzka\",\"code\":\"ISK\",\"mid\":0.029276},{\"currency\":\"korona norweska\",\"code\":\"NOK\",\"mid\":0.3679},{\"currency\":\"korona szwedzka\",\"code\":\"SEK\",\"mid\":0.3802},{\"currency\":\"lej rumuński\",\"code\":\"RON\",\"mid\":0.8753},{\"currency\":\"lew (Bułgaria)\",\"code\":\"BGN\",\"mid\":2.2258},{\"currency\":\"lira turecka\",\"code\":\"TRY\",\"mid\":0.1178},{\"currency\":\"nowy izraelski szekel\",\"code\":\"ILS\",\"mid\":1.0628},{\"currency\":\"peso chilijskie\",\"code\":\"CLP\",\"mid\":0.004249},{\"currency\":\"peso filipińskie\",\"code\":\"PHP\",\"mid\":0.0689},{\"currency\":\"peso meksykańskie\",\"code\":\"MXN\",\"mid\":0.2031},{\"currency\":\"rand (Republika Południowej Afryki)\",\"code\":\"ZAR\",\"mid\":0.2276},{\"currency\":\"real (Brazylia)\",\"code\":\"BRL\",\"mid\":0.7097},{\"currency\":\"ringgit (Malezja)\",\"code\":\"MYR\",\"mid\":0.9267},{\"currency\":\"rupia indonezyjska\",\"code\":\"IDR\",\"mid\":0.00025715},{\"currency\":\"rupia indyjska\",\"code\":\"INR\",\"mid\":0.047842},{\"currency\":\"won południowokoreański\",\"code\":\"KRW\",\"mid\":0.002895},{\"currency\":\"yuan renminbi (Chiny)\",\"code\":\"CNY\",\"mid\":0.5645},{\"currency\":\"SDR (MFW)\",\"code\":\"XDR\",\"mid\":5.3592}]}]'"
      ]
     },
     "execution_count": 33,
     "metadata": {},
     "output_type": "execute_result"
    }
   ],
   "source": [
    "res.text"
   ]
  },
  {
   "cell_type": "code",
   "execution_count": 35,
   "id": "6b434150-c4ee-41c7-8b88-9a33c9be2708",
   "metadata": {},
   "outputs": [],
   "source": [
    "data = json.loads(res.text)"
   ]
  },
  {
   "cell_type": "code",
   "execution_count": 36,
   "id": "52cbd89e-93c7-4173-a58d-7248149b1d50",
   "metadata": {},
   "outputs": [
    {
     "data": {
      "text/plain": [
       "[{'table': 'A',\n",
       "  'no': '209/A/NBP/2024',\n",
       "  'effectiveDate': '2024-10-25',\n",
       "  'rates': [{'currency': 'bat (Tajlandia)', 'code': 'THB', 'mid': 0.119},\n",
       "   {'currency': 'dolar amerykański', 'code': 'USD', 'mid': 4.0219},\n",
       "   {'currency': 'dolar australijski', 'code': 'AUD', 'mid': 2.6657},\n",
       "   {'currency': 'dolar Hongkongu', 'code': 'HKD', 'mid': 0.5176},\n",
       "   {'currency': 'dolar kanadyjski', 'code': 'CAD', 'mid': 2.9042},\n",
       "   {'currency': 'dolar nowozelandzki', 'code': 'NZD', 'mid': 2.4124},\n",
       "   {'currency': 'dolar singapurski', 'code': 'SGD', 'mid': 3.0474},\n",
       "   {'currency': 'euro', 'code': 'EUR', 'mid': 4.3533},\n",
       "   {'currency': 'forint (Węgry)', 'code': 'HUF', 'mid': 0.010771},\n",
       "   {'currency': 'frank szwajcarski', 'code': 'CHF', 'mid': 4.6403},\n",
       "   {'currency': 'funt szterling', 'code': 'GBP', 'mid': 5.2188},\n",
       "   {'currency': 'hrywna (Ukraina)', 'code': 'UAH', 'mid': 0.0974},\n",
       "   {'currency': 'jen (Japonia)', 'code': 'JPY', 'mid': 0.026468},\n",
       "   {'currency': 'korona czeska', 'code': 'CZK', 'mid': 0.1725},\n",
       "   {'currency': 'korona duńska', 'code': 'DKK', 'mid': 0.5835},\n",
       "   {'currency': 'korona islandzka', 'code': 'ISK', 'mid': 0.029276},\n",
       "   {'currency': 'korona norweska', 'code': 'NOK', 'mid': 0.3679},\n",
       "   {'currency': 'korona szwedzka', 'code': 'SEK', 'mid': 0.3802},\n",
       "   {'currency': 'lej rumuński', 'code': 'RON', 'mid': 0.8753},\n",
       "   {'currency': 'lew (Bułgaria)', 'code': 'BGN', 'mid': 2.2258},\n",
       "   {'currency': 'lira turecka', 'code': 'TRY', 'mid': 0.1178},\n",
       "   {'currency': 'nowy izraelski szekel', 'code': 'ILS', 'mid': 1.0628},\n",
       "   {'currency': 'peso chilijskie', 'code': 'CLP', 'mid': 0.004249},\n",
       "   {'currency': 'peso filipińskie', 'code': 'PHP', 'mid': 0.0689},\n",
       "   {'currency': 'peso meksykańskie', 'code': 'MXN', 'mid': 0.2031},\n",
       "   {'currency': 'rand (Republika Południowej Afryki)',\n",
       "    'code': 'ZAR',\n",
       "    'mid': 0.2276},\n",
       "   {'currency': 'real (Brazylia)', 'code': 'BRL', 'mid': 0.7097},\n",
       "   {'currency': 'ringgit (Malezja)', 'code': 'MYR', 'mid': 0.9267},\n",
       "   {'currency': 'rupia indonezyjska', 'code': 'IDR', 'mid': 0.00025715},\n",
       "   {'currency': 'rupia indyjska', 'code': 'INR', 'mid': 0.047842},\n",
       "   {'currency': 'won południowokoreański', 'code': 'KRW', 'mid': 0.002895},\n",
       "   {'currency': 'yuan renminbi (Chiny)', 'code': 'CNY', 'mid': 0.5645},\n",
       "   {'currency': 'SDR (MFW)', 'code': 'XDR', 'mid': 5.3592}]}]"
      ]
     },
     "execution_count": 36,
     "metadata": {},
     "output_type": "execute_result"
    }
   ],
   "source": [
    "data"
   ]
  },
  {
   "cell_type": "code",
   "execution_count": 44,
   "id": "f73e78ec-74af-4e48-bce1-475a6fdf3c41",
   "metadata": {},
   "outputs": [
    {
     "name": "stdout",
     "output_type": "stream",
     "text": [
      "Kurs bat (Tajlandia) THB wynosi 0.119\n",
      "Kurs dolar amerykański USD wynosi 4.0219\n",
      "Kurs dolar australijski AUD wynosi 2.6657\n",
      "Kurs dolar Hongkongu HKD wynosi 0.5176\n",
      "Kurs dolar kanadyjski CAD wynosi 2.9042\n",
      "Kurs dolar nowozelandzki NZD wynosi 2.4124\n",
      "Kurs dolar singapurski SGD wynosi 3.0474\n",
      "Kurs euro EUR wynosi 4.3533\n",
      "Kurs forint (Węgry) HUF wynosi 0.010771\n",
      "Kurs frank szwajcarski CHF wynosi 4.6403\n",
      "Kurs funt szterling GBP wynosi 5.2188\n",
      "Kurs hrywna (Ukraina) UAH wynosi 0.0974\n",
      "Kurs jen (Japonia) JPY wynosi 0.026468\n",
      "Kurs korona czeska CZK wynosi 0.1725\n",
      "Kurs korona duńska DKK wynosi 0.5835\n",
      "Kurs korona islandzka ISK wynosi 0.029276\n",
      "Kurs korona norweska NOK wynosi 0.3679\n",
      "Kurs korona szwedzka SEK wynosi 0.3802\n",
      "Kurs lej rumuński RON wynosi 0.8753\n",
      "Kurs lew (Bułgaria) BGN wynosi 2.2258\n",
      "Kurs lira turecka TRY wynosi 0.1178\n",
      "Kurs nowy izraelski szekel ILS wynosi 1.0628\n",
      "Kurs peso chilijskie CLP wynosi 0.004249\n",
      "Kurs peso filipińskie PHP wynosi 0.0689\n",
      "Kurs peso meksykańskie MXN wynosi 0.2031\n",
      "Kurs rand (Republika Południowej Afryki) ZAR wynosi 0.2276\n",
      "Kurs real (Brazylia) BRL wynosi 0.7097\n",
      "Kurs ringgit (Malezja) MYR wynosi 0.9267\n",
      "Kurs rupia indonezyjska IDR wynosi 0.00025715\n",
      "Kurs rupia indyjska INR wynosi 0.047842\n",
      "Kurs won południowokoreański KRW wynosi 0.002895\n",
      "Kurs yuan renminbi (Chiny) CNY wynosi 0.5645\n",
      "Kurs SDR (MFW) XDR wynosi 5.3592\n"
     ]
    }
   ],
   "source": [
    "for rates in data[0]['rates']:\n",
    "    print(f\"Kurs {rates['currency']} {rates['code']} wynosi {rates['mid']}\")\n",
    "    "
   ]
  },
  {
   "cell_type": "code",
   "execution_count": null,
   "id": "5d2d899d-8179-42b6-8e53-8216d7836a61",
   "metadata": {},
   "outputs": [],
   "source": []
  }
 ],
 "metadata": {
  "kernelspec": {
   "display_name": "Python 3 (ipykernel)",
   "language": "python",
   "name": "python3"
  },
  "language_info": {
   "codemirror_mode": {
    "name": "ipython",
    "version": 3
   },
   "file_extension": ".py",
   "mimetype": "text/x-python",
   "name": "python",
   "nbconvert_exporter": "python",
   "pygments_lexer": "ipython3",
   "version": "3.11.10"
  }
 },
 "nbformat": 4,
 "nbformat_minor": 5
}
