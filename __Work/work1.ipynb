{
 "cells": [
  {
   "cell_type": "code",
   "execution_count": 2,
   "id": "c7718166-5b81-455a-97a8-7116a902f15b",
   "metadata": {},
   "outputs": [],
   "source": [
    "content = \"\"\"{\n",
    "  \"employees\": [\n",
    "    {\n",
    "      \"name\": \"Jan Kowalski\",\n",
    "      \"department\": \"HR\",\n",
    "      \"years_of_service\": 5\n",
    "    },\n",
    "    {\n",
    "      \"name\": \"Anna Nowak\",\n",
    "      \"department\": \"IT\",\n",
    "      \"years_of_service\": 3\n",
    "    },\n",
    "    {\n",
    "      \"name\": \"Piotr Wiśniewski\",\n",
    "      \"department\": \"Finance\",\n",
    "      \"years_of_service\": 7\n",
    "    },\n",
    "    {\n",
    "      \"name\": \"Katarzyna Wójcik\",\n",
    "      \"department\": \"IT\",\n",
    "      \"years_of_service\": 6\n",
    "    },\n",
    "    {\n",
    "      \"name\": \"Tomasz Lewandowski\",\n",
    "      \"department\": \"Marketing\",\n",
    "      \"years_of_service\": 2\n",
    "    }\n",
    "  ]\n",
    "}\"\"\""
   ]
  },
  {
   "cell_type": "code",
   "execution_count": 3,
   "id": "9804201c-93f3-4af3-8b1e-86aee2062667",
   "metadata": {},
   "outputs": [],
   "source": [
    "import json"
   ]
  },
  {
   "cell_type": "code",
   "execution_count": 5,
   "id": "f82b7e7e-97b3-4c86-ae47-1d1e401ee865",
   "metadata": {},
   "outputs": [],
   "source": [
    "df = json.loads(content)"
   ]
  },
  {
   "cell_type": "code",
   "execution_count": 10,
   "id": "0d4b0765-01fd-4ca4-8ad3-474f53c42768",
   "metadata": {},
   "outputs": [],
   "source": [
    "employees = df['employees']"
   ]
  },
  {
   "cell_type": "code",
   "execution_count": 21,
   "id": "38107f1a-e652-47b0-9655-1413b13018a6",
   "metadata": {},
   "outputs": [
    {
     "data": {
      "text/plain": [
       "{'name': 'Katarzyna Wójcik', 'department': 'IT', 'years_of_service': 6}"
      ]
     },
     "execution_count": 21,
     "metadata": {},
     "output_type": "execute_result"
    }
   ],
   "source": [
    "#initiate\n",
    "max_employee = employees[3]\n",
    "max_employee"
   ]
  },
  {
   "cell_type": "code",
   "execution_count": 24,
   "id": "79ab5c11-df04-4a27-bd3e-9407f3b578d5",
   "metadata": {},
   "outputs": [],
   "source": [
    "for employee in employees:\n",
    "    if max_employee['years_of_service'] < employee['years_of_service']:\n",
    "        max_employee = employee\n",
    "        "
   ]
  },
  {
   "cell_type": "code",
   "execution_count": 27,
   "id": "ea2c2259-bf37-4255-952e-de1276218c92",
   "metadata": {},
   "outputs": [
    {
     "name": "stdout",
     "output_type": "stream",
     "text": [
      "Pracownik: Piotr Wiśniewski years 7\n"
     ]
    }
   ],
   "source": [
    "print(f\"Pracownik: {max_employee['name']} years {max_employee['years_of_service']}\")"
   ]
  },
  {
   "cell_type": "code",
   "execution_count": 28,
   "id": "177c56b0-d2dc-44cd-8e2e-94a2c4cc3b3e",
   "metadata": {},
   "outputs": [
    {
     "data": {
      "text/plain": [
       "'C:\\\\GitProjects_Python\\\\Sages_DSAI\\\\ds14092024_python_zrodla_danych\\\\__Work'"
      ]
     },
     "execution_count": 28,
     "metadata": {},
     "output_type": "execute_result"
    }
   ],
   "source": [
    "pwd"
   ]
  },
  {
   "cell_type": "code",
   "execution_count": 31,
   "id": "99dd270a-3974-4d5e-8e29-610a5122e546",
   "metadata": {},
   "outputs": [
    {
     "data": {
      "text/plain": [
       "b'C:\\\\GitProjects_Python\\\\Sages_DSAI\\\\ds14092024_python_zrodla_danych\\\\__Work'"
      ]
     },
     "execution_count": 31,
     "metadata": {},
     "output_type": "execute_result"
    }
   ],
   "source": [
    "import os\n",
    "os.getcwd()\n",
    "os.getcwdb()"
   ]
  },
  {
   "cell_type": "code",
   "execution_count": 37,
   "id": "6cb1e135-4fdd-4baf-91a0-b42507f249e1",
   "metadata": {},
   "outputs": [
    {
     "name": "stdout",
     "output_type": "stream",
     "text": [
      " - Anna Nowak\n",
      " - Katarzyna Wójcik\n"
     ]
    }
   ],
   "source": [
    "it_employees = []\n",
    "\n",
    "for employee in employees:\n",
    "    if employee['department'] == 'IT':\n",
    "        it_employees.append(employee['name'])\n",
    "\n",
    "for e in it_employees:\n",
    "    print(f\" - {e}\")"
   ]
  },
  {
   "cell_type": "code",
   "execution_count": 35,
   "id": "50ffb705-d38d-44a3-990f-b10efe64d489",
   "metadata": {},
   "outputs": [
    {
     "data": {
      "text/plain": [
       "['Anna Nowak', 'Katarzyna Wójcik']"
      ]
     },
     "execution_count": 35,
     "metadata": {},
     "output_type": "execute_result"
    }
   ],
   "source": [
    "it_employees"
   ]
  },
  {
   "cell_type": "code",
   "execution_count": 38,
   "id": "8e472171-ae56-4150-9ba4-97cf7be25aa7",
   "metadata": {},
   "outputs": [
    {
     "data": {
      "text/plain": [
       "{'name': 'Piotr Wiśniewski', 'department': 'Finance', 'years_of_service': 7}"
      ]
     },
     "execution_count": 38,
     "metadata": {},
     "output_type": "execute_result"
    }
   ],
   "source": [
    "max_years = max(employees, key=lambda x: x['years_of_service'])\n",
    "max_years"
   ]
  },
  {
   "cell_type": "code",
   "execution_count": null,
   "id": "caa6fb2b-eeb8-469e-89e8-ff8399d5023c",
   "metadata": {},
   "outputs": [],
   "source": []
  }
 ],
 "metadata": {
  "kernelspec": {
   "display_name": "Python 3 (ipykernel)",
   "language": "python",
   "name": "python3"
  },
  "language_info": {
   "codemirror_mode": {
    "name": "ipython",
    "version": 3
   },
   "file_extension": ".py",
   "mimetype": "text/x-python",
   "name": "python",
   "nbconvert_exporter": "python",
   "pygments_lexer": "ipython3",
   "version": "3.11.10"
  }
 },
 "nbformat": 4,
 "nbformat_minor": 5
}
