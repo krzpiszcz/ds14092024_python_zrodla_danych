{
 "cells": [
  {
   "cell_type": "markdown",
   "id": "02be3228-e570-4f40-9fde-fe11939d7d8d",
   "metadata": {},
   "source": [
    "### [API Chuck Norris](https://api.chucknorris.io)\n",
    "\n",
    "Napisz program, który wykorzystuje API Chuck Norris do pobrania losowego dowcipu o Chucku Norrisie i wyświetla go na ekranie."
   ]
  },
  {
   "cell_type": "code",
   "execution_count": 4,
   "id": "cfe5ae13-315a-4575-a772-ac16861844df",
   "metadata": {},
   "outputs": [
    {
     "data": {
      "text/plain": [
       "\"Argentina uses Chuck Norris' shit as currency.\""
      ]
     },
     "execution_count": 4,
     "metadata": {},
     "output_type": "execute_result"
    }
   ],
   "source": [
    "import requests\n",
    "\n",
    "url = 'https://api.chucknorris.io/jokes/random'\n",
    "res = requests.get(url)\n",
    "data = res.json()\n",
    "data['value']"
   ]
  }
 ],
 "metadata": {
  "kernelspec": {
   "display_name": "Python 3 (ipykernel)",
   "language": "python",
   "name": "python3"
  },
  "language_info": {
   "codemirror_mode": {
    "name": "ipython",
    "version": 3
   },
   "file_extension": ".py",
   "mimetype": "text/x-python",
   "name": "python",
   "nbconvert_exporter": "python",
   "pygments_lexer": "ipython3",
   "version": "3.12.4"
  }
 },
 "nbformat": 4,
 "nbformat_minor": 5
}
