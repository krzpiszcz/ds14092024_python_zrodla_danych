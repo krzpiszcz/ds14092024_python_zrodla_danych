{
 "cells": [
  {
   "cell_type": "markdown",
   "id": "fde16f88-cc2b-4635-94d6-be23b57cbec4",
   "metadata": {},
   "source": [
    "### [Dog CEO's Dog API](https://dog.ceo/dog-api/)\n",
    "\n",
    "Napisz program w Pythonie, który pobierze losowy obrazek psa z publicznego API \"Dog CEO's Dog API\". Program powinien umożliwić użytkownikowi zapisanie tego obrazka na dysku pod nazwą podaną przez użytkownika."
   ]
  },
  {
   "cell_type": "code",
   "execution_count": null,
   "id": "d3d0dc50-9780-465c-b1af-46f3d8d0c35c",
   "metadata": {},
   "outputs": [],
   "source": []
  }
 ],
 "metadata": {
  "kernelspec": {
   "display_name": "Python 3 (ipykernel)",
   "language": "python",
   "name": "python3"
  },
  "language_info": {
   "codemirror_mode": {
    "name": "ipython",
    "version": 3
   },
   "file_extension": ".py",
   "mimetype": "text/x-python",
   "name": "python",
   "nbconvert_exporter": "python",
   "pygments_lexer": "ipython3",
   "version": "3.12.4"
  }
 },
 "nbformat": 4,
 "nbformat_minor": 5
}
