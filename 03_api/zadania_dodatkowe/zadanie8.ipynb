{
 "cells": [
  {
   "cell_type": "markdown",
   "id": "9d8676d8-9e6a-42ed-bbb0-8135056c89dc",
   "metadata": {},
   "source": [
    "### [Exchange Rates API](https://exchangeratesapi.io/)\n",
    "\n",
    "Za pomocą biblioteki `requests` pobierz z [https://exchangeratesapi.io/](https://exchangeratesapi.io/) aktualne kursy walut, oraz wyświetl je w formie listy:\n",
    "\n",
    "```\n",
    "- <KURS 1> EUR/<WALUTA 1>\n",
    "- <KURS 2> EUR/<WALUTA 2>\n",
    "...\n",
    "```\n",
    "\n",
    "Wynik powinien przypominać:\n",
    "```\n",
    "- 4.5066 EUR/PLN\n",
    "- 1.5319 EUR/CAD\n",
    "- 0.86308 EUR/GBP\n",
    "...\n",
    "```\n",
    "\n",
    "API posiada system autoryzacji, więc najpierw należy się w nim zarejestrować i wygenerować token dla swojego użytkownika."
   ]
  },
  {
   "cell_type": "code",
   "execution_count": null,
   "id": "e5acceed-ef3c-4c8a-9599-e1f2d96078b8",
   "metadata": {},
   "outputs": [],
   "source": []
  }
 ],
 "metadata": {
  "kernelspec": {
   "display_name": "Python 3 (ipykernel)",
   "language": "python",
   "name": "python3"
  },
  "language_info": {
   "codemirror_mode": {
    "name": "ipython",
    "version": 3
   },
   "file_extension": ".py",
   "mimetype": "text/x-python",
   "name": "python",
   "nbconvert_exporter": "python",
   "pygments_lexer": "ipython3",
   "version": "3.12.4"
  }
 },
 "nbformat": 4,
 "nbformat_minor": 5
}
