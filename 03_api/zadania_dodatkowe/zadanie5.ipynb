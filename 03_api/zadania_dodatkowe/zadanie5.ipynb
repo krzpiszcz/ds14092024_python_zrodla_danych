{
 "cells": [
  {
   "cell_type": "markdown",
   "id": "f8cc5a77-7ca2-42db-a8e8-9a2ed4f20ec0",
   "metadata": {},
   "source": [
    "### [Bored API](https://www.boredapi.com/)\n",
    "\n",
    "Napisz program w Pythonie, który pobierze losową sugestię dotyczącą aktywności z API \"Bored API\" i wyświetli ją użytkownikowi. Umożliw użytkownikowi wybranie rodzaju aktywności (np. \"education\", \"recreational\", \"social\", \"diy\", \"charity\", \"cooking\", \"relaxation\", \"music\", \"busywork\"). Program powinien pobrać odpowiednią sugestię i wyświetlić ją użytkownikowi."
   ]
  },
  {
   "cell_type": "code",
   "execution_count": null,
   "id": "80935e99-22b6-46ac-a359-37158e57c01a",
   "metadata": {},
   "outputs": [],
   "source": []
  }
 ],
 "metadata": {
  "kernelspec": {
   "display_name": "Python 3 (ipykernel)",
   "language": "python",
   "name": "python3"
  },
  "language_info": {
   "codemirror_mode": {
    "name": "ipython",
    "version": 3
   },
   "file_extension": ".py",
   "mimetype": "text/x-python",
   "name": "python",
   "nbconvert_exporter": "python",
   "pygments_lexer": "ipython3",
   "version": "3.12.4"
  }
 },
 "nbformat": 4,
 "nbformat_minor": 5
}
