{
 "cells": [
  {
   "cell_type": "markdown",
   "id": "321a6c85-5c80-4b61-964c-baac72186314",
   "metadata": {},
   "source": [
    "### [{JSON} Placeholder](https://jsonplaceholder.typicode.com/)"
   ]
  },
  {
   "cell_type": "markdown",
   "id": "043b3ff2-4702-494d-8e8d-a2e132291d40",
   "metadata": {},
   "source": [
    "Napisz program w Pythonie, który utworzy nowy post na serwerze za pomocą API \"JSONPlaceholder\". Program powinien umożliwić użytkownikowi podanie tytułu i treści posta, a następnie wysłać te dane jako JSON do API **metodą POST** i wyświetlić odpowiedź serwera."
   ]
  },
  {
   "cell_type": "markdown",
   "id": "2100cf42-dd45-453a-b8c4-a87833b8ab14",
   "metadata": {},
   "source": [
    "1. Poproś użytkownika o podanie tytułu i treści posta."
   ]
  },
  {
   "cell_type": "code",
   "execution_count": null,
   "id": "01971e78-8cd4-44dd-ae1b-565cfb28f398",
   "metadata": {},
   "outputs": [],
   "source": [
    "# Pobranie tytułu i treści posta od użytkownika\n"
   ]
  },
  {
   "cell_type": "markdown",
   "id": "eff48afa-0356-4b79-96ab-c1a230453d3e",
   "metadata": {},
   "source": [
    "2. Przygotuj dane w formacie JSON."
   ]
  },
  {
   "cell_type": "code",
   "execution_count": null,
   "id": "0093d0de-5ba2-4170-85de-f8ace9898ea1",
   "metadata": {},
   "outputs": [],
   "source": [
    "# Dane do wysłania jako JSON\n"
   ]
  },
  {
   "cell_type": "markdown",
   "id": "72630f02-20eb-42a9-a5e6-f7aeb86ec1d7",
   "metadata": {},
   "source": [
    "3. Wyślij dane do API \"JSONPlaceholder\""
   ]
  },
  {
   "cell_type": "code",
   "execution_count": null,
   "id": "4256fe60-4c0f-4af2-9d20-0a7798c21355",
   "metadata": {},
   "outputs": [],
   "source": [
    "\n"
   ]
  },
  {
   "cell_type": "markdown",
   "id": "62bc0b64-a16a-471e-85f3-50c42088c596",
   "metadata": {},
   "source": [
    "4. Zparsuj otrzymane dane JSON oraz wyświetl odpowiedź serwera."
   ]
  },
  {
   "cell_type": "code",
   "execution_count": null,
   "id": "7f0e1149-6d78-43ba-821d-cd81eef1937a",
   "metadata": {},
   "outputs": [],
   "source": [
    "\n"
   ]
  }
 ],
 "metadata": {
  "kernelspec": {
   "display_name": "Python 3 (ipykernel)",
   "language": "python",
   "name": "python3"
  },
  "language_info": {
   "codemirror_mode": {
    "name": "ipython",
    "version": 3
   },
   "file_extension": ".py",
   "mimetype": "text/x-python",
   "name": "python",
   "nbconvert_exporter": "python",
   "pygments_lexer": "ipython3",
   "version": "3.12.4"
  }
 },
 "nbformat": 4,
 "nbformat_minor": 5
}
