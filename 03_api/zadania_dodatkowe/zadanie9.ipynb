{
 "cells": [
  {
   "cell_type": "markdown",
   "id": "9d8676d8-9e6a-42ed-bbb0-8135056c89dc",
   "metadata": {},
   "source": [
    "### Wybrane API\n",
    "\n",
    "Przejrzyj listy popularnych API wymienione w pliku `intro.ipynb`. Wybierz z list API, które Cię zainteresuje i skonsumuj je.\n"
   ]
  },
  {
   "cell_type": "code",
   "execution_count": null,
   "id": "b0a21d95-a383-41ae-a348-991173806acf",
   "metadata": {},
   "outputs": [],
   "source": []
  }
 ],
 "metadata": {
  "kernelspec": {
   "display_name": "Python 3 (ipykernel)",
   "language": "python",
   "name": "python3"
  },
  "language_info": {
   "codemirror_mode": {
    "name": "ipython",
    "version": 3
   },
   "file_extension": ".py",
   "mimetype": "text/x-python",
   "name": "python",
   "nbconvert_exporter": "python",
   "pygments_lexer": "ipython3",
   "version": "3.12.4"
  }
 },
 "nbformat": 4,
 "nbformat_minor": 5
}
