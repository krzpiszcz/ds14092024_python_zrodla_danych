{
 "cells": [
  {
   "cell_type": "markdown",
   "id": "45269ec8-532d-4652-b4a0-b204ec946220",
   "metadata": {},
   "source": [
    "### [NASA API](https://api.nasa.gov/)"
   ]
  },
  {
   "cell_type": "markdown",
   "id": "aad1b435-60e3-4f27-8821-cc9103edaa2b",
   "metadata": {},
   "source": [
    "Napisz program w Pythonie, który pobierze zdjęcie astronomiczne dnia z API NASA APOD (Astronomy Picture of the Day). Program powinien:\n",
    "\n",
    "1. Umożliwić użytkownikowi podanie daty.\n",
    "2. Wysłać żądanie GET do API NASA APOD z JSON-em zawierającym datę.\n",
    "3. Otrzymać odpowiedź z API w formacie JSON.\n",
    "4. Wyświetlić tytuł, opis oraz zdjęcie astronomiczne dnia."
   ]
  },
  {
   "cell_type": "code",
   "execution_count": null,
   "id": "60d48f36-d748-407c-a512-89107c56aae9",
   "metadata": {},
   "outputs": [],
   "source": []
  }
 ],
 "metadata": {
  "kernelspec": {
   "display_name": "Python 3 (ipykernel)",
   "language": "python",
   "name": "python3"
  },
  "language_info": {
   "codemirror_mode": {
    "name": "ipython",
    "version": 3
   },
   "file_extension": ".py",
   "mimetype": "text/x-python",
   "name": "python",
   "nbconvert_exporter": "python",
   "pygments_lexer": "ipython3",
   "version": "3.12.4"
  }
 },
 "nbformat": 4,
 "nbformat_minor": 5
}
