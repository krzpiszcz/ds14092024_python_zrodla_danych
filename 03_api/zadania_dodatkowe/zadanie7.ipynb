{
 "cells": [
  {
   "cell_type": "markdown",
   "id": "23d0d656-21a1-44f8-921c-1bdea0b1c638",
   "metadata": {},
   "source": [
    "### [API PokeAPI](https://pokeapi.co/)\n",
    "\n",
    "Napisz program, który korzysta z API PokeAPI do pobrania danych o losowym pokemonie, w tym jego nazwy, typów i obrazka. Wyświetl te informacje na ekranie."
   ]
  },
  {
   "cell_type": "code",
   "execution_count": null,
   "id": "d89a1d29-b3db-4c60-a45c-3cfca493a04a",
   "metadata": {},
   "outputs": [],
   "source": []
  }
 ],
 "metadata": {
  "kernelspec": {
   "display_name": "Python 3 (ipykernel)",
   "language": "python",
   "name": "python3"
  },
  "language_info": {
   "codemirror_mode": {
    "name": "ipython",
    "version": 3
   },
   "file_extension": ".py",
   "mimetype": "text/x-python",
   "name": "python",
   "nbconvert_exporter": "python",
   "pygments_lexer": "ipython3",
   "version": "3.12.4"
  }
 },
 "nbformat": 4,
 "nbformat_minor": 5
}
