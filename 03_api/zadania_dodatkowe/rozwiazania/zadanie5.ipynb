{
 "cells": [
  {
   "cell_type": "markdown",
   "id": "f8cc5a77-7ca2-42db-a8e8-9a2ed4f20ec0",
   "metadata": {},
   "source": [
    "### [Bored API](https://www.boredapi.com/)\n",
    "\n",
    "Napisz program w Pythonie, który pobierze losową sugestię dotyczącą aktywności z API [\"Bored API\"](https://bored-api.appbrewery.com/) i wyświetli ją użytkownikowi. Umożliw użytkownikowi wybranie rodzaju aktywności (np. \"education\", \"recreational\", \"social\", \"diy\", \"charity\", \"cooking\", \"relaxation\", \"music\", \"busywork\"). Program powinien pobrać odpowiednią sugestię i wyświetlić ją użytkownikowi."
   ]
  },
  {
   "cell_type": "code",
   "execution_count": 1,
   "id": "80935e99-22b6-46ac-a359-37158e57c01a",
   "metadata": {},
   "outputs": [
    {
     "name": "stdout",
     "output_type": "stream",
     "text": [
      "Dostępne typy aktywności: education, recreational, social, charity, cooking, relaxation, busywork\n"
     ]
    },
    {
     "name": "stdin",
     "output_type": "stream",
     "text": [
      "Podaj typ aktywności:  education\n"
     ]
    },
    {
     "name": "stdout",
     "output_type": "stream",
     "text": [
      "Propozycja aktywności: Learn the NATO phonetic alphabet\n"
     ]
    }
   ],
   "source": [
    "import random\n",
    "import requests\n",
    "\n",
    "# Wyświetlenie dostępnych typów aktywności\n",
    "print(\"Dostępne typy aktywności: education, recreational, social, charity, cooking, relaxation, busywork\")\n",
    "activity_type = input(\"Podaj typ aktywności: \").strip().lower()\n",
    "\n",
    "# URL do API Bored API z parametrem typu aktywności\n",
    "url = f\"https://bored-api.appbrewery.com/filter?type={activity_type}\"\n",
    "\n",
    "# Wysłanie żądania GET do API\n",
    "response = requests.get(url)\n",
    "\n",
    "# Sprawdzenie statusu odpowiedzi\n",
    "if response.status_code == 200:\n",
    "    # Parsowanie danych JSON\n",
    "    data = response.json()\n",
    "    \n",
    "    # Pobranie i wyświetlenie sugestii dotyczącej aktywności\n",
    "    activity = random.choice(data).get('activity')\n",
    "    if activity:\n",
    "        print(f\"Propozycja aktywności: {activity}\")\n",
    "    else:\n",
    "        print(\"Nie znaleziono aktywności dla podanego typu.\")\n",
    "else:\n",
    "    print(f\"Błąd: Nie udało się pobrać danych (status code: {response.status_code})\")"
   ]
  },
  {
   "cell_type": "code",
   "execution_count": null,
   "id": "3841eded-ea50-4812-ba83-e94aa59ac633",
   "metadata": {},
   "outputs": [],
   "source": []
  }
 ],
 "metadata": {
  "kernelspec": {
   "display_name": "Python 3 (ipykernel)",
   "language": "python",
   "name": "python3"
  },
  "language_info": {
   "codemirror_mode": {
    "name": "ipython",
    "version": 3
   },
   "file_extension": ".py",
   "mimetype": "text/x-python",
   "name": "python",
   "nbconvert_exporter": "python",
   "pygments_lexer": "ipython3",
   "version": "3.12.4"
  }
 },
 "nbformat": 4,
 "nbformat_minor": 5
}
