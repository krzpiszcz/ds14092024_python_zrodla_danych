{
 "cells": [
  {
   "cell_type": "code",
   "execution_count": 7,
   "id": "8ed70183-361a-49c6-8e48-8eb3a55aae8c",
   "metadata": {},
   "outputs": [
    {
     "name": "stdin",
     "output_type": "stream",
     "text": [
      "Podaj kod waluty (np. USD, EUR):  SSD\n"
     ]
    },
    {
     "name": "stdout",
     "output_type": "stream",
     "text": [
      "Pewnie wybranych walut nie ma\n"
     ]
    }
   ],
   "source": [
    "import requests\n",
    "\n",
    "# Pobranie kodu waluty od użytkownika\n",
    "currency_symbol = input(\"Podaj kod waluty (np. USD, EUR): \")\n",
    "\n",
    "currency_list = list(currency_symbol.split(\",\"))\n",
    "\n",
    "# URL do API NBP\n",
    "url = \"http://api.nbp.pl/api/exchangerates/tables/a/\"\n",
    "\n",
    "# Wysłanie żądania GET do API\n",
    "response = requests.get(url)\n",
    "\n",
    "found = False\n",
    "if response.status_code == 200:\n",
    "    data = response.json()\n",
    "\n",
    "    rates = data[0]['rates']\n",
    "    #rates\n",
    "\n",
    "    for rate in rates:\n",
    "        #print(f\"{rate['code']}, mid: {rate['mid']}\")\n",
    "        if rate['code']  in currency_list:\n",
    "            currency = rate['currency']\n",
    "            mid = rate['mid']\n",
    "            print(f\"Kurs wymiany {rate['code']}, mid: {rate['mid']}\")\n",
    "            found = 'True'\n",
    "\n",
    "    if not found:\n",
    "        print(\"Pewnie wybranych walut nie ma\")\n",
    "\n",
    "# # Sprawdzenie statusu odpowiedzi\n",
    "# if response.status_code == 200:\n",
    "#     # Parsowanie danych JSON\n",
    "#     data = response.json()\n",
    "    \n",
    "#     # Pobranie tabeli kursów walut\n",
    "#     rates = data[0]['rates']\n",
    "    \n",
    "#     # Szukanie kursu podanej waluty\n",
    "#     found = False\n",
    "#     for rate in rates:\n",
    "#         if rate['code'] == currency_symbol.upper():\n",
    "#             currency = rate['currency']\n",
    "#             mid = rate['mid']\n",
    "#             print(f\"Kurs wymiany dla {currency} ({currency_symbol.upper()}): {mid} PLN\")\n",
    "#             found = True\n",
    "\n",
    "#     if not found:\n",
    "#         # Jeśli waluta nie została znaleziona\n",
    "#         print(f\"Waluta o kodzie '{currency_symbol}' nie została znaleziona.\")\n",
    "# else:\n",
    "#     print(f\"Błąd: Nie udało się pobrać danych (status code: {response.status_code})\")\n"
   ]
  },
  {
   "cell_type": "code",
   "execution_count": 3,
   "id": "644469c9-93fc-4eb8-b307-83d2901074cd",
   "metadata": {},
   "outputs": [
    {
     "name": "stdin",
     "output_type": "stream",
     "text": [
      "Podaj kod waluty (np. USD, EUR):  USD,EUR\n"
     ]
    },
    {
     "data": {
      "text/plain": [
       "['USD', 'EUR']"
      ]
     },
     "execution_count": 3,
     "metadata": {},
     "output_type": "execute_result"
    }
   ],
   "source": [
    "currency_symbol = input(\"Podaj kod waluty (np. USD, EUR): \")\n",
    "mylst = list(currency_symbol.split(\",\"))\n",
    "mylst"
   ]
  },
  {
   "cell_type": "code",
   "execution_count": 18,
   "id": "6b70060c-fd0d-4a17-ac7f-d773ded6045f",
   "metadata": {},
   "outputs": [
    {
     "data": {
      "text/plain": [
       "'dolar amerykański'"
      ]
     },
     "execution_count": 18,
     "metadata": {},
     "output_type": "execute_result"
    }
   ],
   "source": [
    "# Pobranie kodu waluty od użytkownika\n",
    "# URL do API NBP\n",
    "url = \"http://api.nbp.pl/api/exchangerates/tables/a/\"\n",
    "\n",
    "# Wysłanie żądania GET do API\n",
    "response = requests.get(url)\n",
    "\n",
    "\n",
    "data = response.json()\n",
    "mydata = data[0]['rates']\n",
    "mydata[1].get('currency')\n",
    "\n",
    "#myset = {'a':0,'b':3,'c':4}\n",
    "#myset.get('a')\n",
    "\n",
    "\n"
   ]
  },
  {
   "cell_type": "code",
   "execution_count": null,
   "id": "2ffefb12-62ec-48fa-9c3d-ec5a46e42eae",
   "metadata": {},
   "outputs": [],
   "source": []
  }
 ],
 "metadata": {
  "kernelspec": {
   "display_name": "Python 3 (ipykernel)",
   "language": "python",
   "name": "python3"
  },
  "language_info": {
   "codemirror_mode": {
    "name": "ipython",
    "version": 3
   },
   "file_extension": ".py",
   "mimetype": "text/x-python",
   "name": "python",
   "nbconvert_exporter": "python",
   "pygments_lexer": "ipython3",
   "version": "3.11.10"
  }
 },
 "nbformat": 4,
 "nbformat_minor": 5
}
