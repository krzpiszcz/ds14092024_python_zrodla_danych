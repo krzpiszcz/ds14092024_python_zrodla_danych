{
 "cells": [
  {
   "cell_type": "markdown",
   "id": "321a6c85-5c80-4b61-964c-baac72186314",
   "metadata": {},
   "source": [
    "### [{JSON} Placeholder](https://jsonplaceholder.typicode.com/)"
   ]
  },
  {
   "cell_type": "markdown",
   "id": "043b3ff2-4702-494d-8e8d-a2e132291d40",
   "metadata": {},
   "source": [
    "Napisz program w Pythonie, który utworzy nowy post na serwerze za pomocą API \"JSONPlaceholder\". Program powinien umożliwić użytkownikowi podanie tytułu i treści posta, a następnie wysłać te dane jako JSON do API **metodą POST** i wyświetlić odpowiedź serwera."
   ]
  },
  {
   "cell_type": "markdown",
   "id": "2100cf42-dd45-453a-b8c4-a87833b8ab14",
   "metadata": {},
   "source": [
    "1. Poproś użytkownika o podanie tytułu i treści posta."
   ]
  },
  {
   "cell_type": "code",
   "execution_count": 1,
   "id": "01971e78-8cd4-44dd-ae1b-565cfb28f398",
   "metadata": {},
   "outputs": [
    {
     "name": "stdin",
     "output_type": "stream",
     "text": [
      "Podaj tytuł posta:  Ala ma kota\n",
      "Podaj treść posta:  kot ma Alę\n"
     ]
    }
   ],
   "source": [
    "# Pobranie tytułu i treści posta od użytkownika\n",
    "title = input(\"Podaj tytuł posta: \")\n",
    "content = input(\"Podaj treść posta: \")"
   ]
  },
  {
   "cell_type": "markdown",
   "id": "eff48afa-0356-4b79-96ab-c1a230453d3e",
   "metadata": {},
   "source": [
    "2. Przygotuj dane w formacie JSON."
   ]
  },
  {
   "cell_type": "code",
   "execution_count": 2,
   "id": "0093d0de-5ba2-4170-85de-f8ace9898ea1",
   "metadata": {},
   "outputs": [],
   "source": [
    "# Dane do wysłania jako JSON\n",
    "dane = {\n",
    "    \"title\": title,\n",
    "    \"body\": content,\n",
    "    \"userId\": 1\n",
    "}"
   ]
  },
  {
   "cell_type": "markdown",
   "id": "72630f02-20eb-42a9-a5e6-f7aeb86ec1d7",
   "metadata": {},
   "source": [
    "3. Wyślij dane do API \"JSONPlaceholder\""
   ]
  },
  {
   "cell_type": "code",
   "execution_count": 3,
   "id": "4256fe60-4c0f-4af2-9d20-0a7798c21355",
   "metadata": {},
   "outputs": [],
   "source": [
    "import requests\n",
    "\n",
    "\n",
    "# URL do API JSONPlaceholder\n",
    "url = \"https://jsonplaceholder.typicode.com/posts\"\n",
    "\n",
    "# Wysłanie żądania POST do API z danymi JSON\n",
    "response = requests.post(url, json=dane)"
   ]
  },
  {
   "cell_type": "markdown",
   "id": "62bc0b64-a16a-471e-85f3-50c42088c596",
   "metadata": {},
   "source": [
    "4. Zparsuj otrzymane dane JSON oraz wyświetl odpowiedź serwera."
   ]
  },
  {
   "cell_type": "code",
   "execution_count": 4,
   "id": "7f0e1149-6d78-43ba-821d-cd81eef1937a",
   "metadata": {},
   "outputs": [
    {
     "name": "stdout",
     "output_type": "stream",
     "text": [
      "Utworzono nowy post:\n",
      "ID: 101\n",
      "Title: Ala ma kota\n",
      "Body: kot ma Alę\n"
     ]
    }
   ],
   "source": [
    "import json\n",
    "    \n",
    "# Sprawdzenie statusu odpowiedzi\n",
    "if response.status_code == 201:\n",
    "    # Parsowanie danych JSON\n",
    "    data = response.json()\n",
    "    \n",
    "    # Wyświetlenie odpowiedzi serwera\n",
    "    print(\"Utworzono nowy post:\")\n",
    "    print(f\"ID: {data['id']}\")\n",
    "    print(f\"Title: {data['title']}\")\n",
    "    print(f\"Body: {data['body']}\")\n",
    "else:\n",
    "    print(f\"Błąd: Nie udało się utworzyć posta (status code: {response.status_code})\")"
   ]
  },
  {
   "cell_type": "code",
   "execution_count": null,
   "id": "864d53b1-708f-4e57-9712-cd8cf58e5b2b",
   "metadata": {},
   "outputs": [],
   "source": []
  }
 ],
 "metadata": {
  "kernelspec": {
   "display_name": "Python 3 (ipykernel)",
   "language": "python",
   "name": "python3"
  },
  "language_info": {
   "codemirror_mode": {
    "name": "ipython",
    "version": 3
   },
   "file_extension": ".py",
   "mimetype": "text/x-python",
   "name": "python",
   "nbconvert_exporter": "python",
   "pygments_lexer": "ipython3",
   "version": "3.12.4"
  }
 },
 "nbformat": 4,
 "nbformat_minor": 5
}
