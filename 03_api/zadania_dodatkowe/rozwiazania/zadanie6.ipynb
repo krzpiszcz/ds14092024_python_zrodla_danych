{
 "cells": [
  {
   "cell_type": "markdown",
   "id": "3b0cd537-c075-4e0f-85bb-1d118f2cfd9f",
   "metadata": {},
   "source": [
    "### [API Cat Facts](https://catfact.ninja/)\n",
    "\n",
    "Napisz program w Pythonie, który pobierze losowy fakt o kotach z API Cat Facts. Program powinien:\n",
    "\n",
    "1. Wysłać żądanie GET do API Cat Facts.\n",
    "2. Otrzymać odpowiedź z API w formacie JSON.\n",
    "3. Wyświetlić otrzymany fakt użytkownikowi.\n",
    "4. Umożliwić użytkownikowi dodanie własnego faktu o kotach, który zostanie przesłany w formacie JSON do serwera (dla tego zadania wykorzystamy symulację zapytania POST do lokalnego serwera)."
   ]
  },
  {
   "cell_type": "code",
   "execution_count": 1,
   "id": "0060550d-d2cf-466d-88bd-57b093d1eb4c",
   "metadata": {},
   "outputs": [
    {
     "name": "stdout",
     "output_type": "stream",
     "text": [
      "Losowy fakt o kotach: There are approximately 100 breeds of cat.\n"
     ]
    },
    {
     "name": "stdin",
     "output_type": "stream",
     "text": [
      "Podaj swój fakt o kotach:  Kot są różne\n"
     ]
    },
    {
     "name": "stdout",
     "output_type": "stream",
     "text": [
      "Pomyślnie dodano fakt o kotach!\n",
      "Odpowiedź serwera: {'args': {}, 'data': '{\"fact\": \"Kot s\\\\u0105 r\\\\u00f3\\\\u017cne\"}', 'files': {}, 'form': {}, 'headers': {'Accept': '*/*', 'Accept-Encoding': 'gzip, deflate', 'Content-Length': '39', 'Content-Type': 'application/json', 'Host': 'httpbin.org', 'User-Agent': 'python-requests/2.32.3', 'X-Amzn-Trace-Id': 'Root=1-671e9742-174f8fe3354b963f3decacb5'}, 'json': {'fact': 'Kot są różne'}, 'origin': '81.95.195.83', 'url': 'https://httpbin.org/post'}\n"
     ]
    }
   ],
   "source": [
    "import requests\n",
    "import json\n",
    "\n",
    "# Funkcja do pobrania losowego faktu o kotach\n",
    "def pobierz_fakt_o_kotach():\n",
    "    url = \"https://catfact.ninja/fact\"\n",
    "    \n",
    "    response = requests.get(url)\n",
    "    if response.status_code == 200:\n",
    "        data = response.json()\n",
    "        return data['fact']\n",
    "    else:\n",
    "        print(f\"Błąd: Nie udało się pobrać danych (status code: {response.status_code})\")\n",
    "        return None\n",
    "\n",
    "# Funkcja do dodania własnego faktu o kotach (symulacja)\n",
    "def dodaj_fakt_o_kotach(fakt):\n",
    "    url = \"https://httpbin.org/post\"\n",
    "    headers = {\n",
    "        \"Content-Type\": \"application/json\"\n",
    "    }\n",
    "    data = {\n",
    "        \"fact\": fakt\n",
    "    }\n",
    "    \n",
    "    response = requests.post(url, headers=headers, json=data)\n",
    "    if response.status_code == 200:\n",
    "        print(\"Pomyślnie dodano fakt o kotach!\")\n",
    "        print(\"Odpowiedź serwera:\", response.json())\n",
    "    else:\n",
    "        print(f\"Błąd: Nie udało się dodać faktu (status code: {response.status_code})\")\n",
    "\n",
    "# Pobranie losowego faktu o kotach\n",
    "fakt = pobierz_fakt_o_kotach()\n",
    "if fakt:\n",
    "    print(f\"Losowy fakt o kotach: {fakt}\")\n",
    "\n",
    "# Umożliwienie użytkownikowi dodania własnego faktu o kotach\n",
    "nowy_fakt = input(\"Podaj swój fakt o kotach: \")\n",
    "dodaj_fakt_o_kotach(nowy_fakt)"
   ]
  },
  {
   "cell_type": "code",
   "execution_count": null,
   "id": "371948a4-a828-468a-9250-2304c5668139",
   "metadata": {},
   "outputs": [],
   "source": []
  }
 ],
 "metadata": {
  "kernelspec": {
   "display_name": "Python 3 (ipykernel)",
   "language": "python",
   "name": "python3"
  },
  "language_info": {
   "codemirror_mode": {
    "name": "ipython",
    "version": 3
   },
   "file_extension": ".py",
   "mimetype": "text/x-python",
   "name": "python",
   "nbconvert_exporter": "python",
   "pygments_lexer": "ipython3",
   "version": "3.12.4"
  }
 },
 "nbformat": 4,
 "nbformat_minor": 5
}
