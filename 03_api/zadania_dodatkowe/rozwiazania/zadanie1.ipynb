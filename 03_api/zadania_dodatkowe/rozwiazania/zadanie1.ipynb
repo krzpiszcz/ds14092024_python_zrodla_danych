{
 "cells": [
  {
   "cell_type": "markdown",
   "id": "ea49b1e3-cdbe-4d20-8b13-20557e1cefad",
   "metadata": {},
   "source": [
    "### [API Narodowego Banku Polskiego](https://api.nbp.pl/)\n",
    "\n",
    "Napisz program w Pythonie, który pobierze dane o kursach wymiany walut z API Narodowego Banku Polskiego pod adresem http://api.nbp.pl/api/exchangerates/tables/a/. Program powinien umożliwić użytkownikowi podanie kodu waluty (np. \"USD\", \"EUR\"), a następnie wyświetlić kurs wymiany tej waluty w stosunku do złotego polskiego (PLN)."
   ]
  },
  {
   "cell_type": "code",
   "execution_count": 1,
   "id": "15f887c8-2b60-4848-8329-8b4f5a7bb5eb",
   "metadata": {},
   "outputs": [
    {
     "name": "stdin",
     "output_type": "stream",
     "text": [
      "Podaj kod waluty (np. USD, EUR):  USD\n"
     ]
    },
    {
     "name": "stdout",
     "output_type": "stream",
     "text": [
      "Kurs wymiany dla dolar amerykański (USD): 4.0219 PLN\n"
     ]
    }
   ],
   "source": [
    "import requests\n",
    "\n",
    "# Pobranie kodu waluty od użytkownika\n",
    "currency_symbol = input(\"Podaj kod waluty (np. USD, EUR): \")\n",
    "\n",
    "# URL do API NBP\n",
    "url = \"http://api.nbp.pl/api/exchangerates/tables/a/\"\n",
    "\n",
    "# Wysłanie żądania GET do API\n",
    "response = requests.get(url)\n",
    "\n",
    "# Sprawdzenie statusu odpowiedzi\n",
    "if response.status_code == 200:\n",
    "    # Parsowanie danych JSON\n",
    "    data = response.json()\n",
    "    \n",
    "    # Pobranie tabeli kursów walut\n",
    "    rates = data[0]['rates']\n",
    "    \n",
    "    # Szukanie kursu podanej waluty\n",
    "    found = False\n",
    "    for rate in rates:\n",
    "        if rate['code'] == currency_symbol.upper():\n",
    "            currency = rate['currency']\n",
    "            mid = rate['mid']\n",
    "            print(f\"Kurs wymiany dla {currency} ({currency_symbol.upper()}): {mid} PLN\")\n",
    "            found = True\n",
    "\n",
    "    if not found:\n",
    "        # Jeśli waluta nie została znaleziona\n",
    "        print(f\"Waluta o kodzie '{currency_symbol}' nie została znaleziona.\")\n",
    "else:\n",
    "    print(f\"Błąd: Nie udało się pobrać danych (status code: {response.status_code})\")\n"
   ]
  },
  {
   "cell_type": "code",
   "execution_count": null,
   "id": "34871c43-8581-4626-a844-40abb76045eb",
   "metadata": {},
   "outputs": [],
   "source": []
  }
 ],
 "metadata": {
  "kernelspec": {
   "display_name": "Python 3 (ipykernel)",
   "language": "python",
   "name": "python3"
  },
  "language_info": {
   "codemirror_mode": {
    "name": "ipython",
    "version": 3
   },
   "file_extension": ".py",
   "mimetype": "text/x-python",
   "name": "python",
   "nbconvert_exporter": "python",
   "pygments_lexer": "ipython3",
   "version": "3.12.4"
  }
 },
 "nbformat": 4,
 "nbformat_minor": 5
}
