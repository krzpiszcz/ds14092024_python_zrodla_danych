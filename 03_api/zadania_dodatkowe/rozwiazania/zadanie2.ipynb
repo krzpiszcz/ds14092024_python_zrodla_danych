{
 "cells": [
  {
   "cell_type": "markdown",
   "id": "fde16f88-cc2b-4635-94d6-be23b57cbec4",
   "metadata": {},
   "source": [
    "### [Dog CEO's Dog API](https://dog.ceo/dog-api/)\n",
    "\n",
    "Napisz program w Pythonie, który pobierze losowy obrazek psa z publicznego API \"Dog CEO's Dog API\". Program powinien umożliwić użytkownikowi zapisanie tego obrazka na dysku pod nazwą podaną przez użytkownika."
   ]
  },
  {
   "cell_type": "code",
   "execution_count": 1,
   "id": "d3d0dc50-9780-465c-b1af-46f3d8d0c35c",
   "metadata": {},
   "outputs": [
    {
     "name": "stdin",
     "output_type": "stream",
     "text": [
      "Podaj nazwę pliku (np. pies.jpg):  pies.jpg\n"
     ]
    },
    {
     "name": "stdout",
     "output_type": "stream",
     "text": [
      "Obrazek został zapisany jako pies.jpg\n"
     ]
    }
   ],
   "source": [
    "import requests\n",
    "\n",
    "# Pobranie nazwy pliku od użytkownika\n",
    "filename = input(\"Podaj nazwę pliku (np. pies.jpg): \")\n",
    "\n",
    "# URL do API Dog CEO's Dog API\n",
    "url = \"https://dog.ceo/api/breeds/image/random\"\n",
    "\n",
    "# Wysłanie żądania GET do API\n",
    "response = requests.get(url)\n",
    "\n",
    "# Sprawdzenie statusu odpowiedzi\n",
    "if response.status_code == 200:\n",
    "    # Parsowanie danych JSON\n",
    "    data = response.json()\n",
    "    \n",
    "    # Pobranie URL obrazka\n",
    "    image_url = data['message']\n",
    "    \n",
    "    # Pobranie obrazka\n",
    "    image_response = requests.get(image_url)\n",
    "    \n",
    "    # Sprawdzenie statusu odpowiedzi dla obrazka\n",
    "    if image_response.status_code == 200:\n",
    "        # Zapisanie obrazka na dysku\n",
    "        with open(filename, 'wb') as file:\n",
    "            file.write(image_response.content)\n",
    "        print(f\"Obrazek został zapisany jako {filename}\")\n",
    "    else:\n",
    "        print(f\"Błąd: Nie udało się pobrać obrazka (status code: {image_response.status_code})\")\n",
    "else:\n",
    "    print(f\"Błąd: Nie udało się pobrać danych (status code: {response.status_code})\")"
   ]
  },
  {
   "cell_type": "code",
   "execution_count": null,
   "id": "62473c22-371d-485f-81f1-8f0a3bb5680a",
   "metadata": {},
   "outputs": [],
   "source": []
  }
 ],
 "metadata": {
  "kernelspec": {
   "display_name": "Python 3 (ipykernel)",
   "language": "python",
   "name": "python3"
  },
  "language_info": {
   "codemirror_mode": {
    "name": "ipython",
    "version": 3
   },
   "file_extension": ".py",
   "mimetype": "text/x-python",
   "name": "python",
   "nbconvert_exporter": "python",
   "pygments_lexer": "ipython3",
   "version": "3.12.4"
  }
 },
 "nbformat": 4,
 "nbformat_minor": 5
}
