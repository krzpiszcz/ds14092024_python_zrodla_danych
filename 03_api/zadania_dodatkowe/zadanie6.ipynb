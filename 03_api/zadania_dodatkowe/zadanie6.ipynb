{
 "cells": [
  {
   "cell_type": "markdown",
   "id": "3b0cd537-c075-4e0f-85bb-1d118f2cfd9f",
   "metadata": {},
   "source": [
    "### [API Cat Facts](https://catfact.ninja/)\n",
    "\n",
    "Napisz program w Pythonie, który pobierze losowy fakt o kotach z API Cat Facts. Program powinien:\n",
    "\n",
    "1. Wysłać żądanie GET do API Cat Facts.\n",
    "2. Otrzymać odpowiedź z API w formacie JSON.\n",
    "3. Wyświetlić otrzymany fakt użytkownikowi.\n",
    "4. Umożliwić użytkownikowi dodanie własnego faktu o kotach, który zostanie przesłany w formacie JSON do serwera (dla tego zadania wykorzystamy symulację zapytania POST do lokalnego serwera)."
   ]
  },
  {
   "cell_type": "code",
   "execution_count": null,
   "id": "0060550d-d2cf-466d-88bd-57b093d1eb4c",
   "metadata": {},
   "outputs": [],
   "source": []
  }
 ],
 "metadata": {
  "kernelspec": {
   "display_name": "Python 3 (ipykernel)",
   "language": "python",
   "name": "python3"
  },
  "language_info": {
   "codemirror_mode": {
    "name": "ipython",
    "version": 3
   },
   "file_extension": ".py",
   "mimetype": "text/x-python",
   "name": "python",
   "nbconvert_exporter": "python",
   "pygments_lexer": "ipython3",
   "version": "3.12.4"
  }
 },
 "nbformat": 4,
 "nbformat_minor": 5
}
