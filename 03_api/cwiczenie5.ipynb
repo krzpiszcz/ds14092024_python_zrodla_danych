{
 "cells": [
  {
   "cell_type": "markdown",
   "id": "4482b432-e50f-40ea-8190-71b0029af2ad",
   "metadata": {},
   "source": [
    "### [Yes Or No API](https://yesno.wtf)\n",
    "\n",
    "Napisz program, który wykorzystuje `Yes Or No API` do pobrania losowego obrazka w formacie gif a następnie wyświetla pobrany plik w Pythonie."
   ]
  },
  {
   "cell_type": "code",
   "execution_count": 4,
   "id": "2cde5b9c-625e-4e4e-824d-5800287286fe",
   "metadata": {},
   "outputs": [
    {
     "name": "stdin",
     "output_type": "stream",
     "text": [
      "Zadaj mi pytanie, a otrzymasz odpowiedź:  Czy ten program działa?\n"
     ]
    },
    {
     "data": {
      "text/html": [
       "<img src=\"https://yesno.wtf/assets/no/3-80a6f5b5d6684674bcfeda34accca4e1.gif\"/>"
      ],
      "text/plain": [
       "<IPython.core.display.Image object>"
      ]
     },
     "metadata": {},
     "output_type": "display_data"
    }
   ],
   "source": [
    "import requests\n",
    "from IPython.display import Image as IPythonImage, display\n",
    "\n",
    "input(\"Zadaj mi pytanie, a otrzymasz odpowiedź: \")\n",
    "\n",
    "url = 'https://yesno.wtf/api'\n",
    "res = requests.get(url)\n",
    "data = res.json()\n",
    "\n",
    "img_link = data['image']\n",
    "display(IPythonImage(url=img_link))"
   ]
  },
  {
   "cell_type": "code",
   "execution_count": null,
   "id": "22d60e1a-a39c-4885-8316-f5520e099f33",
   "metadata": {},
   "outputs": [],
   "source": []
  }
 ],
 "metadata": {
  "kernelspec": {
   "display_name": "Python 3 (ipykernel)",
   "language": "python",
   "name": "python3"
  },
  "language_info": {
   "codemirror_mode": {
    "name": "ipython",
    "version": 3
   },
   "file_extension": ".py",
   "mimetype": "text/x-python",
   "name": "python",
   "nbconvert_exporter": "python",
   "pygments_lexer": "ipython3",
   "version": "3.12.4"
  }
 },
 "nbformat": 4,
 "nbformat_minor": 5
}
