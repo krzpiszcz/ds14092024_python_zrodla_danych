{
 "cells": [
  {
   "cell_type": "markdown",
   "id": "2920b910-1712-4429-a64f-cc22f9c7b44c",
   "metadata": {},
   "source": [
    "### [API Narodowego Banku Polskiego](https://api.nbp.pl/)\n",
    "\n",
    "Napisz program w Pythonie, który pobierze dane o kursach wymiany walut z API Narodowego Banku Polskiego pod adresem http://api.nbp.pl/api/exchangerates/tables/a/. Program powinien wyświetlić listę walut oraz ich kursy w stosunku do złotego polskiego (PLN)."
   ]
  },
  {
   "cell_type": "code",
   "execution_count": 2,
   "id": "60bb5e40-5a0f-4c49-860c-b6effd5df57a",
   "metadata": {},
   "outputs": [
    {
     "data": {
      "text/plain": [
       "[{'table': 'A',\n",
       "  'no': '209/A/NBP/2024',\n",
       "  'effectiveDate': '2024-10-25',\n",
       "  'rates': [{'currency': 'bat (Tajlandia)', 'code': 'THB', 'mid': 0.119},\n",
       "   {'currency': 'dolar amerykański', 'code': 'USD', 'mid': 4.0219},\n",
       "   {'currency': 'dolar australijski', 'code': 'AUD', 'mid': 2.6657},\n",
       "   {'currency': 'dolar Hongkongu', 'code': 'HKD', 'mid': 0.5176},\n",
       "   {'currency': 'dolar kanadyjski', 'code': 'CAD', 'mid': 2.9042},\n",
       "   {'currency': 'dolar nowozelandzki', 'code': 'NZD', 'mid': 2.4124},\n",
       "   {'currency': 'dolar singapurski', 'code': 'SGD', 'mid': 3.0474},\n",
       "   {'currency': 'euro', 'code': 'EUR', 'mid': 4.3533},\n",
       "   {'currency': 'forint (Węgry)', 'code': 'HUF', 'mid': 0.010771},\n",
       "   {'currency': 'frank szwajcarski', 'code': 'CHF', 'mid': 4.6403},\n",
       "   {'currency': 'funt szterling', 'code': 'GBP', 'mid': 5.2188},\n",
       "   {'currency': 'hrywna (Ukraina)', 'code': 'UAH', 'mid': 0.0974},\n",
       "   {'currency': 'jen (Japonia)', 'code': 'JPY', 'mid': 0.026468},\n",
       "   {'currency': 'korona czeska', 'code': 'CZK', 'mid': 0.1725},\n",
       "   {'currency': 'korona duńska', 'code': 'DKK', 'mid': 0.5835},\n",
       "   {'currency': 'korona islandzka', 'code': 'ISK', 'mid': 0.029276},\n",
       "   {'currency': 'korona norweska', 'code': 'NOK', 'mid': 0.3679},\n",
       "   {'currency': 'korona szwedzka', 'code': 'SEK', 'mid': 0.3802},\n",
       "   {'currency': 'lej rumuński', 'code': 'RON', 'mid': 0.8753},\n",
       "   {'currency': 'lew (Bułgaria)', 'code': 'BGN', 'mid': 2.2258},\n",
       "   {'currency': 'lira turecka', 'code': 'TRY', 'mid': 0.1178},\n",
       "   {'currency': 'nowy izraelski szekel', 'code': 'ILS', 'mid': 1.0628},\n",
       "   {'currency': 'peso chilijskie', 'code': 'CLP', 'mid': 0.004249},\n",
       "   {'currency': 'peso filipińskie', 'code': 'PHP', 'mid': 0.0689},\n",
       "   {'currency': 'peso meksykańskie', 'code': 'MXN', 'mid': 0.2031},\n",
       "   {'currency': 'rand (Republika Południowej Afryki)',\n",
       "    'code': 'ZAR',\n",
       "    'mid': 0.2276},\n",
       "   {'currency': 'real (Brazylia)', 'code': 'BRL', 'mid': 0.7097},\n",
       "   {'currency': 'ringgit (Malezja)', 'code': 'MYR', 'mid': 0.9267},\n",
       "   {'currency': 'rupia indonezyjska', 'code': 'IDR', 'mid': 0.00025715},\n",
       "   {'currency': 'rupia indyjska', 'code': 'INR', 'mid': 0.047842},\n",
       "   {'currency': 'won południowokoreański', 'code': 'KRW', 'mid': 0.002895},\n",
       "   {'currency': 'yuan renminbi (Chiny)', 'code': 'CNY', 'mid': 0.5645},\n",
       "   {'currency': 'SDR (MFW)', 'code': 'XDR', 'mid': 5.3592}]}]"
      ]
     },
     "execution_count": 2,
     "metadata": {},
     "output_type": "execute_result"
    }
   ],
   "source": [
    "import json\n",
    "import requests\n",
    "\n",
    "res = requests.get(\"http://api.nbp.pl/api/exchangerates/tables/a/\")\n",
    "data = json.loads(res.text)\n",
    "data"
   ]
  },
  {
   "cell_type": "code",
   "execution_count": 3,
   "id": "37b1f6e8-66d6-4709-8f2e-73072b0390b4",
   "metadata": {},
   "outputs": [
    {
     "data": {
      "text/plain": [
       "[{'table': 'A',\n",
       "  'no': '209/A/NBP/2024',\n",
       "  'effectiveDate': '2024-10-25',\n",
       "  'rates': [{'currency': 'bat (Tajlandia)', 'code': 'THB', 'mid': 0.119},\n",
       "   {'currency': 'dolar amerykański', 'code': 'USD', 'mid': 4.0219},\n",
       "   {'currency': 'dolar australijski', 'code': 'AUD', 'mid': 2.6657},\n",
       "   {'currency': 'dolar Hongkongu', 'code': 'HKD', 'mid': 0.5176},\n",
       "   {'currency': 'dolar kanadyjski', 'code': 'CAD', 'mid': 2.9042},\n",
       "   {'currency': 'dolar nowozelandzki', 'code': 'NZD', 'mid': 2.4124},\n",
       "   {'currency': 'dolar singapurski', 'code': 'SGD', 'mid': 3.0474},\n",
       "   {'currency': 'euro', 'code': 'EUR', 'mid': 4.3533},\n",
       "   {'currency': 'forint (Węgry)', 'code': 'HUF', 'mid': 0.010771},\n",
       "   {'currency': 'frank szwajcarski', 'code': 'CHF', 'mid': 4.6403},\n",
       "   {'currency': 'funt szterling', 'code': 'GBP', 'mid': 5.2188},\n",
       "   {'currency': 'hrywna (Ukraina)', 'code': 'UAH', 'mid': 0.0974},\n",
       "   {'currency': 'jen (Japonia)', 'code': 'JPY', 'mid': 0.026468},\n",
       "   {'currency': 'korona czeska', 'code': 'CZK', 'mid': 0.1725},\n",
       "   {'currency': 'korona duńska', 'code': 'DKK', 'mid': 0.5835},\n",
       "   {'currency': 'korona islandzka', 'code': 'ISK', 'mid': 0.029276},\n",
       "   {'currency': 'korona norweska', 'code': 'NOK', 'mid': 0.3679},\n",
       "   {'currency': 'korona szwedzka', 'code': 'SEK', 'mid': 0.3802},\n",
       "   {'currency': 'lej rumuński', 'code': 'RON', 'mid': 0.8753},\n",
       "   {'currency': 'lew (Bułgaria)', 'code': 'BGN', 'mid': 2.2258},\n",
       "   {'currency': 'lira turecka', 'code': 'TRY', 'mid': 0.1178},\n",
       "   {'currency': 'nowy izraelski szekel', 'code': 'ILS', 'mid': 1.0628},\n",
       "   {'currency': 'peso chilijskie', 'code': 'CLP', 'mid': 0.004249},\n",
       "   {'currency': 'peso filipińskie', 'code': 'PHP', 'mid': 0.0689},\n",
       "   {'currency': 'peso meksykańskie', 'code': 'MXN', 'mid': 0.2031},\n",
       "   {'currency': 'rand (Republika Południowej Afryki)',\n",
       "    'code': 'ZAR',\n",
       "    'mid': 0.2276},\n",
       "   {'currency': 'real (Brazylia)', 'code': 'BRL', 'mid': 0.7097},\n",
       "   {'currency': 'ringgit (Malezja)', 'code': 'MYR', 'mid': 0.9267},\n",
       "   {'currency': 'rupia indonezyjska', 'code': 'IDR', 'mid': 0.00025715},\n",
       "   {'currency': 'rupia indyjska', 'code': 'INR', 'mid': 0.047842},\n",
       "   {'currency': 'won południowokoreański', 'code': 'KRW', 'mid': 0.002895},\n",
       "   {'currency': 'yuan renminbi (Chiny)', 'code': 'CNY', 'mid': 0.5645},\n",
       "   {'currency': 'SDR (MFW)', 'code': 'XDR', 'mid': 5.3592}]}]"
      ]
     },
     "execution_count": 3,
     "metadata": {},
     "output_type": "execute_result"
    }
   ],
   "source": [
    "import requests\n",
    "\n",
    "res = requests.get(\"http://api.nbp.pl/api/exchangerates/tables/a/\")\n",
    "data = res.json()\n",
    "data"
   ]
  },
  {
   "cell_type": "code",
   "execution_count": 8,
   "id": "58ce2bd5-368c-45dd-8368-8cf3fed2c4ee",
   "metadata": {},
   "outputs": [
    {
     "name": "stdout",
     "output_type": "stream",
     "text": [
      "bat (Tajlandia) (THB) - 0.119 zl\n",
      "dolar amerykański (USD) - 4.0219 zl\n",
      "dolar australijski (AUD) - 2.6657 zl\n",
      "dolar Hongkongu (HKD) - 0.5176 zl\n",
      "dolar kanadyjski (CAD) - 2.9042 zl\n",
      "dolar nowozelandzki (NZD) - 2.4124 zl\n",
      "dolar singapurski (SGD) - 3.0474 zl\n",
      "euro (EUR) - 4.3533 zl\n",
      "forint (Węgry) (HUF) - 0.010771 zl\n",
      "frank szwajcarski (CHF) - 4.6403 zl\n",
      "funt szterling (GBP) - 5.2188 zl\n",
      "hrywna (Ukraina) (UAH) - 0.0974 zl\n",
      "jen (Japonia) (JPY) - 0.026468 zl\n",
      "korona czeska (CZK) - 0.1725 zl\n",
      "korona duńska (DKK) - 0.5835 zl\n",
      "korona islandzka (ISK) - 0.029276 zl\n",
      "korona norweska (NOK) - 0.3679 zl\n",
      "korona szwedzka (SEK) - 0.3802 zl\n",
      "lej rumuński (RON) - 0.8753 zl\n",
      "lew (Bułgaria) (BGN) - 2.2258 zl\n",
      "lira turecka (TRY) - 0.1178 zl\n",
      "nowy izraelski szekel (ILS) - 1.0628 zl\n",
      "peso chilijskie (CLP) - 0.004249 zl\n",
      "peso filipińskie (PHP) - 0.0689 zl\n",
      "peso meksykańskie (MXN) - 0.2031 zl\n",
      "rand (Republika Południowej Afryki) (ZAR) - 0.2276 zl\n",
      "real (Brazylia) (BRL) - 0.7097 zl\n",
      "ringgit (Malezja) (MYR) - 0.9267 zl\n",
      "rupia indonezyjska (IDR) - 0.00025715 zl\n",
      "rupia indyjska (INR) - 0.047842 zl\n",
      "won południowokoreański (KRW) - 0.002895 zl\n",
      "yuan renminbi (Chiny) (CNY) - 0.5645 zl\n",
      "SDR (MFW) (XDR) - 5.3592 zl\n"
     ]
    }
   ],
   "source": [
    "for cur in data[0]['rates']:\n",
    "    print(f\"{cur['currency']} ({cur['code']}) - {cur['mid']} zl\")"
   ]
  }
 ],
 "metadata": {
  "kernelspec": {
   "display_name": "Python 3 (ipykernel)",
   "language": "python",
   "name": "python3"
  },
  "language_info": {
   "codemirror_mode": {
    "name": "ipython",
    "version": 3
   },
   "file_extension": ".py",
   "mimetype": "text/x-python",
   "name": "python",
   "nbconvert_exporter": "python",
   "pygments_lexer": "ipython3",
   "version": "3.12.4"
  }
 },
 "nbformat": 4,
 "nbformat_minor": 5
}
