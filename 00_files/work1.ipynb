{
 "cells": [
  {
   "cell_type": "code",
   "execution_count": 7,
   "id": "b4aa0176-a7ed-4128-85b8-ad1f19a5911d",
   "metadata": {},
   "outputs": [
    {
     "data": {
      "text/plain": [
       "'To jest przykładowy plik tekstowy.\\nZawiera kilka wierszy tekstu.\\nKażdy wiersz może mieć różną długość.'"
      ]
     },
     "execution_count": 7,
     "metadata": {},
     "output_type": "execute_result"
    }
   ],
   "source": [
    "with open(\"text.txt\", encoding=\"utf-8\") as file:\n",
    "    fileobj = file.read()\n",
    "\n",
    "fileobj"
   ]
  },
  {
   "cell_type": "code",
   "execution_count": 8,
   "id": "e16c489a-8636-469e-bdcd-f16271557121",
   "metadata": {},
   "outputs": [
    {
     "data": {
      "text/plain": [
       "'testowyemail@kogos.com'"
      ]
     },
     "execution_count": 8,
     "metadata": {},
     "output_type": "execute_result"
    }
   ],
   "source": [
    "email = \"testowyemail@kogos.com\"\n",
    "email"
   ]
  },
  {
   "cell_type": "code",
   "execution_count": 9,
   "id": "5919181d-c501-44dd-a660-9ff9e02ee4b1",
   "metadata": {},
   "outputs": [
    {
     "name": "stdout",
     "output_type": "stream",
     "text": [
      "Valid\n"
     ]
    }
   ],
   "source": [
    "if \"@\" in email:\n",
    "    print(\"Valid\")\n",
    "else:\n",
    "    print(\"InValid\")"
   ]
  },
  {
   "cell_type": "code",
   "execution_count": 12,
   "id": "b70662c9-7b36-4869-96ac-42a3a6cb34ce",
   "metadata": {},
   "outputs": [],
   "source": [
    "username, domain = email.split(\"@\")"
   ]
  },
  {
   "cell_type": "code",
   "execution_count": 13,
   "id": "2f87155c-470f-4d6c-80d4-80a3c38f3d63",
   "metadata": {},
   "outputs": [
    {
     "data": {
      "text/plain": [
       "'testowyemail'"
      ]
     },
     "execution_count": 13,
     "metadata": {},
     "output_type": "execute_result"
    }
   ],
   "source": [
    "username"
   ]
  },
  {
   "cell_type": "code",
   "execution_count": 14,
   "id": "c0b22da8-6c6a-4f6d-851e-ecc7efca6102",
   "metadata": {},
   "outputs": [
    {
     "data": {
      "text/plain": [
       "'kogos.com'"
      ]
     },
     "execution_count": 14,
     "metadata": {},
     "output_type": "execute_result"
    }
   ],
   "source": [
    "domain"
   ]
  },
  {
   "cell_type": "code",
   "execution_count": 15,
   "id": "04eebbbc-52bc-46f1-a0a0-d5b89ef131e6",
   "metadata": {},
   "outputs": [],
   "source": [
    "import re #regexp"
   ]
  },
  {
   "cell_type": "code",
   "execution_count": 44,
   "id": "5bb67370-0aaf-4dbc-b908-f2f9524927c1",
   "metadata": {},
   "outputs": [
    {
     "name": "stdout",
     "output_type": "stream",
     "text": [
      "<re.Match object; span=(0, 1), match='@'>\n"
     ]
    }
   ],
   "source": [
    "text = \"My phone number is 123-456-7890\"\n",
    "email = \"@testowyemail@kogos.com\"\n",
    "pattern = r\"\\d{3}-\\d{3}-\\d{4}\"\n",
    "patterne = r\"@\"\n",
    "\n",
    "result = re.match(patterne, email)\n",
    "#result = re.findall(patterne, email)\n",
    "print(result)"
   ]
  },
  {
   "cell_type": "code",
   "execution_count": 46,
   "id": "38621ee4-7463-4521-943e-f44a7d74ba3c",
   "metadata": {},
   "outputs": [
    {
     "name": "stdout",
     "output_type": "stream",
     "text": [
      "['@']\n"
     ]
    }
   ],
   "source": [
    "email = \"testowyemail@kogos.com\"\n",
    "link_pattern = r'@'\n",
    "result = re.findall(link_pattern, email)\n",
    "\n",
    "print(result)"
   ]
  },
  {
   "cell_type": "code",
   "execution_count": null,
   "id": "d4566026-ab8e-4b4e-a319-8a1601147100",
   "metadata": {},
   "outputs": [],
   "source": []
  }
 ],
 "metadata": {
  "kernelspec": {
   "display_name": "Python 3 (ipykernel)",
   "language": "python",
   "name": "python3"
  },
  "language_info": {
   "codemirror_mode": {
    "name": "ipython",
    "version": 3
   },
   "file_extension": ".py",
   "mimetype": "text/x-python",
   "name": "python",
   "nbconvert_exporter": "python",
   "pygments_lexer": "ipython3",
   "version": "3.11.10"
  }
 },
 "nbformat": 4,
 "nbformat_minor": 5
}
