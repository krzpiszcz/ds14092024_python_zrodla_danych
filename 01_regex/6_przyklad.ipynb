{
 "cells": [
  {
   "cell_type": "markdown",
   "id": "52a9aeed-8955-4ae8-a660-0d1b703c14f6",
   "metadata": {},
   "source": [
    "### Przykład V: Analiza ocen z testów\n",
    "\n",
    "#### Opis:\n",
    "\n",
    "Plik `oceny.csv` zawiera dane dotyczące ocen z testów. Twoim zadaniem jest napisać skrypt w Pythonie, który otworzy ten plik, odczyta jego zawartość i przeprowadzi prostą analizę za pomocą wyrażeń regularnych:\n",
    "\n",
    "1. Wyciągnij wszystkie oceny\n",
    "2. Znajdź średnią ocen\n",
    "3. Znajdź wszystkie oceny powyżej 80"
   ]
  },
  {
   "cell_type": "markdown",
   "id": "d034fd39-3b03-4523-bab4-4da21afa3c34",
   "metadata": {},
   "source": [
    "#### 1. Wyciągnięcie wszystkich ocen"
   ]
  },
  {
   "cell_type": "code",
   "execution_count": 2,
   "id": "5783f5a7-a3af-427c-9759-bcece657f9fb",
   "metadata": {},
   "outputs": [
    {
     "name": "stdout",
     "output_type": "stream",
     "text": [
      "Oceny: ['90', '85', '75', '95', '80', '70']\n"
     ]
    }
   ],
   "source": [
    "import re\n",
    "\n",
    "with open('oceny.csv', 'r', encoding='utf-8') as file:\n",
    "    content = file.read()\n",
    "\n",
    "grade_pattern = r'\\b\\d{2}\\b'\n",
    "grades = re.findall(grade_pattern, content)\n",
    "\n",
    "print(\"Oceny:\", grades)"
   ]
  },
  {
   "cell_type": "markdown",
   "id": "a7ed12d3-be60-4681-8310-74ddca25ffa8",
   "metadata": {},
   "source": [
    "#### 2. Znalezienie średniej ocen"
   ]
  },
  {
   "cell_type": "code",
   "execution_count": 4,
   "id": "5b6f390a-cfb2-469b-9e52-9e4f2130ff1d",
   "metadata": {},
   "outputs": [
    {
     "name": "stdout",
     "output_type": "stream",
     "text": [
      "Średnia ocen: 82.5\n"
     ]
    }
   ],
   "source": [
    "import re\n",
    "\n",
    "with open('oceny.csv', 'r', encoding='utf-8') as file:\n",
    "    content = file.read()\n",
    "\n",
    "grade_pattern = r'\\b\\d{2}\\b'\n",
    "grades = [int(grade) for grade in re.findall(grade_pattern, content)]\n",
    "\n",
    "average_grade = sum(grades) / len(grades)\n",
    "\n",
    "print(\"Średnia ocen:\", average_grade)"
   ]
  },
  {
   "cell_type": "markdown",
   "id": "c309eba8-650d-4c00-973e-50841862c09e",
   "metadata": {},
   "source": [
    "#### 3: Znalezienie wszystkich ocen powyżej 80"
   ]
  },
  {
   "cell_type": "code",
   "execution_count": 5,
   "id": "44f0bce9-a01e-4f1f-adad-3b907c081d47",
   "metadata": {},
   "outputs": [
    {
     "name": "stdout",
     "output_type": "stream",
     "text": [
      "Oceny powyżej 80: ['90', '85', '95']\n"
     ]
    }
   ],
   "source": [
    "import re\n",
    "\n",
    "with open('oceny.csv', 'r', encoding='utf-8') as file:\n",
    "    content = file.read()\n",
    "\n",
    "grade_pattern = r'\\b\\d{2}\\b'\n",
    "grades = re.findall(grade_pattern, content)\n",
    "\n",
    "grades_above_80 = [grade for grade in grades if int(grade) > 80]\n",
    "\n",
    "print(\"Oceny powyżej 80:\", grades_above_80)"
   ]
  },
  {
   "cell_type": "markdown",
   "id": "f62f8951-978f-4bc0-86b2-11251d6cec6a",
   "metadata": {},
   "source": [
    "<u>Notatka</u>\n",
    "\n",
    "W przypadku danych ustrukturyzowanych stosowanie wyrażeń regularnych do parsowania jest przeważnie zbędne. W oparciu o samą struktrę danych najczęściej jest już dość łatwo wyciągnąć odpowiednie dane. W tym przypadku wystarczyłoby wyciągnąć dane z ostatniej kolumny csv. Ale jeżeli pobierane dane są tekstowe, to wyrażenia regularne mogą oczywiście znaleźć zastosowanie w postaci odpowiedniego filtrowania i/lub walidownia tych danych. "
   ]
  }
 ],
 "metadata": {
  "kernelspec": {
   "display_name": "Python 3 (ipykernel)",
   "language": "python",
   "name": "python3"
  },
  "language_info": {
   "codemirror_mode": {
    "name": "ipython",
    "version": 3
   },
   "file_extension": ".py",
   "mimetype": "text/x-python",
   "name": "python",
   "nbconvert_exporter": "python",
   "pygments_lexer": "ipython3",
   "version": "3.12.4"
  }
 },
 "nbformat": 4,
 "nbformat_minor": 5
}
