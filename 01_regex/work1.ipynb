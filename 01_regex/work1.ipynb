{
 "cells": [
  {
   "cell_type": "code",
   "execution_count": null,
   "id": "c8b08d34-2494-461e-9e4c-7f5386f60167",
   "metadata": {},
   "outputs": [],
   "source": [
    "import re\n",
    "\n",
    "with open('oceny.csv', 'r', encoding='utf-8') as file:\n",
    "    content = file.read()\n",
    "\n",
    "grade_pattern = r'\\b\\d{2}\\b'\n",
    "grades = re.findall(grade_pattern, content)\n",
    "\n",
    "grades_above_80 = [grade for grade in grades if int(grade) > 80]\n",
    "\n",
    "print(\"Oceny powyżej 80:\", grades_above_80)"
   ]
  },
  {
   "cell_type": "code",
   "execution_count": 1,
   "id": "744b4a5c-b206-4998-9a05-91f8c0e88d94",
   "metadata": {},
   "outputs": [],
   "source": [
    "import re"
   ]
  },
  {
   "cell_type": "code",
   "execution_count": 12,
   "id": "c2699072-6d68-4082-a392-b8948b54eb8f",
   "metadata": {},
   "outputs": [
    {
     "data": {
      "text/plain": [
       "'Numer,Imię,Nazwisko,Ocena\\n1,Jan,Kowalski,90\\n2,Anna,Nowak,85\\n3,Marcin,Wójcik,75\\n4,Monika,Kowalczyk,95\\n5,Piotr,Nowicki,80\\n6,Katarzyna,Woźniak,70'"
      ]
     },
     "execution_count": 12,
     "metadata": {},
     "output_type": "execute_result"
    }
   ],
   "source": [
    "with open(\"oceny.csv\", encoding=\"utf-8\") as file:\n",
    "    objfile = file.read()\n",
    "objfile"
   ]
  },
  {
   "cell_type": "code",
   "execution_count": 13,
   "id": "d75da765-1d50-4956-ac69-89d85ae74e84",
   "metadata": {},
   "outputs": [
    {
     "data": {
      "text/plain": [
       "['90', '85', '75', '95', '80', '70']"
      ]
     },
     "execution_count": 13,
     "metadata": {},
     "output_type": "execute_result"
    }
   ],
   "source": [
    "grade_pattern = r'\\d{2}'\n",
    "grades = re.findall(grade_pattern, objfile)\n",
    "grades"
   ]
  },
  {
   "cell_type": "code",
   "execution_count": 16,
   "id": "2b64d29d-0fc4-49bc-b3e4-178f55697778",
   "metadata": {},
   "outputs": [
    {
     "data": {
      "text/plain": [
       "['90', '85', '95']"
      ]
     },
     "execution_count": 16,
     "metadata": {},
     "output_type": "execute_result"
    }
   ],
   "source": [
    "grades_above_80 = [x for x in grades if int(x) > 80]\n",
    "grades_above_80"
   ]
  },
  {
   "cell_type": "code",
   "execution_count": null,
   "id": "6c0d7f95-ba2a-4e15-9fb6-af593c010967",
   "metadata": {},
   "outputs": [],
   "source": []
  }
 ],
 "metadata": {
  "kernelspec": {
   "display_name": "Python 3 (ipykernel)",
   "language": "python",
   "name": "python3"
  },
  "language_info": {
   "codemirror_mode": {
    "name": "ipython",
    "version": 3
   },
   "file_extension": ".py",
   "mimetype": "text/x-python",
   "name": "python",
   "nbconvert_exporter": "python",
   "pygments_lexer": "ipython3",
   "version": "3.11.10"
  }
 },
 "nbformat": 4,
 "nbformat_minor": 5
}
