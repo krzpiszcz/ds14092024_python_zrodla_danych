{
 "cells": [
  {
   "cell_type": "markdown",
   "id": "c58960ea-6f9b-4beb-b299-3532c1384683",
   "metadata": {},
   "source": [
    "### Przykład II"
   ]
  },
  {
   "cell_type": "markdown",
   "id": "8496119e-5982-44ac-b297-88a258e99fee",
   "metadata": {},
   "source": [
    "**Cel:** \\\n",
    "Wykorzystaj różne funkcje z biblioteki re, takie jak `re.match`, `re.search`, `re.findall`, `re.finditer`, `re.split`, `re.sub` oraz `re.compile` do podstawowych operacji na podanym tekście."
   ]
  },
  {
   "cell_type": "code",
   "execution_count": 5,
   "id": "66d30ec8-a730-4fa0-ac42-e192e6d7e9c6",
   "metadata": {},
   "outputs": [],
   "source": [
    "text = \"\"\"Alice has 2 cats and 3 dogs. Her email is alice@example.com. Bob's email is bob123@example.org. \n",
    "They love to visit https://example.com and http://example.org. Alice's phone number is 123-456-7890.\"\"\""
   ]
  },
  {
   "cell_type": "code",
   "execution_count": 6,
   "id": "5c4723b0-218a-4ced-b2cd-0f9383e6d6ad",
   "metadata": {},
   "outputs": [],
   "source": [
    "import re"
   ]
  },
  {
   "cell_type": "markdown",
   "id": "4bcb662e-129b-4f0c-bf44-dbd5f9c675e4",
   "metadata": {},
   "source": [
    "#### 1. Sprawdź, czy tekst zaczyna się od słowa \"Alice\""
   ]
  },
  {
   "cell_type": "code",
   "execution_count": 7,
   "id": "f027e834-715b-49bd-8e18-c716a7e605ad",
   "metadata": {},
   "outputs": [
    {
     "name": "stdout",
     "output_type": "stream",
     "text": [
      "Zadanie 1: <re.Match object; span=(0, 5), match='Alice'>\n"
     ]
    }
   ],
   "source": [
    "pattern = r'Alice'\n",
    "result = re.match(pattern, text)\n",
    "print(\"Zadanie 1:\", result)"
   ]
  },
  {
   "cell_type": "markdown",
   "id": "77b8aa10-fef1-4a04-a11a-46728b0ce7f0",
   "metadata": {},
   "source": [
    "#### 2. Znajdź pierwsze wystąpienie liczby w tekście"
   ]
  },
  {
   "cell_type": "code",
   "execution_count": 8,
   "id": "c64e8b40-cd84-4683-9428-1f5ac5c1375c",
   "metadata": {},
   "outputs": [
    {
     "name": "stdout",
     "output_type": "stream",
     "text": [
      "Zadanie 2: 2\n"
     ]
    }
   ],
   "source": [
    "pattern = r'\\d'\n",
    "result = re.search(pattern, text)\n",
    "print(\"Zadanie 2:\", result.group() if result else \"Nie znaleziono\")"
   ]
  },
  {
   "cell_type": "markdown",
   "id": "09e2e96f-7d75-4e17-8a5a-b37cc68afe96",
   "metadata": {},
   "source": [
    "#### 3. Znajdź wszystkie słowa w tekście, które zaczynają się na literę \"B\""
   ]
  },
  {
   "cell_type": "code",
   "execution_count": 9,
   "id": "2de7758d-6e7e-40a9-8756-4cbee0d16c70",
   "metadata": {},
   "outputs": [
    {
     "name": "stdout",
     "output_type": "stream",
     "text": [
      "Zadanie 3: ['Bob']\n"
     ]
    }
   ],
   "source": [
    "pattern = r'\\bB\\w*'\n",
    "result = re.findall(pattern, text)\n",
    "print(\"Zadanie 3:\", result)"
   ]
  },
  {
   "cell_type": "markdown",
   "id": "ec5d69bc-1dd8-4240-b055-080b64682104",
   "metadata": {},
   "source": [
    "#### 4. Znajdź wszystkie adresy URL w tekście i zwróć ich pozycje"
   ]
  },
  {
   "cell_type": "code",
   "execution_count": 10,
   "id": "5b127d3a-23f6-4839-9ed5-3822d0042f77",
   "metadata": {},
   "outputs": [
    {
     "name": "stdout",
     "output_type": "stream",
     "text": [
      "Zadanie 4:\n",
      "(116, 135) https://example.com\n",
      "(140, 159) http://example.org.\n"
     ]
    }
   ],
   "source": [
    "results = re.finditer(r'https?://\\S+', text)\n",
    "print(\"Zadanie 4:\")\n",
    "for result in results:\n",
    "    print(result.span(), result.group())"
   ]
  },
  {
   "cell_type": "markdown",
   "id": "e3540b62-e30f-4dbd-8780-f9dccc81d1b2",
   "metadata": {},
   "source": [
    "#### 5. Podziel tekst na słowa"
   ]
  },
  {
   "cell_type": "code",
   "execution_count": 11,
   "id": "bf46bb50-e7d4-4b25-93bb-c98fdfbe9ebb",
   "metadata": {},
   "outputs": [
    {
     "name": "stdout",
     "output_type": "stream",
     "text": [
      "Zadanie 5: ['Alice', 'has', '2', 'cats', 'and', '3', 'dogs.', 'Her', 'email', 'is', 'alice@example.com.', \"Bob's\", 'email', 'is', 'bob123@example.org.', 'They', 'love', 'to', 'visit', 'https://example.com', 'and', 'http://example.org.', \"Alice's\", 'phone', 'number', 'is', '123-456-7890.']\n"
     ]
    }
   ],
   "source": [
    "pattern = r'\\s+'\n",
    "words = re.split(pattern, text)\n",
    "print(\"Zadanie 5:\", words)"
   ]
  },
  {
   "cell_type": "markdown",
   "id": "fb759825-c903-413a-a9dc-a576474a5d57",
   "metadata": {},
   "source": [
    "#### 6. Zamień wszystkie cyfry na znak \"#\""
   ]
  },
  {
   "cell_type": "code",
   "execution_count": 12,
   "id": "9f9c81e9-ac05-444a-b49a-51b4d8e2c020",
   "metadata": {},
   "outputs": [
    {
     "name": "stdout",
     "output_type": "stream",
     "text": [
      "Zadanie 6: Alice has # cats and # dogs. Her email is alice@example.com. Bob's email is bob###@example.org. \n",
      "They love to visit https://example.com and http://example.org. Alice's phone number is ###-###-####.\n"
     ]
    }
   ],
   "source": [
    "pattern = r'\\d'\n",
    "result = re.sub(pattern, '#', text)\n",
    "print(\"Zadanie 6:\", result)"
   ]
  },
  {
   "cell_type": "markdown",
   "id": "64cb0cd8-665e-450d-ab76-75a25af31c92",
   "metadata": {},
   "source": [
    "#### 7. Skompiluj wyrażenie regularne do znajdowania numerów telefonów w formacie XXX-XXX-XXXX i znajdź wszystkie numery w tekście"
   ]
  },
  {
   "cell_type": "code",
   "execution_count": 13,
   "id": "b8a539e2-dec0-4efa-8b65-8d50613a762e",
   "metadata": {},
   "outputs": [
    {
     "name": "stdout",
     "output_type": "stream",
     "text": [
      "Zadanie 7: ['123-456-7890']\n"
     ]
    }
   ],
   "source": [
    "phone_pattern = re.compile(r'\\d{3}-\\d{3}-\\d{4}')\n",
    "result = phone_pattern.findall(text)\n",
    "print(\"Zadanie 7:\", result)"
   ]
  },
  {
   "cell_type": "markdown",
   "id": "0a55ff19-4e08-415a-884f-38575d6e2772",
   "metadata": {},
   "source": [
    "#### 8. Znajdź wszystkie adresy e-mail w tekście"
   ]
  },
  {
   "cell_type": "code",
   "execution_count": 14,
   "id": "6c944451-bd98-4db2-9c2c-dbfbf8defe2e",
   "metadata": {},
   "outputs": [
    {
     "name": "stdout",
     "output_type": "stream",
     "text": [
      "Zadanie 8: ['alice@example.com', 'bob123@example.org']\n"
     ]
    }
   ],
   "source": [
    "pattern = r'\\b\\w+@\\w+\\.\\w+\\b'\n",
    "result = re.findall(pattern, text)\n",
    "print(\"Zadanie 8:\", result)"
   ]
  }
 ],
 "metadata": {
  "kernelspec": {
   "display_name": "Python 3 (ipykernel)",
   "language": "python",
   "name": "python3"
  },
  "language_info": {
   "codemirror_mode": {
    "name": "ipython",
    "version": 3
   },
   "file_extension": ".py",
   "mimetype": "text/x-python",
   "name": "python",
   "nbconvert_exporter": "python",
   "pygments_lexer": "ipython3",
   "version": "3.12.4"
  }
 },
 "nbformat": 4,
 "nbformat_minor": 5
}
